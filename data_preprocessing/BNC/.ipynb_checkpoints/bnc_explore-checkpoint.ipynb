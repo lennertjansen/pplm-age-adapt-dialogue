{
 "cells": [
  {
   "cell_type": "code",
   "execution_count": 108,
   "id": "raising-sixth",
   "metadata": {
    "tags": []
   },
   "outputs": [],
   "source": [
    "# Imports\n",
    "%matplotlib inline\n",
    "\n",
    "# Import statements\n",
    "import os # for directory operations\n",
    "import numpy as np # for numerical/linear algebra methods\n",
    "import pandas as pd # for data(frame) processing\n",
    "import pdb # for debudding\n",
    "import matplotlib.pyplot as plt # for plotting\n",
    "import seaborn as sns # for cool plotting\n",
    "import re # for regular expression\n",
    "import nltk # natural language processing toolkit\n",
    "from sklearn.feature_extraction.text import CountVectorizer\n",
    "from sklearn.preprocessing import MultiLabelBinarizer\n",
    "from sklearn.model_selection import train_test_split\n",
    "from sklearn.multiclass import OneVsRestClassifier\n",
    "from sklearn.multioutput import MultiOutputClassifier\n",
    "from sklearn.linear_model import LogisticRegression\n",
    "from sklearn.metrics import accuracy_score\n",
    "from sklearn.metrics import f1_score\n",
    "from sklearn.metrics import average_precision_score\n",
    "from sklearn.metrics import recall_score\n",
    "from sklearn.metrics import confusion_matrix\n",
    "from sklearn.metrics import ConfusionMatrixDisplay\n",
    "from langdetect import detect, detect_langs # for language detection\n",
    "from tqdm.notebook import tqdm, trange\n",
    "import time\n",
    "import math\n",
    "from collections import Counter\n",
    "import spacy\n",
    "import pickle\n",
    "import ast\n",
    "from collections import Counter"
   ]
  },
  {
   "cell_type": "code",
   "execution_count": 109,
   "id": "challenging-utility",
   "metadata": {},
   "outputs": [],
   "source": [
    "# GLOBAL VARIABLES\n",
    "PLOT_DIMS = (11.7, 8.27)\n",
    "LABEL_SIZE = 25\n",
    "TICK_SIZE=20"
   ]
  },
  {
   "cell_type": "code",
   "execution_count": 110,
   "id": "pharmaceutical-distinction",
   "metadata": {},
   "outputs": [],
   "source": [
    "data = pd.read_csv(\"dialogs_metadata.csv\")"
   ]
  },
  {
   "cell_type": "markdown",
   "id": "developing-minority",
   "metadata": {},
   "source": [
    "### NB: Filter-step 1 (i.e., only keep conversations with 2 participants) has been performed already. "
   ]
  },
  {
   "cell_type": "code",
   "execution_count": 111,
   "id": "traditional-service",
   "metadata": {},
   "outputs": [
    {
     "data": {
      "text/html": [
       "<div>\n",
       "<style scoped>\n",
       "    .dataframe tbody tr th:only-of-type {\n",
       "        vertical-align: middle;\n",
       "    }\n",
       "\n",
       "    .dataframe tbody tr th {\n",
       "        vertical-align: top;\n",
       "    }\n",
       "\n",
       "    .dataframe thead th {\n",
       "        text-align: right;\n",
       "    }\n",
       "</style>\n",
       "<table border=\"1\" class=\"dataframe\">\n",
       "  <thead>\n",
       "    <tr style=\"text-align: right;\">\n",
       "      <th></th>\n",
       "      <th>conv_id</th>\n",
       "      <th>n_utterances</th>\n",
       "      <th>n_tokens</th>\n",
       "      <th>topics</th>\n",
       "      <th>type</th>\n",
       "      <th>speaker1_id</th>\n",
       "      <th>speaker1_age_cat</th>\n",
       "      <th>speaker1_gender</th>\n",
       "      <th>speaker1_educ</th>\n",
       "      <th>speaker2_id</th>\n",
       "      <th>speaker2_age_cat</th>\n",
       "      <th>speaker2_gender</th>\n",
       "      <th>speaker2_educ</th>\n",
       "    </tr>\n",
       "  </thead>\n",
       "  <tbody>\n",
       "    <tr>\n",
       "      <th>0</th>\n",
       "      <td>S24A</td>\n",
       "      <td>127</td>\n",
       "      <td>1757</td>\n",
       "      <td>['the art']</td>\n",
       "      <td>['discussing', 'explaining', 'inquiring']</td>\n",
       "      <td>S0261</td>\n",
       "      <td>40_49</td>\n",
       "      <td>M</td>\n",
       "      <td>4_graduate</td>\n",
       "      <td>S0262</td>\n",
       "      <td>40_49</td>\n",
       "      <td>F</td>\n",
       "      <td>5_postgrad</td>\n",
       "    </tr>\n",
       "    <tr>\n",
       "      <th>1</th>\n",
       "      <td>S27D</td>\n",
       "      <td>802</td>\n",
       "      <td>6327</td>\n",
       "      <td>['health', 'politics', 'finance', 'tv']</td>\n",
       "      <td>['discussing', 'explaining', 'complaining']</td>\n",
       "      <td>S0024</td>\n",
       "      <td>30_39</td>\n",
       "      <td>F</td>\n",
       "      <td>5_postgrad</td>\n",
       "      <td>S0144</td>\n",
       "      <td>30_39</td>\n",
       "      <td>M</td>\n",
       "      <td>5_postgrad</td>\n",
       "    </tr>\n",
       "    <tr>\n",
       "      <th>2</th>\n",
       "      <td>S28F</td>\n",
       "      <td>2776</td>\n",
       "      <td>26817</td>\n",
       "      <td>['menopause', 'reflexology', 'chakra', 'family...</td>\n",
       "      <td>['discussing', 'explaining', 'advising', 'requ...</td>\n",
       "      <td>S0255</td>\n",
       "      <td>40_49</td>\n",
       "      <td>F</td>\n",
       "      <td>4_graduate</td>\n",
       "      <td>S0315</td>\n",
       "      <td>30_39</td>\n",
       "      <td>F</td>\n",
       "      <td>2_secondary</td>\n",
       "    </tr>\n",
       "    <tr>\n",
       "      <th>3</th>\n",
       "      <td>S29X</td>\n",
       "      <td>330</td>\n",
       "      <td>2774</td>\n",
       "      <td>['art course running at the time', 'plus old i...</td>\n",
       "      <td>['discussing', 'explaining', 'inquiring', 'ane...</td>\n",
       "      <td>S0486</td>\n",
       "      <td>60_69</td>\n",
       "      <td>F</td>\n",
       "      <td>4_graduate</td>\n",
       "      <td>S0642</td>\n",
       "      <td>70_79</td>\n",
       "      <td>M</td>\n",
       "      <td>4_graduate</td>\n",
       "    </tr>\n",
       "    <tr>\n",
       "      <th>4</th>\n",
       "      <td>S2A5</td>\n",
       "      <td>233</td>\n",
       "      <td>1818</td>\n",
       "      <td>['meeting; making arrangements for going to lo...</td>\n",
       "      <td>['discussing']</td>\n",
       "      <td>S0024</td>\n",
       "      <td>30_39</td>\n",
       "      <td>F</td>\n",
       "      <td>5_postgrad</td>\n",
       "      <td>S0144</td>\n",
       "      <td>30_39</td>\n",
       "      <td>M</td>\n",
       "      <td>5_postgrad</td>\n",
       "    </tr>\n",
       "  </tbody>\n",
       "</table>\n",
       "</div>"
      ],
      "text/plain": [
       "  conv_id  n_utterances  n_tokens  \\\n",
       "0    S24A           127      1757   \n",
       "1    S27D           802      6327   \n",
       "2    S28F          2776     26817   \n",
       "3    S29X           330      2774   \n",
       "4    S2A5           233      1818   \n",
       "\n",
       "                                              topics  \\\n",
       "0                                        ['the art']   \n",
       "1            ['health', 'politics', 'finance', 'tv']   \n",
       "2  ['menopause', 'reflexology', 'chakra', 'family...   \n",
       "3  ['art course running at the time', 'plus old i...   \n",
       "4  ['meeting; making arrangements for going to lo...   \n",
       "\n",
       "                                                type speaker1_id  \\\n",
       "0          ['discussing', 'explaining', 'inquiring']       S0261   \n",
       "1        ['discussing', 'explaining', 'complaining']       S0024   \n",
       "2  ['discussing', 'explaining', 'advising', 'requ...       S0255   \n",
       "3  ['discussing', 'explaining', 'inquiring', 'ane...       S0486   \n",
       "4                                     ['discussing']       S0024   \n",
       "\n",
       "  speaker1_age_cat speaker1_gender speaker1_educ speaker2_id speaker2_age_cat  \\\n",
       "0            40_49               M    4_graduate       S0262            40_49   \n",
       "1            30_39               F    5_postgrad       S0144            30_39   \n",
       "2            40_49               F    4_graduate       S0315            30_39   \n",
       "3            60_69               F    4_graduate       S0642            70_79   \n",
       "4            30_39               F    5_postgrad       S0144            30_39   \n",
       "\n",
       "  speaker2_gender speaker2_educ  \n",
       "0               F    5_postgrad  \n",
       "1               M    5_postgrad  \n",
       "2               F   2_secondary  \n",
       "3               M    4_graduate  \n",
       "4               M    5_postgrad  "
      ]
     },
     "execution_count": 111,
     "metadata": {},
     "output_type": "execute_result"
    }
   ],
   "source": [
    "data.head()"
   ]
  },
  {
   "cell_type": "code",
   "execution_count": 112,
   "id": "applied-christopher",
   "metadata": {
    "tags": []
   },
   "outputs": [
    {
     "data": {
      "text/html": [
       "<div>\n",
       "<style scoped>\n",
       "    .dataframe tbody tr th:only-of-type {\n",
       "        vertical-align: middle;\n",
       "    }\n",
       "\n",
       "    .dataframe tbody tr th {\n",
       "        vertical-align: top;\n",
       "    }\n",
       "\n",
       "    .dataframe thead th {\n",
       "        text-align: right;\n",
       "    }\n",
       "</style>\n",
       "<table border=\"1\" class=\"dataframe\">\n",
       "  <thead>\n",
       "    <tr style=\"text-align: right;\">\n",
       "      <th></th>\n",
       "      <th>n_utterances</th>\n",
       "      <th>n_tokens</th>\n",
       "    </tr>\n",
       "  </thead>\n",
       "  <tbody>\n",
       "    <tr>\n",
       "      <th>count</th>\n",
       "      <td>622.000000</td>\n",
       "      <td>622.000000</td>\n",
       "    </tr>\n",
       "    <tr>\n",
       "      <th>mean</th>\n",
       "      <td>736.186495</td>\n",
       "      <td>7752.729904</td>\n",
       "    </tr>\n",
       "    <tr>\n",
       "      <th>std</th>\n",
       "      <td>599.829829</td>\n",
       "      <td>5600.593348</td>\n",
       "    </tr>\n",
       "    <tr>\n",
       "      <th>min</th>\n",
       "      <td>67.000000</td>\n",
       "      <td>819.000000</td>\n",
       "    </tr>\n",
       "    <tr>\n",
       "      <th>25%</th>\n",
       "      <td>333.500000</td>\n",
       "      <td>3835.000000</td>\n",
       "    </tr>\n",
       "    <tr>\n",
       "      <th>50%</th>\n",
       "      <td>541.500000</td>\n",
       "      <td>6102.000000</td>\n",
       "    </tr>\n",
       "    <tr>\n",
       "      <th>75%</th>\n",
       "      <td>923.500000</td>\n",
       "      <td>10249.250000</td>\n",
       "    </tr>\n",
       "    <tr>\n",
       "      <th>max</th>\n",
       "      <td>4859.000000</td>\n",
       "      <td>39575.000000</td>\n",
       "    </tr>\n",
       "  </tbody>\n",
       "</table>\n",
       "</div>"
      ],
      "text/plain": [
       "       n_utterances      n_tokens\n",
       "count    622.000000    622.000000\n",
       "mean     736.186495   7752.729904\n",
       "std      599.829829   5600.593348\n",
       "min       67.000000    819.000000\n",
       "25%      333.500000   3835.000000\n",
       "50%      541.500000   6102.000000\n",
       "75%      923.500000  10249.250000\n",
       "max     4859.000000  39575.000000"
      ]
     },
     "execution_count": 112,
     "metadata": {},
     "output_type": "execute_result"
    }
   ],
   "source": [
    "data.describe(include = [np.number])"
   ]
  },
  {
   "cell_type": "code",
   "execution_count": 113,
   "id": "covered-target",
   "metadata": {},
   "outputs": [
    {
     "data": {
      "text/html": [
       "<div>\n",
       "<style scoped>\n",
       "    .dataframe tbody tr th:only-of-type {\n",
       "        vertical-align: middle;\n",
       "    }\n",
       "\n",
       "    .dataframe tbody tr th {\n",
       "        vertical-align: top;\n",
       "    }\n",
       "\n",
       "    .dataframe thead th {\n",
       "        text-align: right;\n",
       "    }\n",
       "</style>\n",
       "<table border=\"1\" class=\"dataframe\">\n",
       "  <thead>\n",
       "    <tr style=\"text-align: right;\">\n",
       "      <th></th>\n",
       "      <th>conv_id</th>\n",
       "      <th>topics</th>\n",
       "      <th>type</th>\n",
       "      <th>speaker1_id</th>\n",
       "      <th>speaker1_age_cat</th>\n",
       "      <th>speaker1_gender</th>\n",
       "      <th>speaker1_educ</th>\n",
       "      <th>speaker2_id</th>\n",
       "      <th>speaker2_age_cat</th>\n",
       "      <th>speaker2_gender</th>\n",
       "      <th>speaker2_educ</th>\n",
       "    </tr>\n",
       "  </thead>\n",
       "  <tbody>\n",
       "    <tr>\n",
       "      <th>count</th>\n",
       "      <td>622</td>\n",
       "      <td>622</td>\n",
       "      <td>622</td>\n",
       "      <td>622</td>\n",
       "      <td>622</td>\n",
       "      <td>622</td>\n",
       "      <td>622</td>\n",
       "      <td>622</td>\n",
       "      <td>622</td>\n",
       "      <td>622</td>\n",
       "      <td>622</td>\n",
       "    </tr>\n",
       "    <tr>\n",
       "      <th>unique</th>\n",
       "      <td>622</td>\n",
       "      <td>576</td>\n",
       "      <td>195</td>\n",
       "      <td>108</td>\n",
       "      <td>7</td>\n",
       "      <td>2</td>\n",
       "      <td>5</td>\n",
       "      <td>195</td>\n",
       "      <td>11</td>\n",
       "      <td>2</td>\n",
       "      <td>5</td>\n",
       "    </tr>\n",
       "    <tr>\n",
       "      <th>top</th>\n",
       "      <td>SFLB</td>\n",
       "      <td>[]</td>\n",
       "      <td>['discussing', 'explaining']</td>\n",
       "      <td>S0024</td>\n",
       "      <td>19_29</td>\n",
       "      <td>F</td>\n",
       "      <td>4_graduate</td>\n",
       "      <td>S0144</td>\n",
       "      <td>19_29</td>\n",
       "      <td>F</td>\n",
       "      <td>5_postgrad</td>\n",
       "    </tr>\n",
       "    <tr>\n",
       "      <th>freq</th>\n",
       "      <td>1</td>\n",
       "      <td>13</td>\n",
       "      <td>52</td>\n",
       "      <td>43</td>\n",
       "      <td>241</td>\n",
       "      <td>481</td>\n",
       "      <td>260</td>\n",
       "      <td>43</td>\n",
       "      <td>226</td>\n",
       "      <td>340</td>\n",
       "      <td>275</td>\n",
       "    </tr>\n",
       "  </tbody>\n",
       "</table>\n",
       "</div>"
      ],
      "text/plain": [
       "       conv_id topics                          type speaker1_id  \\\n",
       "count      622    622                           622         622   \n",
       "unique     622    576                           195         108   \n",
       "top       SFLB     []  ['discussing', 'explaining']       S0024   \n",
       "freq         1     13                            52          43   \n",
       "\n",
       "       speaker1_age_cat speaker1_gender speaker1_educ speaker2_id  \\\n",
       "count               622             622           622         622   \n",
       "unique                7               2             5         195   \n",
       "top               19_29               F    4_graduate       S0144   \n",
       "freq                241             481           260          43   \n",
       "\n",
       "       speaker2_age_cat speaker2_gender speaker2_educ  \n",
       "count               622             622           622  \n",
       "unique               11               2             5  \n",
       "top               19_29               F    5_postgrad  \n",
       "freq                226             340           275  "
      ]
     },
     "execution_count": 113,
     "metadata": {},
     "output_type": "execute_result"
    }
   ],
   "source": [
    "data.describe(include = ['O'])"
   ]
  },
  {
   "cell_type": "code",
   "execution_count": 114,
   "id": "instructional-secret",
   "metadata": {},
   "outputs": [
    {
     "data": {
      "text/plain": [
       "pandas.core.frame.DataFrame"
      ]
     },
     "execution_count": 114,
     "metadata": {},
     "output_type": "execute_result"
    }
   ],
   "source": [
    "type(data)"
   ]
  },
  {
   "cell_type": "code",
   "execution_count": 115,
   "id": "australian-rebound",
   "metadata": {
    "tags": []
   },
   "outputs": [
    {
     "data": {
      "text/plain": [
       "(622, 13)"
      ]
     },
     "execution_count": 115,
     "metadata": {},
     "output_type": "execute_result"
    }
   ],
   "source": [
    "data.shape\n",
    "# Dataset size after filter step 1 went from 1251 to 622.\n",
    "# Young vs. elder groups () e.g., 19_29 vs 50+ (maybe 40+?)\n",
    "# Classify on the dialogue-level or utterance-level?\n",
    "# Dialogue lengths (no. words, sentences etc.)\n",
    "# Focus on how much data we have, feasibility"
   ]
  },
  {
   "cell_type": "code",
   "execution_count": 116,
   "id": "egyptian-occurrence",
   "metadata": {},
   "outputs": [
    {
     "name": "stdout",
     "output_type": "stream",
     "text": [
      "Total number of utterances: 457908.\n"
     ]
    }
   ],
   "source": [
    "print(f\"Total number of utterances: {sum(data.n_utterances)}.\")"
   ]
  },
  {
   "cell_type": "code",
   "execution_count": 117,
   "id": "consecutive-public",
   "metadata": {},
   "outputs": [
    {
     "name": "stdout",
     "output_type": "stream",
     "text": [
      "Total number of tokens: 4822198.\n"
     ]
    }
   ],
   "source": [
    "print(f\"Total number of tokens: {sum(data.n_tokens)}.\")"
   ]
  },
  {
   "cell_type": "code",
   "execution_count": 118,
   "id": "fifth-foundation",
   "metadata": {},
   "outputs": [
    {
     "data": {
      "text/plain": [
       "Text(0.5, 1.0, 'Distribution of (speaker 1) age-groups over dialogues.')"
      ]
     },
     "execution_count": 118,
     "metadata": {},
     "output_type": "execute_result"
    },
    {
     "data": {
      "image/png": "[encoded data removed]",
      "text/plain": [
       "<Figure size 432x288 with 1 Axes>"
      ]
     },
     "metadata": {
      "needs_background": "light"
     },
     "output_type": "display_data"
    }
   ],
   "source": [
    "sns.histplot(data, x=\"speaker1_age_cat\", binwidth=3, stat=\"probability\")\n",
    "plt.title(\"Distribution of (speaker 1) age-groups over dialogues.\")"
   ]
  },
  {
   "cell_type": "code",
   "execution_count": 119,
   "id": "included-weekly",
   "metadata": {},
   "outputs": [
    {
     "data": {
      "text/plain": [
       "Text(0.5, 1.0, 'Distribution of (speaker 2) age-groups over dialogues.')"
      ]
     },
     "execution_count": 119,
     "metadata": {},
     "output_type": "execute_result"
    },
    {
     "data": {
      "image/png": "[encoded data removed]",
      "text/plain": [
       "<Figure size 432x288 with 1 Axes>"
      ]
     },
     "metadata": {
      "needs_background": "light"
     },
     "output_type": "display_data"
    }
   ],
   "source": [
    "sns.histplot(data, x=\"speaker2_age_cat\", binwidth=3, stat=\"probability\")\n",
    "plt.title(\"Distribution of (speaker 2) age-groups over dialogues.\")"
   ]
  },
  {
   "cell_type": "code",
   "execution_count": 125,
   "id": "liable-bangladesh",
   "metadata": {},
   "outputs": [
    {
     "data": {
      "image/png": "[encoded data removed]",
      "text/plain": [
       "<Figure size 842.4x595.44 with 1 Axes>"
      ]
     },
     "metadata": {
      "needs_background": "light"
     },
     "output_type": "display_data"
    }
   ],
   "source": [
    "# Density Plot and Histogram of number of utterances per dialogue\n",
    "fig, ax = plt.subplots(figsize=PLOT_DIMS)\n",
    "sns.distplot(data['n_utterances'], hist=True, kde=True, \n",
    "             bins=int(180/5), color = 'darkgreen', \n",
    "             hist_kws={'edgecolor':'black'},\n",
    "             kde_kws={'linewidth': 4})\n",
    "ax.set_title(\"Distribution of number of utterances per dialogue.\", size=LABEL_SIZE)\n",
    "ax.set_xlabel(\"No. utterances\", size=LABEL_SIZE)\n",
    "ax.set_ylabel(\"Density\", size=LABEL_SIZE)\n",
    "plt.setp(ax.get_xticklabels(), fontsize=TICK_SIZE)\n",
    "plt.setp(ax.get_yticklabels(), fontsize=TICK_SIZE)\n",
    "plt.grid(True)\n",
    "plt.tight_layout()\n",
    "plt.savefig('../../figures/bnc/bnc_utterance_kde.png')"
   ]
  },
  {
   "cell_type": "code",
   "execution_count": 126,
   "id": "greek-mountain",
   "metadata": {},
   "outputs": [
    {
     "name": "stderr",
     "output_type": "stream",
     "text": [
      "/Users/lennertjansen/miniconda3/envs/thesis/lib/python3.7/site-packages/seaborn/distributions.py:2557: FutureWarning: `distplot` is a deprecated function and will be removed in a future version. Please adapt your code to use either `displot` (a figure-level function with similar flexibility) or `histplot` (an axes-level function for histograms).\n",
      "  warnings.warn(msg, FutureWarning)\n"
     ]
    },
    {
     "data": {
      "image/png": "[encoded data removed]",
      "text/plain": [
       "<Figure size 842.4x595.44 with 1 Axes>"
      ]
     },
     "metadata": {
      "needs_background": "light"
     },
     "output_type": "display_data"
    }
   ],
   "source": [
    "# Density Plot and Histogram of no. tokens per dialogue\n",
    "fig, ax = plt.subplots(figsize=PLOT_DIMS)\n",
    "sns.distplot(data['n_tokens'], hist=True, kde=True, \n",
    "             bins=int(180/5), color = 'darkgreen', \n",
    "             hist_kws={'edgecolor':'black'},\n",
    "             kde_kws={'linewidth': 4})\n",
    "ax.set_title(\"Distribution of number of tokens per dialogue.\", size=LABEL_SIZE)\n",
    "ax.set_xlabel(\"No. tokens per dialogue\", size=LABEL_SIZE)\n",
    "ax.set_ylabel(\"Density\", size=LABEL_SIZE)\n",
    "plt.setp(ax.get_xticklabels(), fontsize=TICK_SIZE)\n",
    "plt.setp(ax.get_yticklabels(), fontsize=TICK_SIZE)\n",
    "plt.grid(True)\n",
    "plt.tight_layout()\n",
    "plt.savefig('../../figures/bnc/bnc_tokens_kde.png')"
   ]
  },
  {
   "cell_type": "markdown",
   "id": "specific-produce",
   "metadata": {},
   "source": []
  },
  {
   "cell_type": "code",
   "execution_count": 129,
   "id": "static-sequence",
   "metadata": {},
   "outputs": [
    {
     "data": {
      "text/plain": [
       "array(['40_49', '30_39', '60_69', '19_29', '50_59', '11_18', '70_79'],\n",
       "      dtype=object)"
      ]
     },
     "execution_count": 129,
     "metadata": {},
     "output_type": "execute_result"
    }
   ],
   "source": [
    "data.speaker1_age_cat.unique()"
   ]
  },
  {
   "cell_type": "code",
   "execution_count": 130,
   "id": "successful-ontario",
   "metadata": {},
   "outputs": [
    {
     "data": {
      "text/plain": [
       "array(['40_49', '30_39', '70_79', '19_29', '60_69', '50_59', '80_89',\n",
       "       '11_18', '90_99', '0_10', 'Unknown'], dtype=object)"
      ]
     },
     "execution_count": 130,
     "metadata": {},
     "output_type": "execute_result"
    }
   ],
   "source": [
    "data.speaker2_age_cat.unique()"
   ]
  },
  {
   "cell_type": "markdown",
   "id": "julian-soviet",
   "metadata": {},
   "source": [
    "### Filter step 2: remove all dialogues with speaker age category 'unknown', '0_10', or '11_18'"
   ]
  },
  {
   "cell_type": "code",
   "execution_count": 131,
   "id": "manual-montgomery",
   "metadata": {},
   "outputs": [],
   "source": [
    "age_cats_to_rm = ['Unknown', '0_10', '11_18']\n",
    "data.drop(data[data['speaker1_age_cat'].isin(age_cats_to_rm)].index, inplace=True)\n",
    "data.drop(data[data['speaker2_age_cat'].isin(age_cats_to_rm)].index, inplace=True)"
   ]
  },
  {
   "cell_type": "code",
   "execution_count": 132,
   "id": "cardiac-verse",
   "metadata": {},
   "outputs": [
    {
     "data": {
      "text/plain": [
       "array(['40_49', '30_39', '70_79', '19_29', '60_69', '80_89', '50_59',\n",
       "       '90_99'], dtype=object)"
      ]
     },
     "execution_count": 132,
     "metadata": {},
     "output_type": "execute_result"
    }
   ],
   "source": [
    "data.speaker2_age_cat.unique()"
   ]
  },
  {
   "cell_type": "code",
   "execution_count": 133,
   "id": "built-syria",
   "metadata": {},
   "outputs": [
    {
     "data": {
      "text/plain": [
       "array(['40_49', '30_39', '60_69', '19_29', '50_59', '70_79'], dtype=object)"
      ]
     },
     "execution_count": 133,
     "metadata": {},
     "output_type": "execute_result"
    }
   ],
   "source": [
    "data.speaker1_age_cat.unique()"
   ]
  },
  {
   "cell_type": "code",
   "execution_count": 134,
   "id": "working-cylinder",
   "metadata": {},
   "outputs": [
    {
     "data": {
      "text/plain": [
       "552"
      ]
     },
     "execution_count": 134,
     "metadata": {},
     "output_type": "execute_result"
    }
   ],
   "source": [
    "# dataset size after F.S. 2: 552 (70 removed)\n",
    "data.shape[0]"
   ]
  },
  {
   "cell_type": "code",
   "execution_count": 137,
   "id": "endangered-opera",
   "metadata": {},
   "outputs": [
    {
     "name": "stdout",
     "output_type": "stream",
     "text": [
      "Remaining dataset size: 552.\n",
      "Remaining number of utterances: 417595.\n",
      "Remaining number of tokens: 4417471.\n"
     ]
    }
   ],
   "source": [
    "print(f\"Remaining dataset size: {data.shape[0]}.\")\n",
    "print(f'Remaining number of utterances: {sum(data.n_utterances)}.')\n",
    "print(f'Remaining number of tokens: {sum(data.n_tokens)}.')"
   ]
  },
  {
   "cell_type": "code",
   "execution_count": 138,
   "id": "compressed-enhancement",
   "metadata": {},
   "outputs": [
    {
     "data": {
      "text/plain": [
       "19_29    236\n",
       "30_39    116\n",
       "40_49    111\n",
       "60_69     50\n",
       "50_59     27\n",
       "70_79     12\n",
       "Name: speaker1_age_cat, dtype: int64"
      ]
     },
     "execution_count": 138,
     "metadata": {},
     "output_type": "execute_result"
    }
   ],
   "source": [
    "# Age group counts\n",
    "data.speaker1_age_cat.value_counts()"
   ]
  },
  {
   "cell_type": "code",
   "execution_count": 139,
   "id": "czech-hampshire",
   "metadata": {},
   "outputs": [
    {
     "data": {
      "text/plain": [
       "19_29    225\n",
       "30_39    131\n",
       "60_69     70\n",
       "40_49     61\n",
       "50_59     41\n",
       "70_79     15\n",
       "90_99      6\n",
       "80_89      3\n",
       "Name: speaker2_age_cat, dtype: int64"
      ]
     },
     "execution_count": 139,
     "metadata": {},
     "output_type": "execute_result"
    }
   ],
   "source": [
    "data.speaker2_age_cat.value_counts()"
   ]
  },
  {
   "cell_type": "markdown",
   "id": "after-killer",
   "metadata": {},
   "source": [
    "sns.histplot(data, x=\"speaker1_age_cat\", binwidth=3, stat=\"probability\")"
   ]
  },
  {
   "cell_type": "code",
   "execution_count": 140,
   "id": "matched-newport",
   "metadata": {
    "tags": []
   },
   "outputs": [
    {
     "data": {
      "text/plain": [
       "<AxesSubplot:xlabel='speaker2_age_cat', ylabel='Probability'>"
      ]
     },
     "execution_count": 140,
     "metadata": {},
     "output_type": "execute_result"
    },
    {
     "data": {
      "image/png": "[encoded data removed]",
      "text/plain": [
       "<Figure size 432x288 with 1 Axes>"
      ]
     },
     "metadata": {
      "needs_background": "light"
     },
     "output_type": "display_data"
    }
   ],
   "source": [
    "sns.histplot(data, x=\"speaker2_age_cat\", binwidth=3, stat=\"probability\")"
   ]
  },
  {
   "cell_type": "markdown",
   "id": "developmental-lying",
   "metadata": {},
   "source": [
    "#### F.S. 3.0: get overview of all unique age categories between both speakers"
   ]
  },
  {
   "cell_type": "code",
   "execution_count": 49,
   "id": "indoor-brief",
   "metadata": {},
   "outputs": [],
   "source": [
    "# set(data.speaker1_age_cat.unique(), data.speaker2_age_cat.unique())"
   ]
  },
  {
   "cell_type": "markdown",
   "id": "racial-racing",
   "metadata": {},
   "source": [
    "# Filter step 3a) 19-29 vs. 50+"
   ]
  },
  {
   "cell_type": "code",
   "execution_count": null,
   "id": "suspended-dodge",
   "metadata": {},
   "outputs": [],
   "source": [
    "def age_regroup1(age_cat):\n",
    "    \n",
    "    \"\"\"\n",
    "    Takes age category and maps to alternate regrouping 1:\n",
    "    19_29 vs. 50+\n",
    "    \"\"\"\n",
    "    \n",
    "    if age_cat == '19_29':\n",
    "        return age_cat\n",
    "    elif age_cat == '30_39':\n",
    "        return age_cat\n",
    "    elif age_cat == '40_49':\n",
    "        return age_cat\n",
    "    else:\n",
    "        return '50_plus'\n",
    "    \n",
    "data['speaker1_alt1'] = data.speaker1_age_cat.apply(age_regroup1)\n",
    "data['speaker2_alt1'] = data.speaker2_age_cat.apply(age_regroup1)"
   ]
  },
  {
   "cell_type": "markdown",
   "id": "opening-devil",
   "metadata": {},
   "source": [
    "# Filter step 3b) 19-29 vs. 40+\n"
   ]
  },
  {
   "cell_type": "markdown",
   "id": "twenty-tourism",
   "metadata": {},
   "source": [
    "### (SKIP)Filter step 3a: only consider dialogues between people in same (smallest) age bin "
   ]
  },
  {
   "cell_type": "code",
   "execution_count": 50,
   "id": "altered-syracuse",
   "metadata": {},
   "outputs": [],
   "source": [
    "data_small_bin = data.drop(data[data['speaker1_age_cat'] != data['speaker2_age_cat']].index)"
   ]
  },
  {
   "cell_type": "code",
   "execution_count": 51,
   "id": "expensive-capability",
   "metadata": {},
   "outputs": [
    {
     "data": {
      "text/html": [
       "<div>\n",
       "<style scoped>\n",
       "    .dataframe tbody tr th:only-of-type {\n",
       "        vertical-align: middle;\n",
       "    }\n",
       "\n",
       "    .dataframe tbody tr th {\n",
       "        vertical-align: top;\n",
       "    }\n",
       "\n",
       "    .dataframe thead th {\n",
       "        text-align: right;\n",
       "    }\n",
       "</style>\n",
       "<table border=\"1\" class=\"dataframe\">\n",
       "  <thead>\n",
       "    <tr style=\"text-align: right;\">\n",
       "      <th></th>\n",
       "      <th>conv_id</th>\n",
       "      <th>n_utterances</th>\n",
       "      <th>speaker1_age_cat</th>\n",
       "      <th>speaker2_age_cat</th>\n",
       "      <th>topics</th>\n",
       "      <th>type</th>\n",
       "    </tr>\n",
       "  </thead>\n",
       "  <tbody>\n",
       "    <tr>\n",
       "      <th>0</th>\n",
       "      <td>S24A</td>\n",
       "      <td>127</td>\n",
       "      <td>40_49</td>\n",
       "      <td>40_49</td>\n",
       "      <td>['the art']</td>\n",
       "      <td>['discussing', 'explaining', 'inquiring']</td>\n",
       "    </tr>\n",
       "    <tr>\n",
       "      <th>1</th>\n",
       "      <td>S27D</td>\n",
       "      <td>802</td>\n",
       "      <td>30_39</td>\n",
       "      <td>30_39</td>\n",
       "      <td>['health', 'politics', 'finance', 'tv']</td>\n",
       "      <td>['discussing', 'explaining', 'complaining']</td>\n",
       "    </tr>\n",
       "    <tr>\n",
       "      <th>4</th>\n",
       "      <td>S2A5</td>\n",
       "      <td>233</td>\n",
       "      <td>30_39</td>\n",
       "      <td>30_39</td>\n",
       "      <td>['meeting; making arrangements for going to lo...</td>\n",
       "      <td>['discussing']</td>\n",
       "    </tr>\n",
       "    <tr>\n",
       "      <th>5</th>\n",
       "      <td>S2AJ</td>\n",
       "      <td>328</td>\n",
       "      <td>19_29</td>\n",
       "      <td>19_29</td>\n",
       "      <td>['food', 'old school friends', 'complaining ab...</td>\n",
       "      <td>['discussing', 'explaining', 'inquiring', 'com...</td>\n",
       "    </tr>\n",
       "    <tr>\n",
       "      <th>7</th>\n",
       "      <td>S2B5</td>\n",
       "      <td>508</td>\n",
       "      <td>30_39</td>\n",
       "      <td>30_39</td>\n",
       "      <td>['dogs', 'property', 'economics', 'health']</td>\n",
       "      <td>['discussing', 'explaining']</td>\n",
       "    </tr>\n",
       "  </tbody>\n",
       "</table>\n",
       "</div>"
      ],
      "text/plain": [
       "  conv_id  n_utterances speaker1_age_cat speaker2_age_cat  \\\n",
       "0    S24A           127            40_49            40_49   \n",
       "1    S27D           802            30_39            30_39   \n",
       "4    S2A5           233            30_39            30_39   \n",
       "5    S2AJ           328            19_29            19_29   \n",
       "7    S2B5           508            30_39            30_39   \n",
       "\n",
       "                                              topics  \\\n",
       "0                                        ['the art']   \n",
       "1            ['health', 'politics', 'finance', 'tv']   \n",
       "4  ['meeting; making arrangements for going to lo...   \n",
       "5  ['food', 'old school friends', 'complaining ab...   \n",
       "7        ['dogs', 'property', 'economics', 'health']   \n",
       "\n",
       "                                                type  \n",
       "0          ['discussing', 'explaining', 'inquiring']  \n",
       "1        ['discussing', 'explaining', 'complaining']  \n",
       "4                                     ['discussing']  \n",
       "5  ['discussing', 'explaining', 'inquiring', 'com...  \n",
       "7                       ['discussing', 'explaining']  "
      ]
     },
     "execution_count": 51,
     "metadata": {},
     "output_type": "execute_result"
    }
   ],
   "source": [
    "data_small_bin.head()"
   ]
  },
  {
   "cell_type": "code",
   "execution_count": 52,
   "id": "middle-ebony",
   "metadata": {},
   "outputs": [
    {
     "name": "stdout",
     "output_type": "stream",
     "text": [
      "['40_49' '30_39' '19_29' '60_69' '50_59']\n",
      "19_29    168\n",
      "30_39     77\n",
      "40_49     48\n",
      "60_69     27\n",
      "50_59      2\n",
      "Name: speaker1_age_cat, dtype: int64\n"
     ]
    }
   ],
   "source": [
    "print(data_small_bin.speaker1_age_cat.unique())\n",
    "print(data_small_bin.speaker1_age_cat.value_counts())"
   ]
  },
  {
   "cell_type": "code",
   "execution_count": 53,
   "id": "finnish-inspection",
   "metadata": {},
   "outputs": [
    {
     "data": {
      "text/plain": [
       "322"
      ]
     },
     "execution_count": 53,
     "metadata": {},
     "output_type": "execute_result"
    }
   ],
   "source": [
    "data_small_bin.shape[0]"
   ]
  },
  {
   "cell_type": "code",
   "execution_count": 54,
   "id": "registered-runner",
   "metadata": {},
   "outputs": [],
   "source": [
    "# Dataset size after F.S. 3a: 322 "
   ]
  },
  {
   "cell_type": "code",
   "execution_count": 55,
   "id": "horizontal-conditioning",
   "metadata": {},
   "outputs": [
    {
     "data": {
      "text/plain": [
       "237311"
      ]
     },
     "execution_count": 55,
     "metadata": {},
     "output_type": "execute_result"
    }
   ],
   "source": [
    "# Number of utterances\n",
    "sum(data_small_bin.n_utterances)"
   ]
  },
  {
   "cell_type": "code",
   "execution_count": 56,
   "id": "endless-mitchell",
   "metadata": {},
   "outputs": [
    {
     "data": {
      "text/plain": [
       "<AxesSubplot:xlabel='speaker1_age_cat', ylabel='Probability'>"
      ]
     },
     "execution_count": 56,
     "metadata": {},
     "output_type": "execute_result"
    },
    {
     "data": {
      "image/png": "[encoded data removed]",
      "text/plain": [
       "<Figure size 432x288 with 1 Axes>"
      ]
     },
     "metadata": {
      "needs_background": "light"
     },
     "output_type": "display_data"
    }
   ],
   "source": [
    "sns.histplot(data_small_bin, x=\"speaker1_age_cat\", binwidth=3, stat=\"probability\")"
   ]
  },
  {
   "cell_type": "code",
   "execution_count": 57,
   "id": "sapphire-national",
   "metadata": {},
   "outputs": [
    {
     "data": {
      "text/plain": [
       "<AxesSubplot:xlabel='speaker2_age_cat', ylabel='Probability'>"
      ]
     },
     "execution_count": 57,
     "metadata": {},
     "output_type": "execute_result"
    },
    {
     "data": {
      "image/png": "[encoded data removed]",
      "text/plain": [
       "<Figure size 432x288 with 1 Axes>"
      ]
     },
     "metadata": {
      "needs_background": "light"
     },
     "output_type": "display_data"
    }
   ],
   "source": [
    "sns.histplot(data_small_bin, x=\"speaker2_age_cat\", binwidth=3, stat=\"probability\")"
   ]
  },
  {
   "cell_type": "markdown",
   "id": "literary-vault",
   "metadata": {},
   "source": [
    "### Alternate re-groupings by age-category"
   ]
  },
  {
   "cell_type": "code",
   "execution_count": 58,
   "id": "norman-affairs",
   "metadata": {},
   "outputs": [
    {
     "data": {
      "text/plain": [
       "19_29    236\n",
       "30_39    116\n",
       "40_49    111\n",
       "60_69     50\n",
       "50_59     27\n",
       "70_79     12\n",
       "Name: speaker1_age_cat, dtype: int64"
      ]
     },
     "execution_count": 58,
     "metadata": {},
     "output_type": "execute_result"
    }
   ],
   "source": [
    "# Age group counts\n",
    "data.speaker1_age_cat.value_counts()"
   ]
  },
  {
   "cell_type": "code",
   "execution_count": 59,
   "id": "knowing-clone",
   "metadata": {},
   "outputs": [
    {
     "data": {
      "text/plain": [
       "19_29    225\n",
       "30_39    131\n",
       "60_69     70\n",
       "40_49     61\n",
       "50_59     41\n",
       "70_79     15\n",
       "90_99      6\n",
       "80_89      3\n",
       "Name: speaker2_age_cat, dtype: int64"
      ]
     },
     "execution_count": 59,
     "metadata": {},
     "output_type": "execute_result"
    }
   ],
   "source": [
    "data.speaker2_age_cat.value_counts()"
   ]
  },
  {
   "cell_type": "code",
   "execution_count": 60,
   "id": "trying-scholar",
   "metadata": {},
   "outputs": [
    {
     "data": {
      "text/html": [
       "<div>\n",
       "<style scoped>\n",
       "    .dataframe tbody tr th:only-of-type {\n",
       "        vertical-align: middle;\n",
       "    }\n",
       "\n",
       "    .dataframe tbody tr th {\n",
       "        vertical-align: top;\n",
       "    }\n",
       "\n",
       "    .dataframe thead th {\n",
       "        text-align: right;\n",
       "    }\n",
       "</style>\n",
       "<table border=\"1\" class=\"dataframe\">\n",
       "  <thead>\n",
       "    <tr style=\"text-align: right;\">\n",
       "      <th></th>\n",
       "      <th>conv_id</th>\n",
       "      <th>n_utterances</th>\n",
       "      <th>speaker1_age_cat</th>\n",
       "      <th>speaker2_age_cat</th>\n",
       "      <th>topics</th>\n",
       "      <th>type</th>\n",
       "    </tr>\n",
       "  </thead>\n",
       "  <tbody>\n",
       "    <tr>\n",
       "      <th>17</th>\n",
       "      <td>S2UT</td>\n",
       "      <td>744</td>\n",
       "      <td>50_59</td>\n",
       "      <td>80_89</td>\n",
       "      <td>['hand-thrown mugs', 'milk', 'weather', 'spide...</td>\n",
       "      <td>['discussing', 'anecdote telling']</td>\n",
       "    </tr>\n",
       "    <tr>\n",
       "      <th>140</th>\n",
       "      <td>S8WS</td>\n",
       "      <td>503</td>\n",
       "      <td>40_49</td>\n",
       "      <td>80_89</td>\n",
       "      <td>['welfare', 'work', 'police action', 'immigrat...</td>\n",
       "      <td>['discussing', 'anecdote telling', 'telling jo...</td>\n",
       "    </tr>\n",
       "    <tr>\n",
       "      <th>438</th>\n",
       "      <td>SQ37</td>\n",
       "      <td>1097</td>\n",
       "      <td>50_59</td>\n",
       "      <td>80_89</td>\n",
       "      <td>['birth of grandchild. being born abroad. what...</td>\n",
       "      <td>['discussingm explaining', 'inquiring', 'advis...</td>\n",
       "    </tr>\n",
       "  </tbody>\n",
       "</table>\n",
       "</div>"
      ],
      "text/plain": [
       "    conv_id  n_utterances speaker1_age_cat speaker2_age_cat  \\\n",
       "17     S2UT           744            50_59            80_89   \n",
       "140    S8WS           503            40_49            80_89   \n",
       "438    SQ37          1097            50_59            80_89   \n",
       "\n",
       "                                                topics  \\\n",
       "17   ['hand-thrown mugs', 'milk', 'weather', 'spide...   \n",
       "140  ['welfare', 'work', 'police action', 'immigrat...   \n",
       "438  ['birth of grandchild. being born abroad. what...   \n",
       "\n",
       "                                                  type  \n",
       "17                  ['discussing', 'anecdote telling']  \n",
       "140  ['discussing', 'anecdote telling', 'telling jo...  \n",
       "438  ['discussingm explaining', 'inquiring', 'advis...  "
      ]
     },
     "execution_count": 60,
     "metadata": {},
     "output_type": "execute_result"
    }
   ],
   "source": [
    "data[data.speaker2_age_cat == '80_89']"
   ]
  },
  {
   "cell_type": "code",
   "execution_count": 61,
   "id": "prescribed-montgomery",
   "metadata": {},
   "outputs": [
    {
     "data": {
      "text/html": [
       "<div>\n",
       "<style scoped>\n",
       "    .dataframe tbody tr th:only-of-type {\n",
       "        vertical-align: middle;\n",
       "    }\n",
       "\n",
       "    .dataframe tbody tr th {\n",
       "        vertical-align: top;\n",
       "    }\n",
       "\n",
       "    .dataframe thead th {\n",
       "        text-align: right;\n",
       "    }\n",
       "</style>\n",
       "<table border=\"1\" class=\"dataframe\">\n",
       "  <thead>\n",
       "    <tr style=\"text-align: right;\">\n",
       "      <th></th>\n",
       "      <th>conv_id</th>\n",
       "      <th>n_utterances</th>\n",
       "      <th>speaker1_age_cat</th>\n",
       "      <th>speaker2_age_cat</th>\n",
       "      <th>topics</th>\n",
       "      <th>type</th>\n",
       "    </tr>\n",
       "  </thead>\n",
       "  <tbody>\n",
       "    <tr>\n",
       "      <th>3</th>\n",
       "      <td>S29X</td>\n",
       "      <td>330</td>\n",
       "      <td>60_69</td>\n",
       "      <td>70_79</td>\n",
       "      <td>['art course running at the time', 'plus old i...</td>\n",
       "      <td>['discussing', 'explaining', 'inquiring', 'ane...</td>\n",
       "    </tr>\n",
       "    <tr>\n",
       "      <th>23</th>\n",
       "      <td>S33B</td>\n",
       "      <td>722</td>\n",
       "      <td>30_39</td>\n",
       "      <td>70_79</td>\n",
       "      <td>['language', 'hobbies', 'family', 'work', 'tra...</td>\n",
       "      <td>['discussing', 'explaining', 'inquiring']</td>\n",
       "    </tr>\n",
       "    <tr>\n",
       "      <th>93</th>\n",
       "      <td>S6J8</td>\n",
       "      <td>258</td>\n",
       "      <td>60_69</td>\n",
       "      <td>70_79</td>\n",
       "      <td>['childhood', 'life issues', 'family history',...</td>\n",
       "      <td>['discussing', 'explaining', 'inquiring', 'ane...</td>\n",
       "    </tr>\n",
       "    <tr>\n",
       "      <th>155</th>\n",
       "      <td>S9GP</td>\n",
       "      <td>1041</td>\n",
       "      <td>19_29</td>\n",
       "      <td>70_79</td>\n",
       "      <td>['paris', 'languages', 'travel', 'family', 'un...</td>\n",
       "      <td>['discussing', 'explaining', 'inquiring', 'ann...</td>\n",
       "    </tr>\n",
       "    <tr>\n",
       "      <th>156</th>\n",
       "      <td>S9HC</td>\n",
       "      <td>428</td>\n",
       "      <td>60_69</td>\n",
       "      <td>70_79</td>\n",
       "      <td>['local politics - planning applications; arra...</td>\n",
       "      <td>['discussing', 'explaining', 'inquiring', 'mak...</td>\n",
       "    </tr>\n",
       "    <tr>\n",
       "      <th>199</th>\n",
       "      <td>SBS5</td>\n",
       "      <td>124</td>\n",
       "      <td>60_69</td>\n",
       "      <td>70_79</td>\n",
       "      <td>['childhood memories of the war years.']</td>\n",
       "      <td>['discussing', 'explaining', 'inquiring', 'com...</td>\n",
       "    </tr>\n",
       "    <tr>\n",
       "      <th>233</th>\n",
       "      <td>SDEX</td>\n",
       "      <td>436</td>\n",
       "      <td>60_69</td>\n",
       "      <td>70_79</td>\n",
       "      <td>['military experience', 'career', 'meeting his...</td>\n",
       "      <td>['discussing', 'explaining', 'inquiring', 'ane...</td>\n",
       "    </tr>\n",
       "    <tr>\n",
       "      <th>249</th>\n",
       "      <td>SE58</td>\n",
       "      <td>773</td>\n",
       "      <td>19_29</td>\n",
       "      <td>70_79</td>\n",
       "      <td>['university', 'family members', 'art', 'trave...</td>\n",
       "      <td>['discussing', 'explaining', 'inquiring', 'ane...</td>\n",
       "    </tr>\n",
       "    <tr>\n",
       "      <th>396</th>\n",
       "      <td>SN7W</td>\n",
       "      <td>1707</td>\n",
       "      <td>40_49</td>\n",
       "      <td>70_79</td>\n",
       "      <td>['northern cyprus in the 60s and 70s', 'going ...</td>\n",
       "      <td>['discussing', 'explaining', 'inquiring', 'com...</td>\n",
       "    </tr>\n",
       "    <tr>\n",
       "      <th>426</th>\n",
       "      <td>SPM5</td>\n",
       "      <td>513</td>\n",
       "      <td>60_69</td>\n",
       "      <td>70_79</td>\n",
       "      <td>['control systems', 'mg cars', 'work ethics', ...</td>\n",
       "      <td>['discussing', 'explaining', 'inquiring', 'com...</td>\n",
       "    </tr>\n",
       "    <tr>\n",
       "      <th>433</th>\n",
       "      <td>SPY2</td>\n",
       "      <td>940</td>\n",
       "      <td>60_69</td>\n",
       "      <td>70_79</td>\n",
       "      <td>['career details as a producer for the bbc', '...</td>\n",
       "      <td>['discussing', 'explaining', 'inquiring', 'ano...</td>\n",
       "    </tr>\n",
       "    <tr>\n",
       "      <th>440</th>\n",
       "      <td>SQ63</td>\n",
       "      <td>325</td>\n",
       "      <td>60_69</td>\n",
       "      <td>70_79</td>\n",
       "      <td>['successful career inventing and marketing pr...</td>\n",
       "      <td>['discussing', 'explaining', 'inquiring', 'ane...</td>\n",
       "    </tr>\n",
       "    <tr>\n",
       "      <th>587</th>\n",
       "      <td>SYEZ</td>\n",
       "      <td>1570</td>\n",
       "      <td>40_49</td>\n",
       "      <td>70_79</td>\n",
       "      <td>['oisin development', 'alphabet', 'hyperlexia'...</td>\n",
       "      <td>['discussing', 'explaining', 'inquiring', 'adv...</td>\n",
       "    </tr>\n",
       "    <tr>\n",
       "      <th>607</th>\n",
       "      <td>SZJ5</td>\n",
       "      <td>252</td>\n",
       "      <td>19_29</td>\n",
       "      <td>70_79</td>\n",
       "      <td>['holidays']</td>\n",
       "      <td>['discussing']</td>\n",
       "    </tr>\n",
       "    <tr>\n",
       "      <th>616</th>\n",
       "      <td>SZT4</td>\n",
       "      <td>403</td>\n",
       "      <td>60_69</td>\n",
       "      <td>70_79</td>\n",
       "      <td>['swedish massage', 'hospice', 'nursery educat...</td>\n",
       "      <td>['discussing', 'enplaining', 'inquiring', 'com...</td>\n",
       "    </tr>\n",
       "  </tbody>\n",
       "</table>\n",
       "</div>"
      ],
      "text/plain": [
       "    conv_id  n_utterances speaker1_age_cat speaker2_age_cat  \\\n",
       "3      S29X           330            60_69            70_79   \n",
       "23     S33B           722            30_39            70_79   \n",
       "93     S6J8           258            60_69            70_79   \n",
       "155    S9GP          1041            19_29            70_79   \n",
       "156    S9HC           428            60_69            70_79   \n",
       "199    SBS5           124            60_69            70_79   \n",
       "233    SDEX           436            60_69            70_79   \n",
       "249    SE58           773            19_29            70_79   \n",
       "396    SN7W          1707            40_49            70_79   \n",
       "426    SPM5           513            60_69            70_79   \n",
       "433    SPY2           940            60_69            70_79   \n",
       "440    SQ63           325            60_69            70_79   \n",
       "587    SYEZ          1570            40_49            70_79   \n",
       "607    SZJ5           252            19_29            70_79   \n",
       "616    SZT4           403            60_69            70_79   \n",
       "\n",
       "                                                topics  \\\n",
       "3    ['art course running at the time', 'plus old i...   \n",
       "23   ['language', 'hobbies', 'family', 'work', 'tra...   \n",
       "93   ['childhood', 'life issues', 'family history',...   \n",
       "155  ['paris', 'languages', 'travel', 'family', 'un...   \n",
       "156  ['local politics - planning applications; arra...   \n",
       "199           ['childhood memories of the war years.']   \n",
       "233  ['military experience', 'career', 'meeting his...   \n",
       "249  ['university', 'family members', 'art', 'trave...   \n",
       "396  ['northern cyprus in the 60s and 70s', 'going ...   \n",
       "426  ['control systems', 'mg cars', 'work ethics', ...   \n",
       "433  ['career details as a producer for the bbc', '...   \n",
       "440  ['successful career inventing and marketing pr...   \n",
       "587  ['oisin development', 'alphabet', 'hyperlexia'...   \n",
       "607                                       ['holidays']   \n",
       "616  ['swedish massage', 'hospice', 'nursery educat...   \n",
       "\n",
       "                                                  type  \n",
       "3    ['discussing', 'explaining', 'inquiring', 'ane...  \n",
       "23           ['discussing', 'explaining', 'inquiring']  \n",
       "93   ['discussing', 'explaining', 'inquiring', 'ane...  \n",
       "155  ['discussing', 'explaining', 'inquiring', 'ann...  \n",
       "156  ['discussing', 'explaining', 'inquiring', 'mak...  \n",
       "199  ['discussing', 'explaining', 'inquiring', 'com...  \n",
       "233  ['discussing', 'explaining', 'inquiring', 'ane...  \n",
       "249  ['discussing', 'explaining', 'inquiring', 'ane...  \n",
       "396  ['discussing', 'explaining', 'inquiring', 'com...  \n",
       "426  ['discussing', 'explaining', 'inquiring', 'com...  \n",
       "433  ['discussing', 'explaining', 'inquiring', 'ano...  \n",
       "440  ['discussing', 'explaining', 'inquiring', 'ane...  \n",
       "587  ['discussing', 'explaining', 'inquiring', 'adv...  \n",
       "607                                     ['discussing']  \n",
       "616  ['discussing', 'enplaining', 'inquiring', 'com...  "
      ]
     },
     "execution_count": 61,
     "metadata": {},
     "output_type": "execute_result"
    }
   ],
   "source": [
    "data[data.speaker2_age_cat == '70_79']"
   ]
  },
  {
   "cell_type": "markdown",
   "id": "complex-berlin",
   "metadata": {},
   "source": [
    "#### Alternate regrouping 1: 19_29 vs. 30_39 vs. 40_99"
   ]
  },
  {
   "cell_type": "code",
   "execution_count": 62,
   "id": "alleged-number",
   "metadata": {},
   "outputs": [],
   "source": [
    "def age_regroup1(age_cat):\n",
    "    \n",
    "    \"\"\"\n",
    "    Takes age category and maps to alternate regrouping 1:\n",
    "    19_29 vs. 30_39 vs. 40_99\n",
    "    \"\"\"\n",
    "    \n",
    "    if age_cat == '19_29':\n",
    "        return age_cat\n",
    "    elif age_cat == '30_39':\n",
    "        return age_cat\n",
    "    else:\n",
    "        return '40_99'\n",
    "    \n",
    "data['speaker1_alt1'] = data.speaker1_age_cat.apply(age_regroup1)\n",
    "data['speaker2_alt1'] = data.speaker2_age_cat.apply(age_regroup1)"
   ]
  },
  {
   "cell_type": "code",
   "execution_count": 63,
   "id": "latter-antigua",
   "metadata": {},
   "outputs": [],
   "source": [
    "data_alt1 = data.drop(data[data['speaker1_alt1'] != data['speaker2_alt1']].index)"
   ]
  },
  {
   "cell_type": "code",
   "execution_count": 64,
   "id": "assigned-tragedy",
   "metadata": {},
   "outputs": [
    {
     "data": {
      "text/plain": [
       "<AxesSubplot:xlabel='speaker1_alt1', ylabel='Probability'>"
      ]
     },
     "execution_count": 64,
     "metadata": {},
     "output_type": "execute_result"
    },
    {
     "data": {
      "image/png": "[encoded data removed]",
      "text/plain": [
       "<Figure size 432x288 with 1 Axes>"
      ]
     },
     "metadata": {
      "needs_background": "light"
     },
     "output_type": "display_data"
    }
   ],
   "source": [
    "sns.histplot(data_alt1, x=\"speaker1_alt1\", binwidth=3, stat=\"probability\")"
   ]
  },
  {
   "cell_type": "code",
   "execution_count": 65,
   "id": "signed-romance",
   "metadata": {},
   "outputs": [
    {
     "data": {
      "text/plain": [
       "19_29    168\n",
       "40_99    137\n",
       "30_39     77\n",
       "Name: speaker1_alt1, dtype: int64"
      ]
     },
     "execution_count": 65,
     "metadata": {},
     "output_type": "execute_result"
    }
   ],
   "source": [
    "data_alt1.speaker1_alt1.value_counts()"
   ]
  },
  {
   "cell_type": "code",
   "execution_count": 66,
   "id": "indoor-interpretation",
   "metadata": {},
   "outputs": [
    {
     "data": {
      "text/plain": [
       "382"
      ]
     },
     "execution_count": 66,
     "metadata": {},
     "output_type": "execute_result"
    }
   ],
   "source": [
    "data_alt1.shape[0]"
   ]
  },
  {
   "cell_type": "code",
   "execution_count": 67,
   "id": "handled-garden",
   "metadata": {},
   "outputs": [
    {
     "data": {
      "text/plain": [
       "285922"
      ]
     },
     "execution_count": 67,
     "metadata": {},
     "output_type": "execute_result"
    }
   ],
   "source": [
    "sum(data_alt1.n_utterances)"
   ]
  },
  {
   "cell_type": "markdown",
   "id": "sublime-radar",
   "metadata": {},
   "source": [
    "#### Alternate regrouping 2:"
   ]
  },
  {
   "cell_type": "markdown",
   "id": "affected-machinery",
   "metadata": {},
   "source": [
    "## Topics"
   ]
  },
  {
   "cell_type": "code",
   "execution_count": 68,
   "id": "inappropriate-front",
   "metadata": {},
   "outputs": [],
   "source": [
    "topics_set = set()\n",
    "topics_counter = Counter\n",
    "for topic_list in data.topics:\n",
    "    topic_list = ast.literal_eval(topic_list)\n",
    "    topic_list = [re.sub(r'[^A-Za-z]+',' ', topic).strip() for topic in topic_list]\n",
    "    topics_set.update(topic_list)\n",
    "    topics_counter(topic_list)"
   ]
  },
  {
   "cell_type": "code",
   "execution_count": 69,
   "id": "third-engagement",
   "metadata": {},
   "outputs": [
    {
     "data": {
      "text/plain": [
       "1802"
      ]
     },
     "execution_count": 69,
     "metadata": {},
     "output_type": "execute_result"
    }
   ],
   "source": [
    "len(topics_set)"
   ]
  },
  {
   "cell_type": "code",
   "execution_count": 72,
   "id": "mental-leather",
   "metadata": {},
   "outputs": [
    {
     "name": "stdout",
     "output_type": "stream",
     "text": [
      "{'', 'future', 's haircuts', 'double peas in the freezer', 'theme parks', 'politicians', 'muse', 'homelessness charitable giving', 'border security', 'work ethic', 'start up companies', 'marketing', 'getting to the isle of white', 'homesickness sad', 'roads', 'reading', 'photographs', 'anon s daughter s plans', 'discussing current outfit', 'using passenger assistance on the railway', 'control systems', 'hometowns', 'monarchy', 'innovations in education', 'winter', 'retirement', 'not drinking', 'teas', 'a student protester', 'the band', 'badgers', 'hospice', 'movies', 'news items', 'the north east', 'climate change', 'having opinions expressing them', 'salt in food', 'spiritual matters', 'workable business plans', 'shamanism', 'putting on weight', 'cambridge university', 'message from a friend', 'the day', 'laughing at old pictures', 'anon', 'reality tv', 'birthday plans', 'fresh produce', 'social media friends', 'herbs', 'easter', 'cataloguing', 'going back to work', 'friends and family plans for the forthcoming week', 'welfare', 'a visitor anecdote', 'elderly women', 'weening', 'libraries', 'diets food', 'arrangements for the day', 'television programmes', 'night out', 'news', 'visiting relatives', 'geriatrics', 'trip to edinburgh london', 'bread', 'private students', 'eating animals ethics', 'work and conferences', 'family wedding', 'careers services', 'microwave endometrial ablation', 'sleep', 'school days', 'electronics', 'making a shopping list', 'the nhs', 'creative writing', 'parents', 'working abroad', 'anon s grandmother', 'opera', 'body hair', 'friendships', 'shaving', 'alphabets', 'curry', 'essex', 'wildlife conservation', 'losing our national identity', 'changing battery in electric candle', 'house', 'oil', 'supermarkets feeling best quorn range', 'personal situation', 'donations', 'new apartments', 'making dinner', 'household alterations', 'looking at internet', 'shopping', 'the lie', 'holidays', 'visit', 'houses', 'washing', 'daily routines', 'single parenthood', 'housing', 'making up after an argument', 'finding a good route into a city', 'family members and disease', 'paying the bill', 'mg cars', 'the lottery', 'identity', 'how hard it is to learn spanish different language learning methodologies nations where people speak two languages catalan castillian etc', 'lecturers', 'house prices', 'trying to get anon s shoes clean', 'christmas tree', 'food drink', 'anon s clubs', 'unachievable dreams', 'a level reforms', 'bicycle', 'gas and electricity costs', 'an accident in the home', 'teaching english', 'cross country', 'back gardens', 'destiny', 'death penalty in china', 'living arrangements and relationships', 'games for a youth group night', 'thorpe mp', 'language', 'happiness', 'celebrities', 'cinema and film', 'crafts', 'jennifer s career as a deputy head teacher', 'the facts of life', 'wahabi', 'religion', 'discussing the past day', 'the nursery next door', 'law', 'the boiler', 'beauty products', 'personal learning networks', 'jet lag', 'millennium dome', 'phones', 'local areas', 'portrait studios sales', 'travelling in rural areas', 'mice in the house', 'bringing my daughter from abroad to live here', 'christmas cards', 'health problems heart attack', 'family members expressing emotions in the nuclear family', 'secondary modern schools and grammar schools in the uk in the s and s', 'calendars', 'work politics', 'food poisoning', 'beauty', 'walking dead television programme', 'erectile dysfunction', 'choosing upholstery fabrics', 'literature', 'bishop s stortford', 'problem solving techniques', 'navigation', 'living in south korea', 'plans for the future', 'tibet', 'visit to china', 'rubbish collection', 'school', 'course mates', 'chinese guests', 'laptop', 'jobs', 'working out', 'fourteen year old wine', 'football partnership', 'middle east', 'smoking cigarettes', 'local library under threat of demolition', 'frylight', 'operation', 'malaysian dialect', 'camping', 'motels', 'shakespeare on tv', 'military experience', 'application at council planning committee meeting structure of the forthcoming', 'countryside', 'plastic bag charge', 'back pain', 'looking at houses on rightmove', 'donald trump', 'sign language classes', 'diy', 'anon s father', 'spartacus', 'feeding children', 'vegetarianism', 'netflix', 'old school friends', 'usa', 'bathroom d cor', 'fitness appearance', 'dirty shoes', 'nails', 'choosing and delivering a christmas present to friend', 'charities', 'sports', 'organic farming', 'staying out of london with friends', 'bars', 'weekend activities', 'northern cyprus in the s and s', 'killer whales', 'birthday cakes', 'linguistics recording', 'climate', 'the happiness project moving house to a different area country importance of happiness over money', 'money budgets', 'alphabet', 'general fitness', 'step parenting', 'guitar', 'politics racisim', 'illness', 'people from work', 'gender discrimination', 'bathrooms', 'plans for the evening', 'domestic issues', 'poetry', 'computer updates', 'hockey boots', 'spelling', 'football', 'daily routine vices cigarettes and alcohol common sense vs intelligence different cultures feminism', 'university students', 'getting a visa', 'some technical engineering subjects', 'talking about a music gig', 'car parking in central london', 'seminars', 'a friend s job', 'rugby world cup', 'libya', 'plans with boyfriend', 'blogs', 'telling anecdotes about the patrons of the restaurant', 'weather asthma', 'food preparation', 'trip', 'sea', 'packing for a holiday', 'barcelona', 'strategic directions for publishing companies and telecommunication companies i e mobile phone suppliers and service suppliers', 'increasing cost rail travel', 'buying suitable clothing for wet weather', 'selling anon s old house', 'living abroad', 'a native colleague', 'career professional development', 'weather and seasons', 'halloween parties', 'bling', 'arguing', 'paedophiles', 'redundancy', 'social relationships', 'consent', 'memory', 'tea', 'higher education and university students', 'university stress', 'social media', 'cathedrals', 'bad mouthing parents', 'leeds triathlon and disruption on june', 'christening', 'wifi', 'great british bake off', 'female equality', 'home decorating academic research project funding coffee italy water companies hadron collider', 'social behaviour', 'telomeres', 'chips', 'future weekend plans', 'cities', 'what venice used to be like', 'books and travel', 'dishonesty at work', 'starting a joint business', 'child benefits salaries for women motherhood and internet dating', 'creating a petition to save local library from demolition', 'exercising', 'internet followers', 'california road trip', 'how the last couple of days have gone', 'university topics', 'people', 'throat cancer', 'how we each spent the weekend', 'sense of belonging home', 'moving out', 'a play and an actor', 'moving to brighton', 'careers advice in schools', 'children s films', 'going out', 'shops', 'etc', 'drinking alcohol', 'finance', 'labour leadership election', 'physiotherapy', 'gardening', 'eating before the gym', 'getting lost in a city', 'smoking', 'careers', 'regulations making sales difficult buying and selling property house prices in this', 'hot air balloons', 'finances', 'science in schools', 'birdsong identification', 'baby nursery', 'current events', 'disagreement', 'children growing up', 'design', 'orchids', 'subjects for study at university sound recording', 'kayaking experiences', 'lloyd grossman', 'painting', 'postal service', 'changes in computers and computing', 'food and cooking', 'social', 'buying and selling on the internet', 'furniture', 'letter writing', 'working patterns', 'fried chicken', 'plans for christmas', 'road rage', 'trinkets', 'mutual friends', 'fishing', 'arrangements for birthdays', 'holiday', 'cats', 'chores', 'the paris attacks', 'tls', 'children s behaviour', 'trip to lancaster', 'words language', 'place names', 'internet problems', 'what to do for the tape consultation process business case rationale for location of new project organisation of local health services relationships with hospices patient health nursing of people at end of life politics and geography health budgets use of estate agents what new building might look like', 'british national corpus', 'language classes', 'home shopping parties', 'bags for life carrier bags local authority recycling and bin issues', 'travelling', 'spirit afterlife', 'fashion', 'the scottish referendum for independence', 'justice system', 'animal rights', 'online shopping', 'menu choices', 'the government', 'hitchhikers', 'antiques', 'books on amazon', 'catching up', 'plants', 'memories', 'hobbies', 'healthy eating', 'room', 'making plans', 'holiday in naples', 'villages', 'digital vs print', 'elitism', 'volunteering at computing museum', 'recordings', 'rented accommodation', 'come dine with me', 'teacher colleagues', 'husband', 'game play', 'graduate jobs', 'photos', 'writing a book', 'scary films', 'pregnancy', 'museums imax and d cinema public transport', 'shakespeare', 'work outs', 'the local area', 'career', 'relaxation techniques', 'politics', 'iceland', 'wales rugby', 'peanuts', 'plans', 'estate agents', 'a weekend away', 'weddings', 'the benefits of yoga', 'chocolate', 'rearranging cupboards', 'computer games for sale', 'holiday plans', 'studies', 'referendum', 'league of legends', 'morecambe', 'drama auditions', 'cataract operation on one eye finding lost objects through visualization the build up of unwanted objects in the home dogs moving about at night', 'electrics', 'charity', 'instagram', 'change in the area', 'skincare', 'the stay in bia ka tatrza ska', 'nhs', 'new socks', 'teaching learning a language', 'nuts', 'the heat', 'walmart', 'young people', 'cleaning', 'work and living situation legal problems with renting', 'twitter', 'driving road furniture', 'mortar and pestles', 'a friend s cat', 'christmas food', 'burns and the treatment given', 'journey home', 'the weather', 'cooking on a george foreman', 'injury', 'booking european rail train', 'the axis of evil', 'trains', 'anon is cooking toad in the hole for herself', 'working on farms', 'river thames', 'planning next few months getting rid of possessions doing too much a theory of life', 'interview for a masters', 'organising a party', 'death penalty', 'newspapers', 'music gigs', 'a neighbour', 'spiritual journeys', 'friendships and living with friends', 'swearing', 'piracy', 'anon s date', 'toilets', 'anon and anon are talking in the kitchen', 'talking about how much someone likes their job and career professional development ideas young people today talking about a colleague at work', 'present personal situation', 'computer problems', 'coat', 'unemployment', 'detention', 'interviews', 'tuitions fees', 'cash crops', 'people canoeing on the river exe', 'being in northern cyprus for the summer', 'anon s family', 'bikers', 'veg box deliveries', 'master s degrees', 'surnames and nicknames', 'injuries and health', 'publishing companies', 'breakfast', 'colleagues', 'teaching', 'animal treatment', 'south korea', 'europe', 'gossiping about the neighbour', 'and location rebels', 'mum s sewing', 'discussing students', 'weight loss', 'my colleague s previous profession in recruitment evaluation of academic literacy in a university lecturer s course', 'comets', 'olympics', 'baby classes', 'university work', 'capitalism', 'napping', 'tony blair', 'disabilities benefits', 'complaining about things', 'memories of our gardening set toy', 'bikes', 'west ham united', 'other stuff about our senior school', 'family memories', 'work leaving do', 'eating meat', 'returning home for a funeral', 'teachers', 'academic subjects', 'squatting', 'issues with down sizing and placement of specialist items', 'clearing the clutter travelling', 'san francisco', 'facebook app', 'budgets', 'family matters', 'clothes', 'using text messaging', 'old english', 'taxation', 'people celebrities', 'hospital appointments and medical procedures', 'dowsing', 'nostalgic stories', 'taking trains', 'shopping in cambridge', 'vaccination', 'making arrangements', 'tv and film', 'things i do not like', 'the baby starting nursery', 'looking at menu', 'dentist', 'issues around tidying out', 'lottery', 'weekend free time plans', 'toe nails', 'feeling tired', 'mnemonics', 'entrepreneurs', 'wisdom teeth', 'journeys', 'spanish', 'project brief university', 'media', 'spice', 'spam phone calls', 'alumni day', 'travel in asia', 'furniture in the house', 'mint', 'massages', 'mosquitoes', 'swedish massage', 'hysterectomy', 'sea lice', 'shower curtain', 'supermarkets', 'making plans for treat day saturday', 'alarm clocks', 'water quality', 'sex', 'learning how to drive', 'buying fish', 'childbirth', 'power cuts', 'clearing the clutter', 'talking on the radio', 'life issues', 'wildlife', 'kurdistan', 'france', 'names', 'fruit farms', 'baby names', 'magazines', 'wearing glasses', 'risk', 'discussing the menu in the hotel', 'the middle east culture', 'learning a language', 'science general activities anecdotes tv license studying jokes', 'life story anecdotes', 'about selling things to a shop in harehills', 'discussing norwich vs cambridge', 'weather', 'no info', 'friends family', 'traffic driving etiquette', 'lectures', 'money and budgets', 'birds', 'and some gardening concerns', 'academic work', 'what it s like teaching in higher education today', 'work and travel', 'spiders', 'eating', 'instructions', 'travel directions', 'american cup measurements', 'people leaving', 'finances between a couple', 'mobile phones', 'men', 'superstitions good luck bad luck sporting rituals', 'schedules', 'excellent tv programmes', 'sarcasm', 'talking about other friends', 'covent school anecdotes', 'housing and issues', 'plus old issues concerning old college', 'birth of grandchild being born abroad what things are like in france property', 'song lyrics', 'maldives', 'english counties and places', 'tv films', 'baby clothes', 'guests', 'tv shows', 'accent', 'urban farming initiatives', 'new research findings into getting a good night s sleep', 'past activities', 'cricket', 'present buying', 'renewable energy', 'international events', 'university societies', 'tradespeople', 'passives', 'advice about renovation projects for historic buildings', 'the great british sewing bee bbc tv programme', 'banking', 'housework', 'planning the next day', 'piano', 'artificial flavour', 'a small worm found in a box of raspberries', 'gadgets', 'family members and their lives telling a story involving family members', 'global warming', 'christmas and new year', 'pheromones', 'boot sales', 'how people use social media', 'arranged marriages', 'grandad', 'ordering a meal', 'socializing', 'liquidation', 'deciding where to go for the rest of the evening', 'nature vs nurture', 'resignation at work', 'extended family', 'australia', 'flatmates', 'a e', 'sister and baby', 'and discussing a pilot s flying ability', 'baby weening', 'the future and old age', 'cyclists', 'research', 'a who do you think you are story', 'vehicles', 'cooking', 'siri', 'clearing the clutter plans for later that day', 'anarchists and bureaucrats', 'recent christening', 'landmarks along the thames path', 'acupuncture', 'plans for the day anon is staying overnight in anon s home', 'teenagers', 'mortgages', 'lucky charms', 'planning a walk along the thames from woolwich to greenwich', 'friends', 'travelling in the eu', 'marriage', 'weights', 'scottish independence', 'nosebleeds', 'iphones', 'vegetables', 'bad joints', 'general catch up', 'james bond', 'a camping trip', 'architecture', 'types of food', 'scientific methods', 'tefl', 'teaching english in china', 'traffic', 'things to buy', 'halloween', 'pasties', 'glasses vs contacts', 'train journeys', 'holidays and baby', 'football strip designs', 'work ethics', 'cake', 'moving apartments', 'going to college', 'recent mail', 'superfoods', 'table plan seating arrangements', 'missing university seminars', 'anon s job', 'cafes', 'a bereaved friend', 'breakfast orders', 'communications with strangers', 'academic research', 'the past', 'happy valley tv show', 'hospitals', 'terminology', 'anon s low attendance', 'interpretation', 'state of mind', 'english', 'claiming benefits', 'house extension', 'plans for the afternoon', 'gender issues', 'internships', 'present situation', 'masters', 'meeting new people', 'changing careers', 'new house', 'gym', 'postcard of recent holiday', 'instructing how to use the finger detector instead of number code on iphone', 'tomorrow s plans', 'relationships with parents', 'schedule', 'student loans', 'animal harm', 'pintrest', 'dancing lessons', 'bank building society', 'international politics', 'christmas presents', 'portland maine', 'communal living', 'car park passes', 'reiki', 'knitting a bean bag', 'herbs spices', 'alcohol', 'visiting universities', 'going back to uni', 'meeting up family', 'wider family circle', 'school dinners', 'periods', 'roman history', 'teaching research methods', 'looking at light fittings on ebay', 'oxford', 'health mental and physical', 'partying', 'questioning what do isis stand for', 'linguistics', 'personal relationships', 'christmas lists', 'exercise health', 'exercise classes', 'favourite types of job', 'future holidays', 'university fees', 'what we have ordered', 'scruffy clothes', 'family business', 'history of a charitable building', 'food wastage', 'rugby payers', 'body language recognition', 'nlp', 'closed industries', 'oman', 'sport', 'yoga', 'eating out', 'the budget', 'career details as a producer for the bbc', 'issues with my mobility rollator', 'houses and mortgage', 'vultures', 'family members', 'the newly opened bistro', 'films', 'job interviews', 'silence', 'goals in life', 'work shifts', 'language teaching work', 'selling stuff', 'panel shows', 'industrialization', 'speed cameras licenses', 'boots', 'friendships relationships', 'flats', 'finding a parking spot', 'herbal treatments', 'finishing the thesis', 'going on holiday with family', 'physical fitness health issues', 'being sick', 'taxis', 'boyfriend problems', 'renewing visas', 'along', 'history', 'nicknames', 'bitching about girls', 'candles', 'holland', 'discussing a wedding', 'project management', 'visiting home', 'refugees immigrants', 'mot', 'ice skating hobbies', 'a friend who is struggling at work', 'soap operas', 'petrol crisis', 'marking exam scripts', 'kayaking', 'yummy mummies people posing', 'bidding for funds', 'friends and family', 'nokia', 'elt methodology', 'food', 'home decorating', 'university stresses', 'the me event next year and the involvement of women', 'others spending their inheritance', 'equipment', 'technology', 'airbnb', 'social networking', 'food and drink', 'o arena', 'annoyance', 'places', 'moving and living in brighton', 'local community', 'beer and cigarettes', 'translation', 'agreeing where to drive', 'free time', 'autism', 'dealing with death and grief', 'vikings', 'internet', 'travelling and doing business in foreign countries', 'romantic relationships', 'relationships', 'skiing holiday', 'a recent night out', 'family trees family ancestors and family history my mother s death and details about her disease our careers to date', 'nhs private healthcare', 'social story telling', 'days out', 'tv', 'new phone', 'work patterns', 'passport photos printing taking', 'german history and culture', 'tv violence', 'drinking', 'betting', 'people from the past', 'ebay orders', 'mobile telephony', 'the mental health stigma', 'planning what to eat', 'meeting his wife', 'women s clothes sizing', 'tuition fees', 'work and childhood', 'weaver fish', 'new job', 'shopping in east kent', 'ipads', 'disney movies', 'ivf', 'foreign languages', 'finland', 'gaming', 'christmas dinner', 'school uniform ties', 'wicken fen nature reserve', 'wechat', 'emily dickinson', 'inventory', 'documents', 'a pregnant student', 'cvs', 'online banking', 'metric and imperial', 'daily routines mornings', 'boyfriends', 'golf', 'music discussions', 'greetings', 'robots', 'local area compared with belfast transporting house contents to belfast by van by', 'cancer', 'weening the baby', 'prisons', 'ordering in ponglish', 'injuries', 'tectonics', 'family relationships', 'wallpapering', 'driving in rural areas', 'brother', 'bees', 'food preparation and consumption', 'gigs', 'the recording process', 'recording devices', 'hyperlexia', 'exhibitions', 'life expectations', 'where to have coffee', 'wwii', 'living with hippies in poland', 'time', 'talking about what they were going to do for the day', 'discussing another friend', 'hypothetical situations', 'language learning', 'boys', 'imaginary parties', 'previous owners of house', 'getting ready', 'issues about dave s front door and door keys', 'schools', 'gender equality', 'successful career inventing and marketing printing systems working in germany at exhibitions', 'vintage cups and saucers from ebay', 'cinemas', 'milk', 'going camping', 'dementia', 'planning an allotment', 'learning to row', 'grammar', 'anon at university', 'theatre', 'old people', 'planning work', 'cosmology', 'the dentist', 'places of work', 'relationships and potential affairs', 'the angel of the north', 'oisin development', 'film', 'gym again', 'vegan food', 'cars', 'marks and spencer food', 'valencia', 'education', 'songs', 'musicals', 'deserted medieval villages', 'ex boyfriends', 'aviation', 'school show', 'funeral arrangements', 'work colleagues in computing', 'connecting the internet', 'racism in football', 'disney films', 'devon', 'upcoming plans', 'catch up', 'politics in china', 'meeting friends', 'e cigarettes', 'spice mix', 'parties', 'environmental conservation', 'daily routine bedtime', 'drinking cultures', 'art', 'social media technologies', 'football likeable teams likeable sportsmen cricket students who went on to fame tickets affordability holidays ryanair easyjet university open days', 'aquaculture', 'teeth', 'life expectancy', 'holiday money', 'buying building renting a home', 'friends on facebook', 'planning for a charity rally visa application discussions', 'hair', 'other friends', 'fish and chips', 'stag and hen parties', 'giving directions', 'lighting a fire', 'witches', 'post', 'natural history', 'talking about how perception is different in each individual comparing experiences', 'blenders', 'airports', 'hawaii', 'norway', 'health problems', 'recipes', 'therapy', 'food banks', 'spain', 'asking about some experiences in northern cyprus', 'conspiracy theories', 'mobile notifications', 'telling the story about meeting up with a family member for the first time talking about the death of a family member and news about an illness in the family', 'family', 'sewing', 'stag weekends', 'chinese friends', 'work and friend s relationship with boyfriend', 'free food and syns in various foods', 'social services', 'discussing films', 'landmarks along the thames', 'psychology', 'auctions', 'gardening several times', 'death in family', 'sports sponsorship', 'weekend plans', 'scottish referendum', 'women s careers', 'eating habits', 'culture', 'job prospects', 'boy catches a pigeon', 'future planning', 'wealth', 'places in taunton', 'kids', 'day trips with children', 'study', 'buckwheat bread', 'dimensions and measurements', 'classics', 'desert', 'question formats', 'domestic chores', 'studying', 'wwii grandpa s experience in raf', 'drumming', 'neighbour noise', 'medicine', 'and personal life goals and interests', 'm s', 'buying a house', 'ghosts', 'damage to the property', 'facebook', 'catching train at leeds station', 'mobile technology', 'basque', 'how was your weekend football players young children snooker players gardening marking students work entry ino the police force and the armed forces', 'food and drink of venice', 'hypermobility', 'men women', 'paris', 'a visit to new york', 'confrontations', 'designing traffic systems', 'planning the following day', 'a levels', 'looking at social media images', 'nuclear power', 'getting to know where you live', 'modern medicine', 'the cooking', 'cruises', 'the art', 'timetabling', 'royal family', 'instruments', 'career plans', 'joint bank accounts', 'sleep patterns', 'feeding babies', 'learning styles', 'green party', 'communications', 'fat thursday ash wednesday', 'science', 'referencing', 'business', 'violence', 'talking girls', 'the working week', 'scotland', 'accident anecdotes', 'undergraduate degrees', 'acquaintances', 'self employed', 'mistaking race', 'life information', 'pubs', 'farming', 'hand thrown mugs', 'coconut cake and coffee', 'presents', 'advice about writing a research project', 'not owning a car', 'terrorism', 'sea food', 'dogs', 'indian restaurants', 'masterchef', 'boston', 'live and albums', 'creativity', 'journals', 'beaches', 'pollution', 'men and women in south korea', 'credit cards', 'chuggers', 'palliative care bereavement', 'comedy', 'emails', 'kelly brook', 'building', 'broken watch', 'irish speaking schools', 'playing scrabble', 'hearing aids', 'enterprise', 'alcohol drinking', 'lime trees', 'plants and gardening', 'bulbs gardening gardening accidents cutting logs it connections parents gas bills', 'cauliflower cheese with a roast', 'superstition', 'honeymoon', 'parks', 'computers', 'visiting the coast', 'form filling', 'local events', 'family children', 'supervisor position', 'souvenirs', 'dentists', 'barges', 'brain training', 'and population concerns in england', 'discussing the weekend', 'national parks', 'plans for a weekend', 'journalism', 'party', 'borrowing stuff', 'general life', 'bears in china', 'crime', 'interns', 'other family members', 'fireplace', 'malarials', 'deaths in the family', 'future careers', 'valentines day', 'anon s brother', 'grandchildren', 'beauty treatments', 'gym training', 'communication strategies learning materials and development of moving images case studies for educational purposes', 'friends and socialising', 'yorkshire', 'house renovation', 'dinner', 'gyms exercise', 'ageism', 'procrastinating', 'developing learning materials', 'utilities', 'house party', 'gym strength', 'gardens', 'managing difficulty', 'easter cakes', 'cooking techniques', 'a former colleague', 'pension', 'language use', 'previous job', 'the future', 'cartoons', 'holiday photos', 'mobiles', 'hampers', 'putting ads on gumtree', 'anon s brother and living abroad', 'conversion of a space activities taking place in the building generating income marketing the business buying new furniture relationships with tenants and users birds maintenance fire escapes storage holiday cover and arrangements staffing arrangements and pay upcoming bookings', 'flying lessons', 'clothes mum made for sue in the s and s', 'jeremy corbyn', 'memories of our bako building set', 'a break in mersea island', 'croquet', 'energy bills', 'punting', 'new labour', 'policemen', 'sharing clothes', 'church', 'memories of the s', 'inheritance', 'funny pictures on the internet', 'dad s birthday', 'salary', 'acting', 'snow', 'chickpeas', 'food allergies and diet', 'kitchens talk about friends', 'money', 'sleeping', 'current affairs', 'the domestic sphere', 'crosswords', 'la', 'saving money', 'anti ageing', 'getting things done', 'selling cds', 'german', 'electricals', 'anon s medication', 'nursery education', 'making plans to move to a different city place', 'delayed speech', 'book review', 'halloween party', 'weekend', 'cat', 'holes', 'visiting countries', 'outsider art', 'neighbours', 'dreams', 'writing', 'art exhibition', 'friday evening', 'underwear', 'conference', 'football premier league', 'early deaths', 'cinema', 'a local festival', 'social food', 'growing herbs', 'a student', 'decoupage', 'anon is helping and advising her talk about food', 'microphone positioning', 'biological research', 'a family friend', 'moving houses', 'accents', 'layout of the park', 'sixth form', 'moving house', 'local area', 'fox hunting', 'rowing', 'teaching marking', 'membership of a society', 'how we evaluate the work that we do in our jobs', 'netball', 'teenagers and kids bedrooms', 'horse racing', 'health exercise', 'the military', 'bbc good food show', 'university doubts', 'future plans', 'photography', 'planting out tomato plants', 'other people', 'planning', 'china', 'catching up with an old friend', 'proposal', 'drinking water', 'wife', 'talking about grief', 'french', 'diet', 'love', 'christmas', 'coaching techniques', 'tokyo', 'skill learning and winning', 'having and being treated for cancer knowledge and terminology attitudes of younger women to sex talking to and being examined by doctors symptoms screening and testing personal experiences types of cancer assisted fertility treatments process of investigation at hospital being given the news men s experience being a woman after surgery marital relations afterwards s feminist messages need for radical surgery', 'local community market', 'gossip about flatmate who got their taxi paid by', 'cigarettes', 'things around us', 'recycling electrical equipment', 'careers volunteering', 'family histories', 'chichester', 'playing mancala game', 'old age', 'holiday plans where to live plans', 'broken clothes', 'medical problems', 'advertising', 'local events chess the weather', 'asthma', 'saving', 'mcdonalds', 'travel', 'war stories', 'the location traditional bakery caf', 'family history', 'flooding in the lakes', 'trip expenses', 'restaurants', 'tourism in paris', 'safari type wildlife holiday', 'teaching tefl', 'gerentology', 'passing computers to computing museum', 'finding a pub', 'new technology', 'old jobs', 'going skiing in turkey', 'cost of living', 'ice skating', 'seasonal produce', 'independence', 'menopause', 'japanese wedding attire', 'targets', 'hairstyles', 'police action', 'food tastes', 'looking for a job', 'cookery', 'satnavs', 'buying food', 'students higher education studies and summer jobs part time work', 'mapping genotypes', 'tv series', 'divorce', 'recruitment', 'decorating', 'cheating', 'punctuality', 'local politics planning applications arrangements to attend a forthcoming planning', 'crossing paris', 'pets', 'staying in marin s flat', 'umbrellas', 'checking the football results', 'guardian articles', 'beer', 'dieting', 'racism', 'slimming world healthy extra options', 'private industries', 'friends involvement in the business', 'novel writing', 'international news', 'organising a dance', 'arranging weekend away', 'the english language', 'competition', 'you tube videos', 'arrangements', 'driving routes', 'a new bus route', 'estate agent', 'perfume', 'the trip to bia ka tatrza ska', 'health', 'running', 'religion private school studying at university religion versus science', 'drinking and alcohol', 'televisions', 'life', 'health of friend who has cancer houses for sale in the village and planning', 'transport', 'lovefilm', 'christmas and presents', 'travel plans', 'image', 'writing a job application for a media post', 'research groups', 'name origins', 'healthy food and drink', 'personality traits', 'nights out', 'sexism', 'crisps', 'board games', 'personal situations', 'scanning', 'dislike of sundays', 'comparing universities', 'blue peter badges', 'buses', 'wool', 'shopping in poland', 'reunions', 'cameras', 'a friend s stag party', 'lottery ticket', 'car boot sales', 'exhibition', 'dancing', 'jam', 'buying calendar fobs', 'the bin men', 'horrible documentaries', 'siblings', 'new marks and spencer', 'soul mates', 'd cor', 'museums', 'rainbows', 'personal information', 'd cor of pub', 'interview', 'anon s wife', 'mighty boosh', 'the route for the journey', 'family friends', 'work', 'ages on birthday cards', 'holiday homes', 'icons', 'gyms', 'the neighbourhood', 'politics of oil', 'repairing gutters', 'equine welfare', 'work methods', 'herbal remedy', 'having a cold', 'cambridge university press bookshop', 'graveyards', 'appraisal at work', 'st party', 'my dad wrote a porno podcasts', 'discuss tidying up a house', 'newcastle', 'physical characteristics', 'operations', 'birthday', 'property', 'a family member and his wedding', 'tv programmes', 'immortality', 'looking at photography', 'musicians', 'mental health', 'the weekend', 'nail care', 'work experience', 'and family planning', 'thesis', 'local borough decisions', 'lunch menu', 'daily activities', 'universities', 'uni', 'retail', 'break ups', 'buying online', 'setting personal goals', 'other shops in leeds', 'wider take on social history', 'right to buy', 'yellow pages', 'arrangements to see friends', 'racism and homophobia', 'recent night out', 'cultural differences', 'planning the day visits to open farm sunday', 'offices', 'citibikes', 'short holidays', 'a friend visiting germany', 'pizzas', 'immigration', 'pensions', 'the climate', 'pyramids', 'driving', 'cambridge', 'chinese birthdays', 'power lines', 'washing machine', 'things to do', 'disertation supervisees teaching arrangements job advertisments applicants', 'hotels', 'japan', 'neighbours moving house', 'moving out of london', 'sickness', 'singing', 'dowries', 'age', 'what the speakers see on the journey', 'travel arrangements', 'pay day', 'guitars', 'wwi and ii', 'different cultures', 'remembering the recording', 'philosophical questions', 'being english', 'music', 'charity work', 'travel plans arrangements', 'computer games', 'manchester', 'food combinations', 'work freelance opportunities', 'describing a perfect day', 'tidying out a cupboard', 'lunch', 'ict', 'boating', 'an ex boyfriend', 'university', 'home repairs', 'ailments', 'trapped television programme', 'mattresses', 'financial woes', 'social class', 'cycling', 'the conversation centres around what happens when you no longer wish to see friends and how to deal with this', 'adverts', 'addictions', 'game shows', 'french visitors to london chichester cathedral spire collapsing architect called porden open day and photo exhibition art competition argument about bollards local housing management failings of new landlord book being written by speaker no british library philip of spain and mary tudor experience of visiting spanish archives austrian battleship disaster historians', 'dairy intolerance', 'colleague', 'hiring a van', 'the olympics', 'government policy', 'childhood memories of the war years', 'viral videos', 'buildings maintaining old facades', 'parking', 'italy', 'leeds', 'library charges and paying fines', 'chakra', 'friendship', 'fundraising tips', 'great north run', 'problems', 'a colleague', 'my daughter', 'difficulties at coping with university', 'learning languages', 'babies', 'sobriety', 'what to have for supper and other meals', 'breaking up', 'housemates', 'weight lifting', 'plans for the week', 'exercise', 'habits', 'friends relationships', 'publicity', 'baby', 'dresses', 'time off', 'designing a glass door', 'students', 'colloquialisms', 'podcasts', 'discussing joining up with friends', 'house problems', 'death', 'health and illness', 'ideas for a small online business', 'awards shows', 'junk mail', 'past homes', 'skills show', 'tennis', 'pandas', 'career change differences of career change for men and women', 'student performance', 'tattoos', 'living arrangements', 'weight and diets', 'celebrities tv radio', 'visiting friends', 'the end of wwii', 'flights', 'commuting', 'land', 'our grandparents house', 'take away', 'valentine s day', 'books', 'setting phones', 'calorie syrup', 'upcoming family events', 'websites', 'greece', 'drugs', 'writing a dissertation', 'suicide', 'being a fussy eater', 'complaining', 'some friends of anon', 'boxing', 'job seekers allowance', 'good coffee', 'public relations', 'local council', 'energy resources', 'a comparison of education', 'essays', 'the rat race employment ambitions', 'teaching styles', 'living in japan where they met', 'travel and domestic arrangements', 'art course running at the time', 'stake', 'meal', 'family members and friends body weight and image diets nutrition', 'refuse collection', 'local authority trees outside anon s house', 'change of career and lifestyle', 'how to overcome problem of strings breaking methods involved including using cable ties materials dimensions positioning weight costing trailing the ideas discussion on the use of the word fleet use of product in primary school v secondary school cutting ear lobe and stripe in hair by mistake marketing the idea dragons den resulting new haircut', 'unpaid internships', 'mice', 'petrol stations', 'learning to count in turkish', 'savings and interest', 'food preferences', 'education and behaviour', 'business idea', 'bands', 'going to cultural events such as going to the opera', 'recent news', 'birthdays', 'academia', 'weather conditions', 'coffee', 'festivals', 'allergies', 'directions', 'keys', 'collapse of bhs', 'trip to tanzania', 'addiction', 'hills', 'feeding birds', 'looking at pictures', 'moodle', 'facebook culling', 'women s clothes shoes boots sizing and styles', 'feeling responsible for students and preparing them for exams', 'discussing a friend s situation', 'sources of funds to convert churches', 'exams', 'meeting making arrangements for going to local dramatic performance discussing', 'anti fascist march', 'visiting periods in history', 'fitness', 'ceilidhs', 'tea and biscuits', 'discussing the restaurant menu', 'housing situations', 'model engineering', 'corpus linguistics', 'landscape and wildlife in china', 'training', 'porn', 'recording conversations', 'day s activities', 'previous generations', 'cooking supper', 'health issues', 'urban development', 'pudding', 'gymming', 'walking', 'other things from primary school', 'experiences of receiving text notifications', 'home life', 'art and craft at school', 'chewing gum', 'unreliable scales', 'cv job applications', 'reflexology', 'social arrangements friends', 'discussing a friend getting a dog', 'geek fashion', 'fast food', 'television', 'job interview', 'game of thrones', 'childhood', 'business strategies', 'job seeking', 'academic writing', 'tax', 'children s lives', 'second hand purchases', 'survival', 'cambridgeshire', 'house auction and improvements', 'roadworks', 'children', 'dyslexia', 'the bellend church', 'diabetes', 'phd supervision', 'media and sociology', 'd cor and furniture of various houses', 'brighton hove', 'music bands', 'bonfire night', 'cockle disaster', 'skiing', 'friends lives', 'renting buildings', 'race relations', 'stress', 'flowers', 'dropping out of university', 'great dorset steam fair', 'knitting', 'friendship issues', 'moving house item list', 'pizza', 'shakra', 'languages', 'singing and composers', 'economics', 'online forums', 'family life', 'holiday activities', 'indian food', 'weight', 'recording', 'future year plans', 'the internet', 'grades', 'fireworks', 'judge judy'}\n"
     ]
    }
   ],
   "source": [
    "print(topics_set)"
   ]
  },
  {
   "cell_type": "code",
   "execution_count": null,
   "id": "hazardous-pathology",
   "metadata": {},
   "outputs": [],
   "source": []
  }
 ],
 "metadata": {
  "kernelspec": {
   "display_name": "Python 3",
   "language": "python",
   "name": "python3"
  },
  "language_info": {
   "codemirror_mode": {
    "name": "ipython",
    "version": 3
   },
   "file_extension": ".py",
   "mimetype": "text/x-python",
   "name": "python",
   "nbconvert_exporter": "python",
   "pygments_lexer": "ipython3",
   "version": "3.7.10"
  }
 },
 "nbformat": 4,
 "nbformat_minor": 5
}
