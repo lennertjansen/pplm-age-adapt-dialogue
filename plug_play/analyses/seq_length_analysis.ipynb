{
 "cells": [
  {
   "cell_type": "markdown",
   "id": "engaging-armenia",
   "metadata": {},
   "source": [
    "# CTG Quantitative Analysis #1: The effects of sequence length"
   ]
  },
  {
   "cell_type": "code",
   "execution_count": 1,
   "id": "ambient-columbus",
   "metadata": {},
   "outputs": [],
   "source": [
    "# Imports\n",
    "%matplotlib inline\n",
    "\n",
    "import pandas as pd\n",
    "import numpy as np\n",
    "from pdb import set_trace\n",
    "import matplotlib.pyplot as plt\n",
    "import seaborn as sns"
   ]
  },
  {
   "cell_type": "code",
   "execution_count": 2,
   "id": "specific-sandwich",
   "metadata": {},
   "outputs": [],
   "source": [
    "# GLOBAL VARIABLES\n",
    "PLOT_DIMS = (11.7, 8.27)\n",
    "TITLE_SIZE = 30\n",
    "LABEL_SIZE = 25\n",
    "TICK_SIZE=20\n",
    "CI=95\n",
    "ERR_STYLE='band' # 'bars'"
   ]
  },
  {
   "cell_type": "code",
   "execution_count": 3,
   "id": "reduced-elimination",
   "metadata": {},
   "outputs": [],
   "source": [
    "## initial explorations\n",
    "# read csv of ctg results of a certain configuration/pplm-setup\n",
    "# Lets compare GPT2 | Discrim | Unprompted | Young vs Old\n",
    "# gpt2_disc_unp_y = pd.read_csv(\"../output/ctg_out_am_discrim_pm_gpt2-medium_wl_NA_age_young_WS.csv\", encoding=\"utf-8\")\n",
    "# gpt2_disc_unp_o = pd.read_csv(\"../output/ctg_out_am_discrim_pm_gpt2-medium_wl_NA_age_old_WS.csv\", encoding=\"utf-8\")\n",
    "\n",
    "\n",
    "# gpt2_bow_fb85_y = pd.read_csv(\"../output/ctg_out_am_bow_pm_gpt2-medium_wl_bnc_young_mcwu_ws_pct_85_age_young_WS.csv\", encoding=\"utf-8\")\n",
    "# gpt2_bow_fb85_o = pd.read_csv(\"../output/ctg_out_am_bow_pm_gpt2-medium_wl_bnc_old_mcwu_ws_pct_85_age_old_WS.csv\", encoding=\"utf-8\")\n",
    "\n",
    "# dgpt_disc_pr_y = pd.read_csv(\"../output/ctg_out_am_discrim_pm_microsoft-DialoGPT-medium_wl_NA_age_young_WS.csv\")\n",
    "# dgpt_disc_pr_o = pd.read_csv(\"../output/ctg_out_am_discrim_pm_microsoft-DialoGPT-medium_wl_NA_age_old_WS.csv\")"
   ]
  },
  {
   "cell_type": "code",
   "execution_count": 4,
   "id": "careful-helena",
   "metadata": {},
   "outputs": [],
   "source": [
    "# Neutral prompted results\n",
    "# GPT2-Discrim\n",
    "gpt2_disc_np_y = pd.read_csv(\"../output/neutral_prompt/gpt2-medium/ctg_out_am_discrim_pm_gpt2-medium_prompt_neutral_wl_NA_age_young_WS.csv\", encoding=\"utf-8\")\n",
    "gpt2_disc_np_o = pd.read_csv(\"../output/neutral_prompt/gpt2-medium/ctg_out_am_discrim_pm_gpt2-medium_prompt_neutral_wl_NA_age_old_WS.csv\", encoding=\"utf-8\")\n",
    "\n",
    "# GPT2-BoW-FB\n",
    "gpt2_bow_fb_np_y = pd.read_csv(\"../output/neutral_prompt/gpt2-medium/ctg_out_am_bow_pm_gpt2-medium_prompt_neutral_wl_bnc_young_mcwu_ws_pct_85_age_young_WS.csv\", encoding=\"utf-8\")\n",
    "gpt2_bow_fb_np_o = pd.read_csv(\"../output/neutral_prompt/gpt2-medium/ctg_out_am_bow_pm_gpt2-medium_prompt_neutral_wl_bnc_old_mcwu_ws_pct_85_age_old_WS.csv\", encoding=\"utf-8\")\n",
    "\n",
    "# DGPT-Discrim\n",
    "dgpt_disc_np_y = pd.read_csv(\"../output/neutral_prompt/microsoft-DialoGPT-medium/ctg_out_am_discrim_pm_microsoft-DialoGPT-medium_prompt_neutral_wl_NA_age_young_WS.csv\", encoding=\"utf-8\")\n",
    "dgpt_disc_np_o = pd.read_csv(\"../output/neutral_prompt/microsoft-DialoGPT-medium/ctg_out_am_discrim_pm_microsoft-DialoGPT-medium_prompt_neutral_wl_NA_age_old_WS.csv\", encoding=\"utf-8\")\n",
    "\n",
    "# DGPT-BoW-MIU\n",
    "dgpt_bow_miu_np_y = pd.read_csv(\"../output/neutral_prompt/microsoft-DialoGPT-medium/ctg_out_am_bow_pm_microsoft-DialoGPT-medium_prompt_neutral_wl_bnc_rb_WS_100_mi_unigrams_young_age_young_WS.csv\", encoding=\"utf-8\")\n",
    "dgpt_bow_miu_np_o = pd.read_csv(\"../output/neutral_prompt/microsoft-DialoGPT-medium/ctg_out_am_bow_pm_microsoft-DialoGPT-medium_prompt_neutral_wl_bnc_rb_WS_100_mi_unigrams_old_age_old_WS.csv\", encoding=\"utf-8\")"
   ]
  },
  {
   "cell_type": "code",
   "execution_count": 5,
   "id": "thrown-allergy",
   "metadata": {},
   "outputs": [],
   "source": [
    "# Drop first 30 rows because sequences too short\n",
    "gpt2_disc_np_y = gpt2_disc_np_y.iloc[30:] \n",
    "gpt2_disc_np_o = gpt2_disc_np_o.iloc[30:]\n",
    "\n",
    "gpt2_bow_fb_np_y = gpt2_bow_fb_np_y.iloc[30:]\n",
    "gpt2_bow_fb_np_o = gpt2_bow_fb_np_o.iloc[30:]\n",
    "\n",
    "dgpt_disc_np_y = dgpt_disc_np_y.iloc[30:]\n",
    "dgpt_disc_np_o = dgpt_disc_np_o.iloc[30:]\n",
    "\n",
    "dgpt_bow_miu_np_y = dgpt_bow_miu_np_y.iloc[30:]\n",
    "dgpt_bow_miu_np_o = dgpt_bow_miu_np_o.iloc[30:]"
   ]
  },
  {
   "cell_type": "code",
   "execution_count": 6,
   "id": "acting-debate",
   "metadata": {},
   "outputs": [
    {
     "name": "stdout",
     "output_type": "stream",
     "text": [
      "GPT2-Disc Y/O ppl\n",
      "32.0906511147817\n",
      "47.149694545561495\n",
      "GPT2-BoW-FB Y/O ppl\n",
      "27.91258231268989\n",
      "27.583914594297056\n",
      "DGPT-Disc Y/O ppl\n",
      "42.005378170084334\n",
      "41.17472008599175\n",
      "DGPT-BoW-MIU Y/O ppl\n",
      "38.66622588546188\n",
      "37.90971698054561\n"
     ]
    }
   ],
   "source": [
    "print(\"GPT2-Disc Y/O ppl\")\n",
    "print(gpt2_disc_np_y.perplexity.mean())\n",
    "print(gpt2_disc_np_o.perplexity.mean())\n",
    "\n",
    "print(\"GPT2-BoW-FB Y/O ppl\")\n",
    "print(gpt2_bow_fb_np_y.perplexity.mean())\n",
    "print(gpt2_bow_fb_np_o.perplexity.mean())\n",
    "\n",
    "print(\"DGPT-Disc Y/O ppl\")\n",
    "print(dgpt_disc_np_y.perplexity.mean())\n",
    "print(dgpt_disc_np_o.perplexity.mean())\n",
    "\n",
    "print(\"DGPT-BoW-MIU Y/O ppl\")\n",
    "print(dgpt_bow_miu_np_y.perplexity.mean())\n",
    "print(dgpt_bow_miu_np_o.perplexity.mean())"
   ]
  },
  {
   "cell_type": "code",
   "execution_count": 41,
   "id": "rapid-formula",
   "metadata": {},
   "outputs": [
    {
     "data": {
      "text/plain": [
       "(array([115.,  19.,   7.,   5.,   8.,  13.,  13.,  10.,  11.,  69.]),\n",
       " array([0.001018  , 0.10080948, 0.20060096, 0.30039243, 0.40018391,\n",
       "        0.49997539, 0.59976687, 0.69955835, 0.79934982, 0.8991413 ,\n",
       "        0.99893278]),\n",
       " <BarContainer object of 10 artists>)"
      ]
     },
     "execution_count": 41,
     "metadata": {},
     "output_type": "execute_result"
    },
    {
     "data": {
      "image/png": "[encoded data removed]",
      "text/plain": [
       "<Figure size 432x288 with 1 Axes>"
      ]
     },
     "metadata": {
      "needs_background": "light"
     },
     "output_type": "display_data"
    }
   ],
   "source": [
    "plt.hist(gpt2_bow_fb_np_o.old_prob)"
   ]
  },
  {
   "cell_type": "code",
   "execution_count": 35,
   "id": "separated-toddler",
   "metadata": {},
   "outputs": [
    {
     "data": {
      "image/png": "[encoded data removed]",
      "text/plain": [
       "<Figure size 360x1080 with 3 Axes>"
      ]
     },
     "metadata": {
      "needs_background": "light"
     },
     "output_type": "display_data"
    }
   ],
   "source": [
    "from matplotlib import colors\n",
    "\n",
    "fig, axs = plt.subplots(3, 1, figsize=(5, 15), sharex=True, sharey=True,\n",
    "                        tight_layout=True)\n",
    "\n",
    "# We can increase the number of bins on each axis\n",
    "axs[0].hist2d(gpt2_disc_np_y.perplexity, gpt2_disc_np_y.young_prob, bins=(10,20))\n",
    "\n",
    "# As well as define normalization of the color\n",
    "axs[1].hist2d(gpt2_disc_np_y.perplexity, gpt2_disc_np_y.young_prob, bins=5, norm=colors.LogNorm())\n",
    "\n",
    "# We can also define custom numbers of bins for each axis\n",
    "axs[2].hist2d(gpt2_disc_np_y.perplexity, gpt2_disc_np_y.young_prob, bins=(10, 20), norm=colors.LogNorm())\n",
    "\n",
    "plt.show()\n"
   ]
  },
  {
   "cell_type": "code",
   "execution_count": null,
   "id": "textile-nashville",
   "metadata": {},
   "outputs": [],
   "source": [
    "def add_correct_col(prob):\n",
    "    '''\n",
    "    Adds column to ctg results dataframe indicating if BERT correctly classified generated sequence. 1 if correct, 0 otherwise.\n",
    "    Args:\n",
    "        prob (float): assigned probability of belonging to relevant age group\n",
    "    '''\n",
    "    \n",
    "    assert 0 <= prob <= 1\n",
    "    \n",
    "    return 1 if prob >= 0.5 else 0\n",
    "    "
   ]
  },
  {
   "cell_type": "code",
   "execution_count": null,
   "id": "initial-system",
   "metadata": {},
   "outputs": [],
   "source": [
    "# Add correct column\n",
    "gpt2_disc_np_y['correct'] = gpt2_disc_np_y['young_prob'].apply(add_correct_col)\n",
    "gpt2_disc_np_o['correct'] = gpt2_disc_np_o['old_prob'].apply(add_correct_col)"
   ]
  },
  {
   "cell_type": "code",
   "execution_count": null,
   "id": "extensive-commonwealth",
   "metadata": {},
   "outputs": [],
   "source": [
    "gpt2_bow_fb_np_y['correct'] = gpt2_bow_fb_np_y['young_prob'].apply(add_correct_col)\n",
    "gpt2_bow_fb_np_o['correct'] = gpt2_bow_fb_np_o['old_prob'].apply(add_correct_col)"
   ]
  },
  {
   "cell_type": "code",
   "execution_count": null,
   "id": "flush-norway",
   "metadata": {},
   "outputs": [],
   "source": [
    "dgpt_disc_np_y['correct'] = dgpt_disc_np_y['young_prob'].apply(add_correct_col)\n",
    "dgpt_disc_np_o['correct'] = dgpt_disc_np_o['old_prob'].apply(add_correct_col)"
   ]
  },
  {
   "cell_type": "code",
   "execution_count": null,
   "id": "legitimate-fundamentals",
   "metadata": {},
   "outputs": [],
   "source": [
    "dgpt_bow_miu_np_y['correct'] = dgpt_bow_miu_np_y['young_prob'].apply(add_correct_col)\n",
    "dgpt_bow_miu_np_o['correct'] = dgpt_bow_miu_np_o['old_prob'].apply(add_correct_col)"
   ]
  },
  {
   "cell_type": "code",
   "execution_count": null,
   "id": "aquatic-pitch",
   "metadata": {},
   "outputs": [],
   "source": [
    "print(\"GPT2-Disc Y/O acc\")\n",
    "print(gpt2_disc_np_y.correct.mean())\n",
    "print(gpt2_disc_np_o.correct.mean())\n",
    "\n",
    "print(\"GPT2-BoW-FB Y/O acc\")\n",
    "print(gpt2_bow_fb_np_y.correct.mean())\n",
    "print(gpt2_bow_fb_np_o.correct.mean())\n",
    "\n",
    "print(\"DGPT-Disc Y/O acc\")\n",
    "print(dgpt_disc_np_y.correct.mean())\n",
    "print(dgpt_disc_np_o.correct.mean())\n",
    "\n",
    "print(\"DGPT-BoW-MIU Y/O acc\")\n",
    "print(dgpt_bow_miu_np_y.correct.mean())\n",
    "print(dgpt_bow_miu_np_o.correct.mean())"
   ]
  },
  {
   "cell_type": "code",
   "execution_count": null,
   "id": "foreign-capture",
   "metadata": {},
   "outputs": [],
   "source": [
    "# Binning the data\n",
    "bins = [0, 10, 20, 30, 40, 100]\n",
    "bin_labels = [\"0-10\", \"10-20\", \"20-30\", \"30-40\", \"40+\"]\n",
    "gpt2_disc_np_y['length_binned'] = pd.cut(gpt2_disc_np_y['text_length'], bins=bins, labels=bin_labels)\n",
    "gpt2_disc_np_o['length_binned'] = pd.cut(gpt2_disc_np_o['text_length'], bins=bins, labels=bin_labels)\n",
    "\n",
    "gpt2_bow_fb_np_y['length_binned'] = pd.cut(gpt2_bow_fb_np_y['text_length'], bins=bins, labels=bin_labels)\n",
    "gpt2_bow_fb_np_o['length_binned'] = pd.cut(gpt2_bow_fb_np_o['text_length'], bins=bins, labels=bin_labels)\n",
    "\n",
    "dgpt_disc_np_y['length_binned'] = pd.cut(dgpt_disc_np_y['text_length'], bins=bins, labels=bin_labels)\n",
    "dgpt_disc_np_o['length_binned'] = pd.cut(dgpt_disc_np_o['text_length'], bins=bins, labels=bin_labels)\n",
    "\n",
    "dgpt_bow_miu_np_y['length_binned'] = pd.cut(dgpt_bow_miu_np_y['text_length'], bins=bins, labels=bin_labels)\n",
    "dgpt_bow_miu_np_o['length_binned'] = pd.cut(dgpt_bow_miu_np_o['text_length'], bins=bins, labels=bin_labels)"
   ]
  },
  {
   "cell_type": "code",
   "execution_count": null,
   "id": "moving-madonna",
   "metadata": {},
   "outputs": [],
   "source": [
    "gpt2_disc_np_y['length_binned'].value_counts()"
   ]
  },
  {
   "cell_type": "code",
   "execution_count": null,
   "id": "invalid-somerset",
   "metadata": {
    "tags": []
   },
   "outputs": [],
   "source": [
    "gpt2_disc_np_o['length_binned'].value_counts()"
   ]
  },
  {
   "cell_type": "code",
   "execution_count": null,
   "id": "civilian-tongue",
   "metadata": {},
   "outputs": [],
   "source": [
    "gpt2_bow_fb_np_y['length_binned'].value_counts()"
   ]
  },
  {
   "cell_type": "code",
   "execution_count": null,
   "id": "critical-hands",
   "metadata": {},
   "outputs": [],
   "source": [
    "gpt2_bow_fb_np_o['length_binned'].value_counts()"
   ]
  },
  {
   "cell_type": "code",
   "execution_count": null,
   "id": "respected-career",
   "metadata": {
    "tags": []
   },
   "outputs": [],
   "source": [
    "dgpt_disc_np_y['length_binned'].value_counts()"
   ]
  },
  {
   "cell_type": "code",
   "execution_count": null,
   "id": "bound-removal",
   "metadata": {
    "tags": []
   },
   "outputs": [],
   "source": [
    "dgpt_disc_np_o['length_binned'].value_counts()"
   ]
  },
  {
   "cell_type": "code",
   "execution_count": null,
   "id": "mineral-wound",
   "metadata": {},
   "outputs": [],
   "source": [
    "dgpt_bow_miu_np_y['length_binned'].value_counts()"
   ]
  },
  {
   "cell_type": "code",
   "execution_count": null,
   "id": "related-motivation",
   "metadata": {},
   "outputs": [],
   "source": [
    "dgpt_bow_miu_np_o['length_binned'].value_counts()"
   ]
  },
  {
   "cell_type": "code",
   "execution_count": null,
   "id": "laughing-touch",
   "metadata": {},
   "outputs": [],
   "source": [
    "dgpt_bow_miu_np_y['perplexity'].describe()"
   ]
  },
  {
   "cell_type": "code",
   "execution_count": null,
   "id": "humanitarian-surrey",
   "metadata": {},
   "outputs": [],
   "source": [
    "# gpt2_disc_unp_y.hist(x='text_length', y='perplexity')\n",
    "plt.figure(figsize=PLOT_DIMS)\n",
    "sns.set_style(\"whitegrid\")\n",
    "\n",
    "sns.lineplot(data=gpt2_disc_np_y, x='length_binned', y='perplexity', marker=\"v\", ci=CI, label='GPT2-Disc Young', err_style=ERR_STYLE, linewidth=3)\n",
    "sns.lineplot(data=gpt2_disc_np_o, x='length_binned', y='perplexity', marker=\"o\", ci=CI, label='GPT2-Disc Old', err_style=ERR_STYLE, linewidth=3)\n",
    "\n",
    "sns.lineplot(data=gpt2_bow_fb_np_y, x='length_binned', y='perplexity', marker=\"v\", ci=CI, label='GPT2-BoW Young', err_style=ERR_STYLE, linewidth=3)\n",
    "sns.lineplot(data=gpt2_bow_fb_np_o, x='length_binned', y='perplexity', marker=\"o\", ci=CI, label='GPT2-BoW Old', err_style=ERR_STYLE, linewidth=3)\n",
    "\n",
    "# sns.lineplot(data=dgpt_disc_np_y, x='length_binned', y='perplexity', marker=\"v\", ci=CI, label='DGPT-Disc Young', err_style=ERR_STYLE, linewidth=3)\n",
    "# sns.lineplot(data=dgpt_disc_np_o, x='length_binned', y='perplexity', marker=\"v\", ci=CI, label='DGPT-Disc Old', err_style=ERR_STYLE, linewidth=3)\n",
    "\n",
    "# sns.lineplot(data=dgpt_bow_miu_np_y, x='length_binned', y='perplexity', marker=\"v\", ci=CI, label='DGPT-BoW Young', err_style=ERR_STYLE, linewidth=3)\n",
    "# sns.lineplot(data=dgpt_bow_miu_np_o, x='length_binned', y='perplexity', marker=\"o\", ci=CI, label='DGPT-BoW Old', err_style=ERR_STYLE, linewidth=3)\n",
    "\n",
    "plt.xticks(rotation=0, fontsize = TICK_SIZE)\n",
    "plt.yticks(rotation = 0, fontsize = TICK_SIZE)\n",
    "plt.title(\"\", fontsize = TITLE_SIZE)\n",
    "plt.xlabel(\"Response length in tokens\", fontsize = LABEL_SIZE, weight='bold')\n",
    "plt.ylabel(\"Mean perplexity\", fontsize = LABEL_SIZE, weight='bold')\n",
    "plt.legend(title='PPLM setup', fontsize=TICK_SIZE, title_fontsize=TICK_SIZE)\n",
    "plt.tight_layout()\n",
    "plt.savefig(f'../figures/sequence_length/lineplot_len_ppl_best_gpt2_disc_bow_neutral_prompt_ci_{CI}_errstyle_{ERR_STYLE}.png')"
   ]
  },
  {
   "cell_type": "code",
   "execution_count": null,
   "id": "retired-milwaukee",
   "metadata": {},
   "outputs": [],
   "source": [
    "# gpt2_disc_unp_y.hist(x='text_length', y='perplexity')\n",
    "plt.figure(figsize=PLOT_DIMS)\n",
    "sns.set_style(\"whitegrid\")\n",
    "\n",
    "# sns.lineplot(data=gpt2_disc_np_y, x='length_binned', y='perplexity', marker=\"v\", ci=CI, label='GPT2-Disc Young', err_style=ERR_STYLE, linewidth=3)\n",
    "# sns.lineplot(data=gpt2_disc_np_o, x='length_binned', y='perplexity', marker=\"o\", ci=CI, label='GPT2-Disc Old', err_style=ERR_STYLE, linewidth=3)\n",
    "\n",
    "# sns.lineplot(data=gpt2_bow_fb_np_y, x='length_binned', y='perplexity', marker=\"v\", ci=CI, label='GPT2-BoW Young', err_style=ERR_STYLE, linewidth=3)\n",
    "# sns.lineplot(data=gpt2_bow_fb_np_o, x='length_binned', y='perplexity', marker=\"o\", ci=CI, label='GPT2-BoW Old', err_style=ERR_STYLE, linewidth=3)\n",
    "\n",
    "sns.lineplot(data=dgpt_disc_np_y, x='length_binned', y='perplexity', marker=\"v\", ci=CI, label='DGPT-Disc Young', err_style=ERR_STYLE, linewidth=3)\n",
    "sns.lineplot(data=dgpt_disc_np_o, x='length_binned', y='perplexity', marker=\"v\", ci=CI, label='DGPT-Disc Old', err_style=ERR_STYLE, linewidth=3)\n",
    "\n",
    "sns.lineplot(data=dgpt_bow_miu_np_y, x='length_binned', y='perplexity', marker=\"v\", ci=CI, label='DGPT-BoW Young', err_style=ERR_STYLE, linewidth=3)\n",
    "sns.lineplot(data=dgpt_bow_miu_np_o, x='length_binned', y='perplexity', marker=\"o\", ci=CI, label='DGPT-BoW Old', err_style=ERR_STYLE, linewidth=3)\n",
    "\n",
    "plt.xticks(rotation=0, fontsize = TICK_SIZE)\n",
    "plt.yticks(rotation = 0, fontsize = TICK_SIZE)\n",
    "plt.title(\"\", fontsize = TITLE_SIZE)\n",
    "plt.xlabel(\"Response length in tokens\", fontsize = LABEL_SIZE, weight='bold')\n",
    "plt.ylabel(\"Mean perplexity\", fontsize = LABEL_SIZE, weight='bold')\n",
    "plt.legend(title='PPLM setup', fontsize=TICK_SIZE, title_fontsize=TICK_SIZE)\n",
    "plt.tight_layout()\n",
    "plt.savefig(f'../figures/sequence_length/lineplot_len_ppl_best_dgpt_disc_bow_neutral_prompt_ci_{CI}_errstyle_{ERR_STYLE}.png')"
   ]
  },
  {
   "cell_type": "code",
   "execution_count": null,
   "id": "unlimited-campbell",
   "metadata": {},
   "outputs": [],
   "source": [
    "# # gpt2_disc_unp_y.hist(x='text_length', y='perplexity')\n",
    "# plt.figure(figsize=PLOT_DIMS)\n",
    "# sns.set_style(\"whitegrid\")\n",
    "\n",
    "# sns.boxplot(data=dgpt_disc_pr_o, x='length_binned', y='perplexity')\n",
    "# # sns.boxplot(data=gpt2_disc_unp_o, x='length_binned', y='perplexity')\n",
    "# # sns.lineplot(data=gpt2_disc_unp_o, x='length_binned', y='perplexity', marker=\"o\", ci=CI, label='GPT2-Disc Old', err_style=ERR_STYLE, linewidth=3)\n",
    "\n",
    "# # sns.lineplot(data=gpt2_bow_fb85_y, x='length_binned', y='perplexity', marker=\"v\", ci=CI, label='GPT2-BoW Young', err_style=ERR_STYLE, linewidth=3)\n",
    "# # sns.lineplot(data=gpt2_bow_fb85_o, x='length_binned', y='perplexity', marker=\"o\", ci=CI, label='GPT2-BoW Old', err_style=ERR_STYLE, linewidth=3)\n",
    "\n",
    "# # sns.lineplot(data=dgpt_disc_pr_y, x='length_binned', y='perplexity', marker=\"v\", ci=CI, label='DGPT-Disc Young', err_style=ERR_STYLE, linewidth=3)\n",
    "# # sns.lineplot(data=dgpt_disc_pr_o, x='length_binned', y='perplexity', marker=\"v\", ci=CI, label='DGPT-Disc Old', err_style=ERR_STYLE, linewidth=3)\n",
    "\n",
    "# plt.xticks(rotation=45, fontsize = TICK_SIZE)\n",
    "# plt.yticks(rotation = 0, fontsize = TICK_SIZE)\n",
    "# plt.title(\"\", fontsize = TITLE_SIZE)\n",
    "# plt.xlabel(\"sequence length in tokens\", fontsize = LABEL_SIZE, weight='bold')\n",
    "# plt.ylabel(\"mean perplexity\", fontsize = LABEL_SIZE, weight='bold')\n",
    "# # plt.legend(title='PPLM setup', fontsize=TICK_SIZE, title_fontsize=TICK_SIZE)\n",
    "# plt.tight_layout()"
   ]
  },
  {
   "cell_type": "code",
   "execution_count": null,
   "id": "opposed-browse",
   "metadata": {},
   "outputs": [],
   "source": [
    "# gpt2_disc_unp_y.hist(x='text_length', y='perplexity')\n",
    "plt.figure(figsize=PLOT_DIMS)\n",
    "sns.set_style(\"whitegrid\")\n",
    "\n",
    "sns.lineplot(data=gpt2_disc_np_y, x='length_binned', y='correct', marker=\"v\", ci=CI, label='GPT2-Disc Young', err_style=ERR_STYLE, linewidth=3)\n",
    "sns.lineplot(data=gpt2_disc_np_o, x='length_binned', y='correct', marker=\"o\", ci=CI, label='GPT2-Disc Old', err_style=ERR_STYLE, linewidth=3)\n",
    "\n",
    "sns.lineplot(data=gpt2_bow_fb_np_y, x='length_binned', y='correct', marker=\"v\", ci=CI, label='GPT2-BoW Young', err_style=ERR_STYLE, linewidth=3)\n",
    "sns.lineplot(data=gpt2_bow_fb_np_o, x='length_binned', y='correct', marker=\"o\", ci=CI, label='GPT2-BoW Old', err_style=ERR_STYLE, linewidth=3)\n",
    "\n",
    "# sns.lineplot(data=dgpt_disc_np_y, x='length_binned', y='correct', marker=\"v\", ci=CI, label='DGPT-Disc Young', err_style=ERR_STYLE, linewidth=3)\n",
    "# sns.lineplot(data=dgpt_disc_np_o, x='length_binned', y='correct', marker=\"v\", ci=CI, label='DGPT-Disc Old', err_style=ERR_STYLE, linewidth=3)\n",
    "\n",
    "# sns.lineplot(data=dgpt_bow_miu_np_y, x='length_binned', y='correct', marker=\"v\", ci=CI, label='DGPT-BoW Young', err_style=ERR_STYLE, linewidth=3)\n",
    "# sns.lineplot(data=dgpt_bow_miu_np_o, x='length_binned', y='correct', marker=\"o\", ci=CI, label='DGPT-BoW Old', err_style=ERR_STYLE, linewidth=3)\n",
    "\n",
    "plt.xticks(rotation=0, fontsize = TICK_SIZE)\n",
    "plt.yticks(rotation = 0, fontsize = TICK_SIZE)\n",
    "plt.title(\"\", fontsize = TITLE_SIZE)\n",
    "plt.xlabel(\"Response length in tokens\", fontsize = LABEL_SIZE, weight='bold')\n",
    "plt.ylabel(\"Mean accuracy\", fontsize = LABEL_SIZE, weight='bold')\n",
    "plt.legend(title='PPLM setup', fontsize=TICK_SIZE, title_fontsize=TICK_SIZE)\n",
    "# plt.legend([],[], frameon=False)\n",
    "plt.tight_layout()\n",
    "plt.savefig(f'../figures/sequence_length/lineplot_len_acc_best_gpt2_disc_bow_neutral_prompt_ci_{CI}_errstyle_{ERR_STYLE}.png')"
   ]
  },
  {
   "cell_type": "code",
   "execution_count": null,
   "id": "norwegian-overall",
   "metadata": {},
   "outputs": [],
   "source": [
    "# gpt2_disc_unp_y.hist(x='text_length', y='perplexity')\n",
    "plt.figure(figsize=PLOT_DIMS)\n",
    "sns.set_style(\"whitegrid\")\n",
    "\n",
    "# sns.lineplot(data=gpt2_disc_np_y, x='length_binned', y='correct', marker=\"v\", ci=CI, label='GPT2-Disc Young', err_style=ERR_STYLE, linewidth=3)\n",
    "# sns.lineplot(data=gpt2_disc_np_o, x='length_binned', y='correct', marker=\"o\", ci=CI, label='GPT2-Disc Old', err_style=ERR_STYLE, linewidth=3)\n",
    "\n",
    "# sns.lineplot(data=gpt2_bow_fb_np_y, x='length_binned', y='correct', marker=\"v\", ci=CI, label='GPT2-BoW Young', err_style=ERR_STYLE, linewidth=3)\n",
    "# sns.lineplot(data=gpt2_bow_fb_np_o, x='length_binned', y='correct', marker=\"o\", ci=CI, label='GPT2-BoW Old', err_style=ERR_STYLE, linewidth=3)\n",
    "\n",
    "sns.lineplot(data=dgpt_disc_np_y, x='length_binned', y='correct', marker=\"v\", ci=CI, label='DGPT-Disc Young', err_style=ERR_STYLE, linewidth=3)\n",
    "sns.lineplot(data=dgpt_disc_np_o, x='length_binned', y='correct', marker=\"v\", ci=CI, label='DGPT-Disc Old', err_style=ERR_STYLE, linewidth=3)\n",
    "\n",
    "sns.lineplot(data=dgpt_bow_miu_np_y, x='length_binned', y='correct', marker=\"v\", ci=CI, label='DGPT-BoW Young', err_style=ERR_STYLE, linewidth=3)\n",
    "sns.lineplot(data=dgpt_bow_miu_np_o, x='length_binned', y='correct', marker=\"o\", ci=CI, label='DGPT-BoW Old', err_style=ERR_STYLE, linewidth=3)\n",
    "\n",
    "plt.xticks(rotation=0, fontsize = TICK_SIZE)\n",
    "plt.yticks(rotation = 0, fontsize = TICK_SIZE)\n",
    "plt.title(\"\", fontsize = TITLE_SIZE)\n",
    "plt.xlabel(\"Response length in tokens\", fontsize = LABEL_SIZE, weight='bold')\n",
    "plt.ylabel(\"Mean accuracy\", fontsize = LABEL_SIZE, weight='bold')\n",
    "plt.legend(title='PPLM setup', fontsize=TICK_SIZE, title_fontsize=TICK_SIZE)\n",
    "# plt.legend([],[], frameon=False)\n",
    "plt.tight_layout()\n",
    "plt.savefig(f'../figures/sequence_length/lineplot_len_acc_best_dgpt_disc_bow_neutral_prompt_ci_{CI}_errstyle_{ERR_STYLE}.png')"
   ]
  },
  {
   "cell_type": "code",
   "execution_count": null,
   "id": "flexible-lambda",
   "metadata": {},
   "outputs": [],
   "source": [
    "CI# gpt2_disc_unp_y.hist(x='text_length', y='perplexity')\n",
    "plt.figure(figsize=PLOT_DIMS)\n",
    "sns.set_style(\"whitegrid\")\n",
    "\n",
    "sns.lineplot(data=gpt2_disc_np_y, x='length_binned', y='dist_3', marker=\"v\", ci=CI, label='GPT2-Disc Young', err_style=ERR_STYLE, linewidth=3)\n",
    "sns.lineplot(data=gpt2_disc_np_o, x='length_binned', y='dist_3', marker=\"o\", ci=CI, label='GPT2-Disc Old', err_style=ERR_STYLE, linewidth=3)\n",
    "\n",
    "sns.lineplot(data=gpt2_bow_fb_np_y, x='length_binned', y='dist_3', marker=\"v\", ci=CI, label='GPT2-BoW Young', err_style=ERR_STYLE, linewidth=3)\n",
    "sns.lineplot(data=gpt2_bow_fb_np_o, x='length_binned', y='dist_3', marker=\"o\", ci=CI, label='GPT2-BoW Old', err_style=ERR_STYLE, linewidth=3)\n",
    "\n",
    "# sns.lineplot(data=dgpt_disc_np_y, x='length_binned', y='dist_3', marker=\"v\", ci=CI, label='DGPT-Disc Young', err_style=ERR_STYLE, linewidth=3)\n",
    "# sns.lineplot(data=dgpt_disc_np_o, x='length_binned', y='dist_3', marker=\"v\", ci=CI, label='DGPT-Disc Old', err_style=ERR_STYLE, linewidth=3)\n",
    "\n",
    "# sns.lineplot(data=dgpt_bow_miu_np_y, x='length_binned', y='dist_3', marker=\"v\", ci=CI, label='DGPT-BoW Young', err_style=ERR_STYLE, linewidth=3)\n",
    "# sns.lineplot(data=dgpt_bow_miu_np_o, x='length_binned', y='dist_3', marker=\"o\", ci=CI, label='DGPT-BoW Old', err_style=ERR_STYLE, linewidth=3)\n",
    "\n",
    "\n",
    "plt.xticks(rotation=0, fontsize = TICK_SIZE)\n",
    "plt.yticks(rotation = 0, fontsize = TICK_SIZE)\n",
    "plt.title(\"\", fontsize = TITLE_SIZE)\n",
    "plt.xlabel(\"Response length in tokens\", fontsize = LABEL_SIZE, weight='bold')\n",
    "plt.ylabel(\"Dist-3\", fontsize = LABEL_SIZE, weight='bold')\n",
    "plt.legend(title='PPLM setup', fontsize=TICK_SIZE, title_fontsize=TICK_SIZE)\n",
    "# plt.legend([],[], frameon=False)\n",
    "plt.tight_layout()\n",
    "plt.savefig(f'../figures/sequence_length/lineplot_len_dist3_best_gpt2_disc_bow__neutral_prompt_ci_{CI}_errstyle_{ERR_STYLE}.png')"
   ]
  },
  {
   "cell_type": "code",
   "execution_count": null,
   "id": "historical-fireplace",
   "metadata": {},
   "outputs": [],
   "source": [
    "CI# gpt2_disc_unp_y.hist(x='text_length', y='perplexity')\n",
    "plt.figure(figsize=PLOT_DIMS)\n",
    "sns.set_style(\"whitegrid\")\n",
    "\n",
    "# sns.lineplot(data=gpt2_disc_np_y, x='length_binned', y='dist_3', marker=\"v\", ci=CI, label='GPT2-Disc Young', err_style=ERR_STYLE, linewidth=3)\n",
    "# sns.lineplot(data=gpt2_disc_np_o, x='length_binned', y='dist_3', marker=\"o\", ci=CI, label='GPT2-Disc Old', err_style=ERR_STYLE, linewidth=3)\n",
    "\n",
    "# sns.lineplot(data=gpt2_bow_fb_np_y, x='length_binned', y='dist_3', marker=\"v\", ci=CI, label='GPT2-BoW Young', err_style=ERR_STYLE, linewidth=3)\n",
    "# sns.lineplot(data=gpt2_bow_fb_np_o, x='length_binned', y='dist_3', marker=\"o\", ci=CI, label='GPT2-BoW Old', err_style=ERR_STYLE, linewidth=3)\n",
    "\n",
    "sns.lineplot(data=dgpt_disc_np_y, x='length_binned', y='dist_3', marker=\"v\", ci=CI, label='DGPT-Disc Young', err_style=ERR_STYLE, linewidth=3)\n",
    "sns.lineplot(data=dgpt_disc_np_o, x='length_binned', y='dist_3', marker=\"v\", ci=CI, label='DGPT-Disc Old', err_style=ERR_STYLE, linewidth=3)\n",
    "\n",
    "sns.lineplot(data=dgpt_bow_miu_np_y, x='length_binned', y='dist_3', marker=\"v\", ci=CI, label='DGPT-BoW Young', err_style=ERR_STYLE, linewidth=3)\n",
    "sns.lineplot(data=dgpt_bow_miu_np_o, x='length_binned', y='dist_3', marker=\"o\", ci=CI, label='DGPT-BoW Old', err_style=ERR_STYLE, linewidth=3)\n",
    "\n",
    "\n",
    "plt.xticks(rotation=0, fontsize = TICK_SIZE)\n",
    "plt.yticks(rotation = 0, fontsize = TICK_SIZE)\n",
    "plt.title(\"\", fontsize = TITLE_SIZE)\n",
    "plt.xlabel(\"Response length in tokens\", fontsize = LABEL_SIZE, weight='bold')\n",
    "plt.ylabel(\"Dist-3\", fontsize = LABEL_SIZE, weight='bold')\n",
    "plt.legend(title='PPLM setup', fontsize=TICK_SIZE, title_fontsize=TICK_SIZE)\n",
    "# plt.legend([],[], frameon=False)\n",
    "plt.tight_layout()\n",
    "plt.savefig(f'../figures/sequence_length/lineplot_len_dist3_best_dgpt_disc_bow__neutral_prompt_ci_{CI}_errstyle_{ERR_STYLE}.png')"
   ]
  },
  {
   "cell_type": "code",
   "execution_count": null,
   "id": "wrapped-joseph",
   "metadata": {},
   "outputs": [],
   "source": [
    "# gpt2_disc_unp_y.hist(x='text_length', y='perplexity')\n",
    "plt.figure(figsize=PLOT_DIMS)\n",
    "sns.set_style(\"whitegrid\")\n",
    "\n",
    "sns.lineplot(data=gpt2_disc_np_y, x='length_binned', y='dist_2', marker=\"v\", ci=CI, label='GPT2-Disc Young', err_style=ERR_STYLE, linewidth=3)\n",
    "sns.lineplot(data=gpt2_disc_np_o, x='length_binned', y='dist_2', marker=\"o\", ci=CI, label='GPT2-Disc Old', err_style=ERR_STYLE, linewidth=3)\n",
    "\n",
    "sns.lineplot(data=gpt2_bow_fb_np_y, x='length_binned', y='dist_2', marker=\"v\", ci=CI, label='GPT2-BoW Young', err_style=ERR_STYLE, linewidth=3)\n",
    "sns.lineplot(data=gpt2_bow_fb_np_o, x='length_binned', y='dist_2', marker=\"o\", ci=CI, label='GPT2-BoW Old', err_style=ERR_STYLE, linewidth=3)\n",
    "\n",
    "# sns.lineplot(data=dgpt_disc_np_y, x='length_binned', y='dist_2', marker=\"v\", ci=CI, label='DGPT-Disc Young', err_style=ERR_STYLE, linewidth=3)\n",
    "# sns.lineplot(data=dgpt_disc_np_o, x='length_binned', y='dist_2', marker=\"v\", ci=CI, label='DGPT-Disc Old', err_style=ERR_STYLE, linewidth=3)\n",
    "\n",
    "# sns.lineplot(data=dgpt_bow_miu_np_y, x='length_binned', y='dist_2', marker=\"v\", ci=CI, label='DGPT-BoW Young', err_style=ERR_STYLE, linewidth=3)\n",
    "# sns.lineplot(data=dgpt_bow_miu_np_o, x='length_binned', y='dist_2', marker=\"o\", ci=CI, label='DGPT-BoW Old', err_style=ERR_STYLE, linewidth=3)\n",
    "\n",
    "plt.xticks(rotation=0, fontsize = TICK_SIZE)\n",
    "plt.yticks(rotation = 0, fontsize = TICK_SIZE)\n",
    "plt.title(\"\", fontsize = TITLE_SIZE)\n",
    "plt.xlabel(\"Response length in tokens\", fontsize = LABEL_SIZE, weight='bold')\n",
    "plt.ylabel(\"Dist-2\", fontsize = LABEL_SIZE, weight='bold')\n",
    "plt.legend(title='PPLM setup', fontsize=TICK_SIZE, title_fontsize=TICK_SIZE)\n",
    "# plt.legend([],[], frameon=False)\n",
    "plt.tight_layout()\n",
    "plt.savefig(f'../figures/sequence_length/lineplot_len_dist2_best_gpt2_disc_bow_neutral_prompt_ci_{CI}_errstyle_{ERR_STYLE}.png')"
   ]
  },
  {
   "cell_type": "code",
   "execution_count": null,
   "id": "medium-relations",
   "metadata": {},
   "outputs": [],
   "source": [
    "# gpt2_disc_unp_y.hist(x='text_length', y='perplexity')\n",
    "plt.figure(figsize=PLOT_DIMS)\n",
    "sns.set_style(\"whitegrid\")\n",
    "\n",
    "# sns.lineplot(data=gpt2_disc_np_y, x='length_binned', y='dist_2', marker=\"v\", ci=CI, label='GPT2-Disc Young', err_style=ERR_STYLE, linewidth=3)\n",
    "# sns.lineplot(data=gpt2_disc_np_o, x='length_binned', y='dist_2', marker=\"o\", ci=CI, label='GPT2-Disc Old', err_style=ERR_STYLE, linewidth=3)\n",
    "\n",
    "# sns.lineplot(data=gpt2_bow_fb_np_y, x='length_binned', y='dist_2', marker=\"v\", ci=CI, label='GPT2-BoW Young', err_style=ERR_STYLE, linewidth=3)\n",
    "# sns.lineplot(data=gpt2_bow_fb_np_o, x='length_binned', y='dist_2', marker=\"o\", ci=CI, label='GPT2-BoW Old', err_style=ERR_STYLE, linewidth=3)\n",
    "\n",
    "sns.lineplot(data=dgpt_disc_np_y, x='length_binned', y='dist_2', marker=\"v\", ci=CI, label='DGPT-Disc Young', err_style=ERR_STYLE, linewidth=3)\n",
    "sns.lineplot(data=dgpt_disc_np_o, x='length_binned', y='dist_2', marker=\"v\", ci=CI, label='DGPT-Disc Old', err_style=ERR_STYLE, linewidth=3)\n",
    "\n",
    "sns.lineplot(data=dgpt_bow_miu_np_y, x='length_binned', y='dist_2', marker=\"v\", ci=CI, label='DGPT-BoW Young', err_style=ERR_STYLE, linewidth=3)\n",
    "sns.lineplot(data=dgpt_bow_miu_np_o, x='length_binned', y='dist_2', marker=\"o\", ci=CI, label='DGPT-BoW Old', err_style=ERR_STYLE, linewidth=3)\n",
    "\n",
    "plt.xticks(rotation=0, fontsize = TICK_SIZE)\n",
    "plt.yticks(rotation = 0, fontsize = TICK_SIZE)\n",
    "plt.title(\"\", fontsize = TITLE_SIZE)\n",
    "plt.xlabel(\"Response length in tokens\", fontsize = LABEL_SIZE, weight='bold')\n",
    "plt.ylabel(\"Dist-2\", fontsize = LABEL_SIZE, weight='bold')\n",
    "plt.legend(title='PPLM setup', fontsize=TICK_SIZE, title_fontsize=TICK_SIZE)\n",
    "# plt.legend([],[], frameon=False)\n",
    "plt.tight_layout()\n",
    "plt.savefig(f'../figures/sequence_length/lineplot_len_dist2_best_dgpt_disc_bow_neutral_prompt_ci_{CI}_errstyle_{ERR_STYLE}.png')"
   ]
  },
  {
   "cell_type": "code",
   "execution_count": null,
   "id": "behind-screening",
   "metadata": {},
   "outputs": [],
   "source": [
    "# gpt2_disc_unp_y.hist(x='text_length', y='perplexity')\n",
    "plt.figure(figsize=PLOT_DIMS)\n",
    "sns.set_style(\"whitegrid\")\n",
    "\n",
    "sns.lineplot(data=gpt2_disc_np_y, x='length_binned', y='dist_1', marker=\"v\", ci=CI, label='GPT2-Disc Young', err_style=ERR_STYLE, linewidth=3)\n",
    "sns.lineplot(data=gpt2_disc_np_o, x='length_binned', y='dist_1', marker=\"o\", ci=CI, label='GPT2-Disc Old', err_style=ERR_STYLE, linewidth=3)\n",
    "\n",
    "sns.lineplot(data=gpt2_bow_fb_np_y, x='length_binned', y='dist_1', marker=\"v\", ci=CI, label='GPT2-BoW Young', err_style=ERR_STYLE, linewidth=3)\n",
    "sns.lineplot(data=gpt2_bow_fb_np_o, x='length_binned', y='dist_1', marker=\"o\", ci=CI, label='GPT2-BoW Old', err_style=ERR_STYLE, linewidth=3)\n",
    "\n",
    "# sns.lineplot(data=dgpt_disc_np_y, x='length_binned', y='dist_1', marker=\"v\", ci=CI, label='DGPT-Disc Young', err_style=ERR_STYLE, linewidth=3)\n",
    "# sns.lineplot(data=dgpt_disc_np_o, x='length_binned', y='dist_1', marker=\"v\", ci=CI, label='DGPT-Disc Old', err_style=ERR_STYLE, linewidth=3)\n",
    "\n",
    "# sns.lineplot(data=dgpt_bow_miu_np_y, x='length_binned', y='dist_1', marker=\"v\", ci=CI, label='DGPT-BoW Young', err_style=ERR_STYLE, linewidth=3)\n",
    "# sns.lineplot(data=dgpt_bow_miu_np_o, x='length_binned', y='dist_1', marker=\"o\", ci=CI, label='DGPT-BoW Old', err_style=ERR_STYLE, linewidth=3)\n",
    "\n",
    "plt.xticks(rotation=0, fontsize = TICK_SIZE)\n",
    "plt.yticks(rotation = 0, fontsize = TICK_SIZE)\n",
    "plt.title(\"\", fontsize = TITLE_SIZE)\n",
    "plt.xlabel(\"Response length in tokens\", fontsize = LABEL_SIZE, weight='bold')\n",
    "plt.ylabel(\"Dist-1\", fontsize = LABEL_SIZE, weight='bold')\n",
    "plt.legend(title='PPLM setup', fontsize=TICK_SIZE, title_fontsize=TICK_SIZE)\n",
    "# plt.legend([],[], frameon=False)\n",
    "plt.tight_layout()\n",
    "plt.savefig(f'../figures/sequence_length/lineplot_len_dist1_best_gpt2_disc_bow__neutral_prompt_ci_{CI}_errstyle_{ERR_STYLE}.png')"
   ]
  },
  {
   "cell_type": "code",
   "execution_count": null,
   "id": "laden-decline",
   "metadata": {},
   "outputs": [],
   "source": [
    "# gpt2_disc_unp_y.hist(x='text_length', y='perplexity')\n",
    "plt.figure(figsize=PLOT_DIMS)\n",
    "sns.set_style(\"whitegrid\")\n",
    "\n",
    "# sns.lineplot(data=gpt2_disc_np_y, x='length_binned', y='dist_1', marker=\"v\", ci=CI, label='GPT2-Disc Young', err_style=ERR_STYLE, linewidth=3)\n",
    "# sns.lineplot(data=gpt2_disc_np_o, x='length_binned', y='dist_1', marker=\"o\", ci=CI, label='GPT2-Disc Old', err_style=ERR_STYLE, linewidth=3)\n",
    "\n",
    "# sns.lineplot(data=gpt2_bow_fb_np_y, x='length_binned', y='dist_1', marker=\"v\", ci=CI, label='GPT2-BoW Young', err_style=ERR_STYLE, linewidth=3)\n",
    "# sns.lineplot(data=gpt2_bow_fb_np_o, x='length_binned', y='dist_1', marker=\"o\", ci=CI, label='GPT2-BoW Old', err_style=ERR_STYLE, linewidth=3)\n",
    "\n",
    "sns.lineplot(data=dgpt_disc_np_y, x='length_binned', y='dist_1', marker=\"v\", ci=CI, label='DGPT-Disc Young', err_style=ERR_STYLE, linewidth=3)\n",
    "sns.lineplot(data=dgpt_disc_np_o, x='length_binned', y='dist_1', marker=\"v\", ci=CI, label='DGPT-Disc Old', err_style=ERR_STYLE, linewidth=3)\n",
    "\n",
    "sns.lineplot(data=dgpt_bow_miu_np_y, x='length_binned', y='dist_1', marker=\"v\", ci=CI, label='DGPT-BoW Young', err_style=ERR_STYLE, linewidth=3)\n",
    "sns.lineplot(data=dgpt_bow_miu_np_o, x='length_binned', y='dist_1', marker=\"o\", ci=CI, label='DGPT-BoW Old', err_style=ERR_STYLE, linewidth=3)\n",
    "\n",
    "plt.xticks(rotation=0, fontsize = TICK_SIZE)\n",
    "plt.yticks(rotation = 0, fontsize = TICK_SIZE)\n",
    "plt.title(\"\", fontsize = TITLE_SIZE)\n",
    "plt.xlabel(\"Response length in tokens\", fontsize = LABEL_SIZE, weight='bold')\n",
    "plt.ylabel(\"Dist-1\", fontsize = LABEL_SIZE, weight='bold')\n",
    "plt.legend(title='PPLM setup', fontsize=TICK_SIZE, title_fontsize=TICK_SIZE)\n",
    "# plt.legend([],[], frameon=False)\n",
    "plt.tight_layout()\n",
    "plt.savefig(f'../figures/sequence_length/lineplot_len_dist1_best_dgpt_disc_bow__neutral_prompt_ci_{CI}_errstyle_{ERR_STYLE}.png')"
   ]
  },
  {
   "cell_type": "code",
   "execution_count": null,
   "id": "difficult-colorado",
   "metadata": {},
   "outputs": [],
   "source": [
    "gpt2_disc_unp_y.text_length.describe()"
   ]
  },
  {
   "cell_type": "code",
   "execution_count": null,
   "id": "cubic-mason",
   "metadata": {},
   "outputs": [],
   "source": [
    "sns.pointplot(data=gpt2_disc_unp_o, x='text_length', y='perplexity')"
   ]
  },
  {
   "cell_type": "code",
   "execution_count": null,
   "id": "talented-consultancy",
   "metadata": {},
   "outputs": [],
   "source": [
    "sns.lineplot(data=gpt2_disc_unp_y, x='text_length', y='dist_1')"
   ]
  },
  {
   "cell_type": "code",
   "execution_count": null,
   "id": "pending-isaac",
   "metadata": {},
   "outputs": [],
   "source": [
    "sns.histplot(data=gpt2_disc_unp_y, x='text_length', bins=8)"
   ]
  },
  {
   "cell_type": "code",
   "execution_count": null,
   "id": "perceived-ottawa",
   "metadata": {},
   "outputs": [],
   "source": []
  }
 ],
 "metadata": {
  "kernelspec": {
   "display_name": "Python 3",
   "language": "python",
   "name": "python3"
  },
  "language_info": {
   "codemirror_mode": {
    "name": "ipython",
    "version": 3
   },
   "file_extension": ".py",
   "mimetype": "text/x-python",
   "name": "python",
   "nbconvert_exporter": "python",
   "pygments_lexer": "ipython3",
   "version": "3.7.10"
  }
 },
 "nbformat": 4,
 "nbformat_minor": 5
}
