{
 "cells": [
  {
   "cell_type": "markdown",
   "id": "reserved-peripheral",
   "metadata": {},
   "source": [
    "# Exploratory data analysis & Simple Classifiers\n",
    "## Date created: 1 March 2021\n",
    "### Quick exploration of datasets considered for thesis research.\n",
    "### Currently contains analyses of: Blog Authorship Corpus"
   ]
  },
  {
   "cell_type": "code",
   "execution_count": null,
   "id": "stopped-popularity",
   "metadata": {},
   "outputs": [],
   "source": [
    "%matplotlib inline\n",
    "\n",
    "# Import statements\n",
    "import os # for directory operations\n",
    "import numpy as np # for numerical/linear algebra methods\n",
    "import pandas as pd # for data(frame) processing\n",
    "import pdb # for debudding\n",
    "import matplotlib.pyplot as plt # for plotting\n",
    "import seaborn as sns # for cool plotting\n",
    "import re # for regular expression\n",
    "import nltk # natural language processing toolkit\n",
    "from sklearn.feature_extraction.text import CountVectorizer\n",
    "from sklearn.preprocessing import MultiLabelBinarizer\n",
    "from sklearn.model_selection import train_test_split\n",
    "from sklearn.multiclass import OneVsRestClassifier\n",
    "from sklearn.multioutput import MultiOutputClassifier\n",
    "from sklearn.linear_model import LogisticRegression\n",
    "from sklearn.metrics import accuracy_score\n",
    "from sklearn.metrics import f1_score\n",
    "from sklearn.metrics import average_precision_score\n",
    "from sklearn.metrics import recall_score\n",
    "from langdetect import detect, detect_langs # for language detection\n",
    "from tqdm.notebook import tqdm, trange\n",
    "import time\n",
    "import math"
   ]
  },
  {
   "cell_type": "code",
   "execution_count": null,
   "id": "funny-intranet",
   "metadata": {},
   "outputs": [],
   "source": [
    "# TODO: write specification scheme for type of \"simple\" classifier to build and test?\n",
    "# Maybe just have the notebook build, train, and test all simple ones, i.e., Logit+ n-grams, Logit + grams + linguistic features, etc.\n",
    "# Specifiy trian-test splits\n",
    "# What else? --> Label to predict (e.g., age cat, age number, gender, astrological sign, topic)\n",
    "SEED = 420\n",
    "MAX_N_GRAM = 2\n",
    "TEST_SPLIT = 0.2\n",
    "\n",
    "seeds = [1, 2, 3]\n",
    "n_grams = [1, 2, 3, 4]\n",
    "perc_df = 0.0020\n",
    "\n",
    "# Read and load dataset\n",
    "data = pd.read_csv(\"../data/blogs_kaggle/blogtext.csv\")\n",
    "\n",
    "# sub_sample = math.ceil(perc_df * data.shape[0])\n",
    "# data = data[:sub_sample]"
   ]
  },
  {
   "cell_type": "markdown",
   "id": "minimal-endorsement",
   "metadata": {},
   "source": [
    "## Exploratory analysis"
   ]
  },
  {
   "cell_type": "code",
   "execution_count": null,
   "id": "remarkable-ecuador",
   "metadata": {},
   "outputs": [],
   "source": [
    "# data.describe(include = ['object', 'bool'])"
   ]
  },
  {
   "cell_type": "code",
   "execution_count": null,
   "id": "quarterly-slovak",
   "metadata": {},
   "outputs": [],
   "source": [
    "# Convert all columns (except ID and date) to object type\n",
    "# data['age'] = data['age'].astype(object)"
   ]
  },
  {
   "cell_type": "code",
   "execution_count": null,
   "id": "analyzed-ancient",
   "metadata": {},
   "outputs": [],
   "source": [
    "# Age distribution, unconditional\n",
    "# sns.histplot(data, x = \"age\", binwidth = 3, stat = \"probability\")\n",
    "# plt.title(\"Unconditional Age Distribution\")"
   ]
  },
  {
   "cell_type": "code",
   "execution_count": null,
   "id": "armed-capacity",
   "metadata": {},
   "outputs": [],
   "source": [
    "# # Age distribution, conditioned on gender\n",
    "# sns.histplot(data, x = \"age\", hue = \"gender\", binwidth = 3, stat = \"probability\")\n",
    "# plt.title(\"Age Distribution, Conditioned On Gender\")"
   ]
  },
  {
   "cell_type": "code",
   "execution_count": null,
   "id": "durable-gathering",
   "metadata": {},
   "outputs": [],
   "source": [
    "# sns.histplot(data, x = 'sign', stat = 'probability')\n",
    "# plt.xticks(rotation=45)\n",
    "# plt.title(\"Distribution of Astrological Signs\")"
   ]
  },
  {
   "cell_type": "code",
   "execution_count": null,
   "id": "written-government",
   "metadata": {},
   "outputs": [],
   "source": [
    "# sns.histplot(data, x = 'topic', stat = 'probability')\n",
    "# plt.xticks(rotation=85)\n",
    "# plt.title(\"Distribution of Topics\")"
   ]
  },
  {
   "cell_type": "markdown",
   "id": "photographic-inclusion",
   "metadata": {},
   "source": [
    "# Examples for Human(e) AI plenary meeting"
   ]
  },
  {
   "cell_type": "code",
   "execution_count": null,
   "id": "legitimate-royal",
   "metadata": {},
   "outputs": [],
   "source": [
    "# data_1317 = data[data['age'] < 18]\n",
    "# data_1317.reset_index(drop = True, inplace = True)\n",
    "# data_1317.head()"
   ]
  },
  {
   "cell_type": "code",
   "execution_count": null,
   "id": "afraid-denmark",
   "metadata": {},
   "outputs": [],
   "source": [
    "# data_1317.shape"
   ]
  },
  {
   "cell_type": "code",
   "execution_count": null,
   "id": "major-warren",
   "metadata": {},
   "outputs": [],
   "source": [
    "# data_1317.text[666]"
   ]
  },
  {
   "cell_type": "code",
   "execution_count": null,
   "id": "visible-solid",
   "metadata": {},
   "outputs": [],
   "source": [
    "# data_3347 = data[data['age'] > 32]\n",
    "# data_3347.reset_index(drop = True, inplace = True)\n",
    "# data_3347.shape"
   ]
  },
  {
   "cell_type": "code",
   "execution_count": null,
   "id": "bronze-uncle",
   "metadata": {},
   "outputs": [],
   "source": [
    "# data_3347.text[2000]"
   ]
  },
  {
   "cell_type": "markdown",
   "id": "thermal-milan",
   "metadata": {},
   "source": [
    "## Data cleaning / preprocessing"
   ]
  },
  {
   "cell_type": "code",
   "execution_count": null,
   "id": "guided-denver",
   "metadata": {},
   "outputs": [],
   "source": [
    "# Removing all unwanted text/characters from data['text'] column\n",
    "\n",
    "# Remove all non-alphabetical characters\n",
    "data['clean_data'] = data['text'].apply(lambda x: re.sub(r'[^A-Za-z]+',' ', x))"
   ]
  },
  {
   "cell_type": "code",
   "execution_count": null,
   "id": "fitting-devon",
   "metadata": {},
   "outputs": [],
   "source": [
    "# Make all letters lower case\n",
    "data['clean_data'] = data['clean_data'].apply(lambda x: x.lower())"
   ]
  },
  {
   "cell_type": "code",
   "execution_count": null,
   "id": "ordered-opening",
   "metadata": {},
   "outputs": [],
   "source": [
    "# Remove white space from beginning and end of string\n",
    "data['clean_data'] = data['clean_data'].apply(lambda x: x.strip())"
   ]
  },
  {
   "cell_type": "code",
   "execution_count": null,
   "id": "heard-console",
   "metadata": {},
   "outputs": [],
   "source": [
    "# Remove instances empty strings\n",
    "before_rm_empty = len(data)\n",
    "data.drop(data[data.clean_data == ''].index, inplace = True)\n",
    "\n",
    "print(f'{before_rm_empty - len(data)} instances removed.')"
   ]
  },
  {
   "cell_type": "code",
   "execution_count": null,
   "id": "perfect-thompson",
   "metadata": {},
   "outputs": [],
   "source": [
    "# Remove texts that are probably not English by filtering blogs that dont contain at least one of the top 50 most used English words\n",
    "\n",
    "# create dict with most common English words\n",
    "top_en_words = {}\n",
    "with open('../data/wordlists/top1000english.txt') as f:\n",
    "    count = 1\n",
    "    for line in f:\n",
    "        key = line.split()[0].lower()\n",
    "        top_en_words[key] = count\n",
    "        count += 1\n",
    "        \n",
    "        # Stop at top 50 words. Idea taken from DialoGPT paper.\n",
    "        if count > 50:\n",
    "            break\n",
    "\n",
    "\n",
    "data['top_50_en'] = data['clean_data'].apply(lambda x : True if not set(x.split()).isdisjoint(top_en_words) else False)\n",
    "\n",
    "def top_lang_detect(text):\n",
    "    \n",
    "    detected_langs = detect_langs(text)\n",
    "    \n",
    "    return detected_langs[0].lang\n",
    "        \n",
    "\n",
    "def top_prob_detect(text):\n",
    "    \n",
    "    detected_langs = detect_langs(text)\n",
    "    \n",
    "    return detected_langs[0].prob\n",
    "\n",
    "start_time = time.time()\n",
    "data['top_lang'] = data['clean_data'].apply(top_lang_detect)\n",
    "print(f\"Top lang detection took {time.time() - start_time} seconds\")\n",
    "start_time = time.time()\n",
    "data['top_prob'] = data['clean_data'].apply(top_prob_detect)\n",
    "print(f\"Top lang prob lang detection took {time.time() - start_time} seconds\")"
   ]
  },
  {
   "cell_type": "code",
   "execution_count": null,
   "id": "international-guatemala",
   "metadata": {},
   "outputs": [],
   "source": [
    "# Remove rows without one of top50 most common english words\n",
    "before_top50_removal = len(data)\n",
    "data.drop(data[data['top_50_en'] == False].index, inplace = True)\n",
    "print(f\"{before_top50_removal - len(data)} instances dropped\")"
   ]
  },
  {
   "cell_type": "code",
   "execution_count": null,
   "id": "broken-nowhere",
   "metadata": {},
   "outputs": [],
   "source": [
    "before_top_lang = len(data)\n",
    "data.drop(data[data['top_lang'] != 'en'].index, inplace = True)\n",
    "print(f'{before_top_lang - len(data)} instances dropped.')"
   ]
  },
  {
   "cell_type": "code",
   "execution_count": null,
   "id": "expressed-corporation",
   "metadata": {},
   "outputs": [],
   "source": [
    "before_top_prob = len(data)\n",
    "data.drop(data[data['top_prob'] < 0.9].index, inplace = True)\n",
    "print(f'{before_top_prob - len(data)} instances dropped.')"
   ]
  },
  {
   "cell_type": "code",
   "execution_count": null,
   "id": "southeast-directory",
   "metadata": {},
   "outputs": [],
   "source": [
    "# Remove stop words\n",
    "stopwords = set(nltk.corpus.stopwords.words('english')) # use set (hash table) data structure for faster lookup\n",
    "\n",
    "# also add urllink and nbsp to set of words to remove\n",
    "stopwords.update(['urllink', 'nbsp'])\n",
    "\n",
    "data['clean_data'] = data['clean_data'].apply(lambda x: ' '.join([words for words in x.split() if words not in stopwords]))"
   ]
  },
  {
   "cell_type": "code",
   "execution_count": null,
   "id": "stopped-optimization",
   "metadata": {},
   "outputs": [],
   "source": [
    "# Check difference: before\n",
    "print(f\"Unprocessed data =====> {data['text'][0]}\")\n",
    "print(81 * \"=\")\n",
    "# After\n",
    "print(f\"Cleaned data so far =====> {data['clean_data'][0]}\")"
   ]
  },
  {
   "cell_type": "code",
   "execution_count": null,
   "id": "periodic-valve",
   "metadata": {},
   "outputs": [],
   "source": [
    "# Drop columns that are uninformative for writing style (i.e., ID and date)\n",
    "data.drop(['id', 'date'], axis = 1, inplace = True)"
   ]
  },
  {
   "cell_type": "code",
   "execution_count": null,
   "id": "present-arabic",
   "metadata": {},
   "outputs": [],
   "source": [
    "# Add labels for age categories\n",
    "def age_to_cat(age):\n",
    "    '''Returns age category label for given age number.'''\n",
    "    \n",
    "    if 13 <= int(age) <= 17:\n",
    "        return '13-17'\n",
    "    elif 23 <= int(age) <= 27:\n",
    "        return '23-27'\n",
    "    elif 33 <= int(age) <= 47:\n",
    "        return '33-47'\n",
    "    else:\n",
    "        raise ValueError(\"Given age not in one of pre-defined age groups.\")\n",
    "\n",
    "\n",
    "data['age_cat'] = data['age'].apply(age_to_cat)"
   ]
  },
  {
   "cell_type": "code",
   "execution_count": null,
   "id": "academic-gambling",
   "metadata": {},
   "outputs": [],
   "source": [
    "# Merge all possibly interesting labels into one column\n",
    "data['labels'] = data.apply(lambda col: [col['gender'], str(col['age']), col['topic'], col['sign']], axis = 1)\n",
    "\n",
    "# Only keep age as label\n",
    "# data['labels'] = data.apply(lambda col: [str(col['age'])], axis = 1) # TODO: Why keep age as string?\n",
    "# data['labels'] = data.apply(lambda col: [col['age']], axis = 1)\n",
    "data['labels'] = data.apply(lambda col: [col['age_cat']], axis = 1)"
   ]
  },
  {
   "cell_type": "code",
   "execution_count": null,
   "id": "cooked-father",
   "metadata": {},
   "outputs": [],
   "source": [
    "# Reduce dataframe to only contain cleaned blogs and list of labels\n",
    "data = data[['clean_data', 'labels']]\n"
   ]
  },
  {
   "cell_type": "markdown",
   "id": "preceding-allergy",
   "metadata": {},
   "source": [
    "### Bi-gram and tri-gram models"
   ]
  },
  {
   "cell_type": "code",
   "execution_count": null,
   "id": "spoken-consolidation",
   "metadata": {
    "tags": []
   },
   "outputs": [],
   "source": [
    "# results dict\n",
    "accs_all = {}\n",
    "class_labels_list = ['13-17', '23-27', '33-47']\n",
    "\n",
    "# Evaluate performance\n",
    "def print_evaluation_scores(labels, preds):\n",
    "    print(f\"Accuracy: {accuracy_score(labels, preds)}\")\n",
    "    #print(f\"F1 score: {f1_score(labels, preds, average = 'micro')}\")\n",
    "    #print(f\"Average precision: {average_precision_score(labels, preds, average = 'micro')}\")\n",
    "    #print(f\"Average recall: {recall_score(labels, preds, average = 'micro')}\")\n",
    "\n",
    "def print_top_n(vectorizer, clf, class_labels, n_feat = 10):\n",
    "    \"\"\"Prints features with the highest coefficient values, per class\"\"\"\n",
    "    feature_names = vectorizer.get_feature_names()\n",
    "    for i, class_label in enumerate(class_labels):\n",
    "        topn = np.argsort(clf.estimators_[i].coef_)[0][-n_feat:]\n",
    "        print(\"%s: %s\" % (class_label,\n",
    "              \" \".join(feature_names[j] for j in topn)))\n",
    "\n",
    "def most_informative_feature_for_class(vectorizer, classifier, class_labels, n=10):\n",
    "    #labelid = list(classifier.classes_).index(classlabel)\n",
    "    feature_names = vectorizer.get_feature_names()\n",
    "    for i, class_label in enumerate(class_labels):\n",
    "        topn = sorted(zip(classifier.estimators_[i].coef_[0], feature_names))[-n:]\n",
    "        \n",
    "        for coef, feat in topn:\n",
    "            print(class_label, feat, coef)\n",
    "\n",
    "\n",
    "for seed in tqdm(seeds, desc = \"Seed loop.\"):\n",
    "    \n",
    "    # set seed for reproducibility\n",
    "    np.random.seed(seed)\n",
    "        \n",
    "    # shuffle dataframe\n",
    "    data = data.sample(frac=1).reset_index(drop=True)\n",
    "    \n",
    "    \n",
    "    for n in tqdm(n_grams, desc = \"n gram loop.\"):\n",
    "    \n",
    "        # Split data into features/ X and labels / Y \n",
    "        X = data['clean_data']\n",
    "        Y = data['labels']\n",
    "\n",
    "        # n-gram model\n",
    "        vectorizer = CountVectorizer(binary = True, ngram_range = (1, n))\n",
    "\n",
    "        # fit model\n",
    "        X = vectorizer.fit_transform(X)\n",
    "\n",
    "        # # check out a sample of the uni- and bigrams\n",
    "        # print(vectorizer.get_feature_names()[:10])\n",
    "\n",
    "        # Get label counts\n",
    "        label_counts = {}\n",
    "\n",
    "        for labels in data.labels.values:\n",
    "            for label in labels:\n",
    "                if label in label_counts:\n",
    "                    label_counts[label] += 1\n",
    "                else:\n",
    "                    label_counts[label] = 1\n",
    "\n",
    "        label_counts\n",
    "\n",
    "        # Binarize the labels for prediction \n",
    "        binarizer = MultiLabelBinarizer(classes = sorted(label_counts.keys()))\n",
    "\n",
    "        Y = binarizer.fit_transform(data.labels)\n",
    "\n",
    "        label_counts.keys()\n",
    "\n",
    "        # Split data into train and test sets\n",
    "        X_train, X_test, Y_train, Y_test = train_test_split(X, Y, test_size = TEST_SPLIT)\n",
    "\n",
    "        # Fit logistic regression model\n",
    "        start_time = time.time()\n",
    "        model = LogisticRegression(solver = 'lbfgs', multi_class='multinomial')\n",
    "#         model = OneVsRestClassifier(model)\n",
    "        model = MultiOutputClassifier(model)\n",
    "        model.fit(X_train, Y_train)\n",
    "        #print(f\"Fitting model took {time.time() - start_time} seconds.\")\n",
    "\n",
    "        # make predictions on test set\n",
    "        Y_pred = model.predict(X_test)\n",
    "\n",
    "        Y_pred_inversed = binarizer.inverse_transform(Y_pred)\n",
    "        Y_test_inversed = binarizer.inverse_transform(Y_test)\n",
    "        \n",
    "        print(\"=\" * 81)\n",
    "\n",
    "        print(f\"n = {n}\")\n",
    "        print_evaluation_scores(Y_test, Y_pred)\n",
    "        \n",
    "        if n in accs_all:\n",
    "            accs_all[n].append(accuracy_score(Y_test, Y_pred))\n",
    "        else:\n",
    "            accs_all[n] = [accuracy_score(Y_test, Y_pred)]\n",
    "        \n",
    "        # Print most informative features\n",
    "        print(\"Most informative features per age-group.\")\n",
    "        print_top_n(vectorizer = vectorizer, clf = model, class_labels = class_labels_list, n_feat = 20)\n",
    "        \n",
    "        print(\"-\" * 81)\n",
    "#         print(\"Some failure cases.\")\n",
    "# #         predictions = model.predict(inputs)\n",
    "#         for i, (x, pred, label) in enumerate(zip(X_test, Y_pred, Y_test)):\n",
    "#             if (pred != label).any():\n",
    "#                 print(f\"pred: {pred}\")\n",
    "#                 print(f\"label: {label}\")\n",
    "#                 pred_cat = binarizer.classes_[np.where(pred == 1)[0][0]]\n",
    "#                 label_cat = binarizer.classes_[np.where(label == 1)[0][0]]\n",
    "#                 print(data['clean_data'][i], 'has been classified as ', pred_cat, 'and should be ', label_cat)\n",
    "        \n",
    "        print(\"=\" * 81)\n",
    "        \n",
    "#         most_informative_feature_for_class(vectorizer = vectorizer, classifier = model, class_labels = class_labels_list, n=10)"
   ]
  },
  {
   "cell_type": "code",
   "execution_count": null,
   "id": "adaptive-antibody",
   "metadata": {},
   "outputs": [],
   "source": [
    "# print(\"OvR\")\n",
    "# accs_all_ovr"
   ]
  },
  {
   "cell_type": "code",
   "execution_count": null,
   "id": "latest-sheep",
   "metadata": {},
   "outputs": [],
   "source": [
    "# print(\"MO\")\n",
    "# accs_all_mo"
   ]
  },
  {
   "cell_type": "markdown",
   "id": "accredited-transcription",
   "metadata": {},
   "source": [
    "# Plot results"
   ]
  },
  {
   "cell_type": "code",
   "execution_count": null,
   "id": "referenced-rwanda",
   "metadata": {},
   "outputs": [],
   "source": [
    "def plot_accuracies(accs):\n",
    "    \n",
    "    means = [np.mean(accs[n]) for n in range(1, len(accs) + 1)]\n",
    "    print(np.mean(means))\n",
    "    stds = [np.std(accs[n]) for n in range(1, len(accs) + 1)]\n",
    "    \n",
    "    x_pos = np.arange(len(accs))\n",
    "    x_labels = list(accs.keys())\n",
    "    \n",
    "    # Build the plot\n",
    "    fig, ax = plt.subplots()\n",
    "    ax.bar(x_pos, means, yerr=stds, align='center', alpha=0.5, ecolor='black', capsize=10)\n",
    "    ax.set_ylabel('Mean classification accuracy.')\n",
    "    ax.set_xlabel(\"$n$\")\n",
    "    ax.set_xticks(x_pos)\n",
    "    ax.set_xticklabels(x_labels)\n",
    "    ax.set_title('Age group prediction accuracy for various n-gram models.')\n",
    "    ax.yaxis.grid(True)\n",
    "\n",
    "    # Save the figure and show\n",
    "    plt.tight_layout()\n",
    "    #plt.savefig('bar_plot_with_error_bars.png')\n",
    "    plt.show()"
   ]
  },
  {
   "cell_type": "code",
   "execution_count": null,
   "id": "generous-casino",
   "metadata": {},
   "outputs": [],
   "source": [
    "plot_accuracies(accs_all)"
   ]
  }
 ],
 "metadata": {
  "kernelspec": {
   "display_name": "Python 3",
   "language": "python",
   "name": "python3"
  },
  "language_info": {
   "codemirror_mode": {
    "name": "ipython",
    "version": 3
   },
   "file_extension": ".py",
   "mimetype": "text/x-python",
   "name": "python",
   "nbconvert_exporter": "python",
   "pygments_lexer": "ipython3",
   "version": "3.7.10"
  }
 },
 "nbformat": 4,
 "nbformat_minor": 5
}
