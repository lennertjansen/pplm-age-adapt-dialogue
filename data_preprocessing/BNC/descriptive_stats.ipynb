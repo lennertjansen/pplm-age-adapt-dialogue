{
 "cells": [
  {
   "cell_type": "code",
   "execution_count": 1,
   "id": "competent-sweden",
   "metadata": {},
   "outputs": [],
   "source": [
    "# Imports\n",
    "%matplotlib inline\n",
    "\n",
    "# Import statements\n",
    "import os # for directory operations\n",
    "import numpy as np # for numerical/linear algebra methods\n",
    "import pandas as pd # for data(frame) processing\n",
    "import pdb # for debudding\n",
    "import matplotlib.pyplot as plt # for plotting\n",
    "import seaborn as sns # for cool plotting\n",
    "import re # for regular expression\n",
    "import nltk # natural language processing toolkit\n",
    "from nltk.corpus import stopwords\n",
    "from sklearn.feature_extraction.text import CountVectorizer\n",
    "from sklearn.preprocessing import MultiLabelBinarizer\n",
    "from sklearn.model_selection import train_test_split\n",
    "from sklearn.multiclass import OneVsRestClassifier\n",
    "from sklearn.multioutput import MultiOutputClassifier\n",
    "from sklearn.linear_model import LogisticRegression\n",
    "from sklearn.metrics import accuracy_score\n",
    "from sklearn.metrics import f1_score\n",
    "from sklearn.metrics import average_precision_score\n",
    "from sklearn.metrics import recall_score\n",
    "from sklearn.metrics import confusion_matrix\n",
    "from sklearn.metrics import ConfusionMatrixDisplay\n",
    "from langdetect import detect, detect_langs # for language detection\n",
    "from tqdm.notebook import tqdm, trange\n",
    "import time\n",
    "import math\n",
    "from collections import Counter\n",
    "import spacy\n",
    "import pickle\n",
    "import ast\n",
    "from collections import Counter"
   ]
  },
  {
   "cell_type": "code",
   "execution_count": 2,
   "id": "aquatic-constraint",
   "metadata": {},
   "outputs": [],
   "source": [
    "# GLOBAL VARIABLES\n",
    "PLOT_DIMS = (11.7, 8.27)\n",
    "TITLE_SIZE = 30\n",
    "LABEL_SIZE = 25\n",
    "TICK_SIZE=20"
   ]
  },
  {
   "cell_type": "markdown",
   "id": "accepted-sheffield",
   "metadata": {},
   "source": [
    "# BLOGS"
   ]
  },
  {
   "cell_type": "code",
   "execution_count": 3,
   "id": "difficult-emperor",
   "metadata": {},
   "outputs": [],
   "source": [
    "# Data path\n",
    "# raw_csv_path = '../../data/bnc/bnc_subset_19_29_vs_50_plus_nfiles_0_rand_balanced.csv'\n",
    "raw_csv_path = '../../data/blogs_kaggle/blogtext.csv'\n",
    "# data_tag = 'bnc_rb'\n",
    "data_tag = 'blog'"
   ]
  },
  {
   "cell_type": "code",
   "execution_count": 4,
   "id": "altered-marsh",
   "metadata": {},
   "outputs": [],
   "source": [
    "# Preprocessing function\n",
    "def preprocess_df(df, data='blog'):\n",
    "\n",
    "    data_size = len(df)\n",
    "\n",
    "    #TODO Pre-processing steps happen here -- implement them st the less\n",
    "    # standard ones can be switched on and off to evaluate their impact on\n",
    "    # performance:\n",
    "    # Remove all non-alphabetical characters\n",
    "#     df['clean_text'] = df['text'].apply(lambda x: re.sub(r'[^A-Za-z]+',' ', x))\n",
    "    df['clean_text'] = df['text']\n",
    "\n",
    "    # make all letters lowercase\n",
    "    df['clean_text'] = df['clean_text'].apply(lambda x: x.lower())\n",
    "\n",
    "    # remove whitespaces from beginning or ending\n",
    "    df['clean_text'] = df['clean_text'].apply(lambda x: x.strip())\n",
    "\n",
    "    # remove stop words\n",
    "#     stopwords_dict = set(stopwords.words('english')) # use set (hash table) data structure for faster lookup\n",
    "#     df['clean_text'] = df['clean_text'].apply(lambda x: ' '.join([words for words in x.split() if words not in stopwords_dict]))\n",
    "\n",
    "    # Remove instances empty strings\n",
    "    df.drop(df[df.clean_text == ''].index, inplace = True)\n",
    "\n",
    "    # TODO: filter out non-English\n",
    "\n",
    "    # TODO: mask age-disclosing utterances\n",
    "\n",
    "    # number of datapoints removed by all pre-processing steps\n",
    "    dropped_instances = data_size - len(df)\n",
    "    data_size = len(df)\n",
    "\n",
    "\n",
    "    if data == 'blog':\n",
    "        # Add labels for age categories\n",
    "        def age_to_cat(age):\n",
    "            '''Returns age category label for given age number.'''\n",
    "\n",
    "            if 13 <= int(age) <= 17:\n",
    "                return '13-17' # 0\n",
    "            elif 23 <= int(age) <= 27:\n",
    "                return '23-27' # 1\n",
    "            elif 33 <= int(age):\n",
    "                return '33-47' # 2\n",
    "            else:\n",
    "                raise ValueError(\"Given age not in one of pre-defined age groups.\")\n",
    "\n",
    "        df['age_cat'] = df['age'].apply(age_to_cat)\n",
    "\n",
    "    elif data == 'bnc' or data == 'bnc_rb':\n",
    "\n",
    "        # Add labels for age categories\n",
    "        def age_to_cat(label):\n",
    "            '''Returns age category label for given age number.'''\n",
    "\n",
    "            if label == '19_29':\n",
    "                return '19-29' # 0\n",
    "            elif label == '50_plus':\n",
    "                return '50-plus' # 1\n",
    "            else:\n",
    "                raise ValueError(\"Given age not in one of pre-defined age groups.\")\n",
    "\n",
    "        df['age_cat'] = df['label'].apply(age_to_cat)\n",
    "\n",
    "        # # rename column\n",
    "        # df.rename(columns={'label': 'age_cat'}, inplace=True)\n",
    "\n",
    "    # import pdb\n",
    "    # pdb.set_trace()\n",
    "#     return df[['clean_text', 'age_cat']]\n",
    "    return df\n"
   ]
  },
  {
   "cell_type": "code",
   "execution_count": 5,
   "id": "exterior-candidate",
   "metadata": {},
   "outputs": [
    {
     "name": "stdout",
     "output_type": "stream",
     "text": [
      "Loading data...\n",
      "Preprocessing data...\n",
      "Done preprocessing data.\n"
     ]
    }
   ],
   "source": [
    "# Read csv to dataframe\n",
    "print('Loading data...')\n",
    "df = pd.read_csv(raw_csv_path, encoding=\"utf-8\")  # to keep no. unique chars consistent across platforms\n",
    "\n",
    "# Preprocess data\n",
    "print('Preprocessing data...')\n",
    "df_pp = preprocess_df(df=df, data=data_tag)\n",
    "df_pp.reset_index(drop=True, inplace=True)\n",
    "print('Done preprocessing data.')"
   ]
  },
  {
   "cell_type": "code",
   "execution_count": 6,
   "id": "balanced-communications",
   "metadata": {},
   "outputs": [
    {
     "data": {
      "text/html": [
       "<div>\n",
       "<style scoped>\n",
       "    .dataframe tbody tr th:only-of-type {\n",
       "        vertical-align: middle;\n",
       "    }\n",
       "\n",
       "    .dataframe tbody tr th {\n",
       "        vertical-align: top;\n",
       "    }\n",
       "\n",
       "    .dataframe thead th {\n",
       "        text-align: right;\n",
       "    }\n",
       "</style>\n",
       "<table border=\"1\" class=\"dataframe\">\n",
       "  <thead>\n",
       "    <tr style=\"text-align: right;\">\n",
       "      <th></th>\n",
       "      <th>id</th>\n",
       "      <th>gender</th>\n",
       "      <th>age</th>\n",
       "      <th>topic</th>\n",
       "      <th>sign</th>\n",
       "      <th>date</th>\n",
       "      <th>text</th>\n",
       "      <th>clean_text</th>\n",
       "      <th>age_cat</th>\n",
       "    </tr>\n",
       "  </thead>\n",
       "  <tbody>\n",
       "    <tr>\n",
       "      <th>0</th>\n",
       "      <td>2059027</td>\n",
       "      <td>male</td>\n",
       "      <td>15</td>\n",
       "      <td>Student</td>\n",
       "      <td>Leo</td>\n",
       "      <td>14,May,2004</td>\n",
       "      <td>Info has been found (+/- 100 pages,...</td>\n",
       "      <td>info has been found (+/- 100 pages, and 4.5 mb...</td>\n",
       "      <td>13-17</td>\n",
       "    </tr>\n",
       "    <tr>\n",
       "      <th>1</th>\n",
       "      <td>2059027</td>\n",
       "      <td>male</td>\n",
       "      <td>15</td>\n",
       "      <td>Student</td>\n",
       "      <td>Leo</td>\n",
       "      <td>13,May,2004</td>\n",
       "      <td>These are the team members:   Drewe...</td>\n",
       "      <td>these are the team members:   drewes van der l...</td>\n",
       "      <td>13-17</td>\n",
       "    </tr>\n",
       "    <tr>\n",
       "      <th>2</th>\n",
       "      <td>2059027</td>\n",
       "      <td>male</td>\n",
       "      <td>15</td>\n",
       "      <td>Student</td>\n",
       "      <td>Leo</td>\n",
       "      <td>12,May,2004</td>\n",
       "      <td>In het kader van kernfusie op aarde...</td>\n",
       "      <td>in het kader van kernfusie op aarde:  maak je ...</td>\n",
       "      <td>13-17</td>\n",
       "    </tr>\n",
       "    <tr>\n",
       "      <th>3</th>\n",
       "      <td>2059027</td>\n",
       "      <td>male</td>\n",
       "      <td>15</td>\n",
       "      <td>Student</td>\n",
       "      <td>Leo</td>\n",
       "      <td>12,May,2004</td>\n",
       "      <td>testing!!!  testing!!!</td>\n",
       "      <td>testing!!!  testing!!!</td>\n",
       "      <td>13-17</td>\n",
       "    </tr>\n",
       "    <tr>\n",
       "      <th>4</th>\n",
       "      <td>3581210</td>\n",
       "      <td>male</td>\n",
       "      <td>33</td>\n",
       "      <td>InvestmentBanking</td>\n",
       "      <td>Aquarius</td>\n",
       "      <td>11,June,2004</td>\n",
       "      <td>Thanks to Yahoo!'s Toolbar I can ...</td>\n",
       "      <td>thanks to yahoo!'s toolbar i can now 'capture'...</td>\n",
       "      <td>33-47</td>\n",
       "    </tr>\n",
       "  </tbody>\n",
       "</table>\n",
       "</div>"
      ],
      "text/plain": [
       "        id gender  age              topic      sign          date  \\\n",
       "0  2059027   male   15            Student       Leo   14,May,2004   \n",
       "1  2059027   male   15            Student       Leo   13,May,2004   \n",
       "2  2059027   male   15            Student       Leo   12,May,2004   \n",
       "3  2059027   male   15            Student       Leo   12,May,2004   \n",
       "4  3581210   male   33  InvestmentBanking  Aquarius  11,June,2004   \n",
       "\n",
       "                                                text  \\\n",
       "0             Info has been found (+/- 100 pages,...   \n",
       "1             These are the team members:   Drewe...   \n",
       "2             In het kader van kernfusie op aarde...   \n",
       "3                   testing!!!  testing!!!             \n",
       "4               Thanks to Yahoo!'s Toolbar I can ...   \n",
       "\n",
       "                                          clean_text age_cat  \n",
       "0  info has been found (+/- 100 pages, and 4.5 mb...   13-17  \n",
       "1  these are the team members:   drewes van der l...   13-17  \n",
       "2  in het kader van kernfusie op aarde:  maak je ...   13-17  \n",
       "3                             testing!!!  testing!!!   13-17  \n",
       "4  thanks to yahoo!'s toolbar i can now 'capture'...   33-47  "
      ]
     },
     "execution_count": 6,
     "metadata": {},
     "output_type": "execute_result"
    }
   ],
   "source": [
    "df_pp.head()"
   ]
  },
  {
   "cell_type": "code",
   "execution_count": 7,
   "id": "loaded-album",
   "metadata": {},
   "outputs": [],
   "source": [
    "# Add length column for clean text\n",
    "df_pp['clean_length'] = df_pp['clean_text'].apply(lambda x: len(x.split()))"
   ]
  },
  {
   "cell_type": "code",
   "execution_count": 8,
   "id": "individual-creativity",
   "metadata": {},
   "outputs": [
    {
     "data": {
      "text/html": [
       "<div>\n",
       "<style scoped>\n",
       "    .dataframe tbody tr th:only-of-type {\n",
       "        vertical-align: middle;\n",
       "    }\n",
       "\n",
       "    .dataframe tbody tr th {\n",
       "        vertical-align: top;\n",
       "    }\n",
       "\n",
       "    .dataframe thead th {\n",
       "        text-align: right;\n",
       "    }\n",
       "</style>\n",
       "<table border=\"1\" class=\"dataframe\">\n",
       "  <thead>\n",
       "    <tr style=\"text-align: right;\">\n",
       "      <th></th>\n",
       "      <th>id</th>\n",
       "      <th>gender</th>\n",
       "      <th>age</th>\n",
       "      <th>topic</th>\n",
       "      <th>sign</th>\n",
       "      <th>date</th>\n",
       "      <th>text</th>\n",
       "      <th>clean_text</th>\n",
       "      <th>age_cat</th>\n",
       "      <th>clean_length</th>\n",
       "    </tr>\n",
       "  </thead>\n",
       "  <tbody>\n",
       "    <tr>\n",
       "      <th>0</th>\n",
       "      <td>2059027</td>\n",
       "      <td>male</td>\n",
       "      <td>15</td>\n",
       "      <td>Student</td>\n",
       "      <td>Leo</td>\n",
       "      <td>14,May,2004</td>\n",
       "      <td>Info has been found (+/- 100 pages,...</td>\n",
       "      <td>info has been found (+/- 100 pages, and 4.5 mb...</td>\n",
       "      <td>13-17</td>\n",
       "      <td>28</td>\n",
       "    </tr>\n",
       "    <tr>\n",
       "      <th>1</th>\n",
       "      <td>2059027</td>\n",
       "      <td>male</td>\n",
       "      <td>15</td>\n",
       "      <td>Student</td>\n",
       "      <td>Leo</td>\n",
       "      <td>13,May,2004</td>\n",
       "      <td>These are the team members:   Drewe...</td>\n",
       "      <td>these are the team members:   drewes van der l...</td>\n",
       "      <td>13-17</td>\n",
       "      <td>20</td>\n",
       "    </tr>\n",
       "    <tr>\n",
       "      <th>2</th>\n",
       "      <td>2059027</td>\n",
       "      <td>male</td>\n",
       "      <td>15</td>\n",
       "      <td>Student</td>\n",
       "      <td>Leo</td>\n",
       "      <td>12,May,2004</td>\n",
       "      <td>In het kader van kernfusie op aarde...</td>\n",
       "      <td>in het kader van kernfusie op aarde:  maak je ...</td>\n",
       "      <td>13-17</td>\n",
       "      <td>4326</td>\n",
       "    </tr>\n",
       "    <tr>\n",
       "      <th>3</th>\n",
       "      <td>2059027</td>\n",
       "      <td>male</td>\n",
       "      <td>15</td>\n",
       "      <td>Student</td>\n",
       "      <td>Leo</td>\n",
       "      <td>12,May,2004</td>\n",
       "      <td>testing!!!  testing!!!</td>\n",
       "      <td>testing!!!  testing!!!</td>\n",
       "      <td>13-17</td>\n",
       "      <td>2</td>\n",
       "    </tr>\n",
       "    <tr>\n",
       "      <th>4</th>\n",
       "      <td>3581210</td>\n",
       "      <td>male</td>\n",
       "      <td>33</td>\n",
       "      <td>InvestmentBanking</td>\n",
       "      <td>Aquarius</td>\n",
       "      <td>11,June,2004</td>\n",
       "      <td>Thanks to Yahoo!'s Toolbar I can ...</td>\n",
       "      <td>thanks to yahoo!'s toolbar i can now 'capture'...</td>\n",
       "      <td>33-47</td>\n",
       "      <td>65</td>\n",
       "    </tr>\n",
       "  </tbody>\n",
       "</table>\n",
       "</div>"
      ],
      "text/plain": [
       "        id gender  age              topic      sign          date  \\\n",
       "0  2059027   male   15            Student       Leo   14,May,2004   \n",
       "1  2059027   male   15            Student       Leo   13,May,2004   \n",
       "2  2059027   male   15            Student       Leo   12,May,2004   \n",
       "3  2059027   male   15            Student       Leo   12,May,2004   \n",
       "4  3581210   male   33  InvestmentBanking  Aquarius  11,June,2004   \n",
       "\n",
       "                                                text  \\\n",
       "0             Info has been found (+/- 100 pages,...   \n",
       "1             These are the team members:   Drewe...   \n",
       "2             In het kader van kernfusie op aarde...   \n",
       "3                   testing!!!  testing!!!             \n",
       "4               Thanks to Yahoo!'s Toolbar I can ...   \n",
       "\n",
       "                                          clean_text age_cat  clean_length  \n",
       "0  info has been found (+/- 100 pages, and 4.5 mb...   13-17            28  \n",
       "1  these are the team members:   drewes van der l...   13-17            20  \n",
       "2  in het kader van kernfusie op aarde:  maak je ...   13-17          4326  \n",
       "3                             testing!!!  testing!!!   13-17             2  \n",
       "4  thanks to yahoo!'s toolbar i can now 'capture'...   33-47            65  "
      ]
     },
     "execution_count": 8,
     "metadata": {},
     "output_type": "execute_result"
    }
   ],
   "source": [
    "df_pp.head()"
   ]
  },
  {
   "cell_type": "code",
   "execution_count": 9,
   "id": "typical-lease",
   "metadata": {},
   "outputs": [
    {
     "data": {
      "text/plain": [
       "count    678165.000000\n",
       "mean        201.710196\n",
       "std         415.890346\n",
       "min           1.000000\n",
       "25%          38.000000\n",
       "50%         113.000000\n",
       "75%         256.000000\n",
       "max      131169.000000\n",
       "Name: clean_length, dtype: float64"
      ]
     },
     "execution_count": 9,
     "metadata": {},
     "output_type": "execute_result"
    }
   ],
   "source": [
    "df_pp['clean_length'].describe()"
   ]
  },
  {
   "cell_type": "code",
   "execution_count": 10,
   "id": "proud-cookbook",
   "metadata": {},
   "outputs": [],
   "source": [
    "df_pp['text'][(df.clean_length == 131169)].to_csv(\"max_len_blog.txt\")"
   ]
  },
  {
   "cell_type": "code",
   "execution_count": 11,
   "id": "altered-generator",
   "metadata": {},
   "outputs": [
    {
     "data": {
      "text/plain": [
       "136792795.07034"
      ]
     },
     "execution_count": 11,
     "metadata": {},
     "output_type": "execute_result"
    }
   ],
   "source": [
    "678165 * 201.710196"
   ]
  },
  {
   "cell_type": "code",
   "execution_count": 12,
   "id": "level-privacy",
   "metadata": {},
   "outputs": [],
   "source": [
    "\n",
    "\n",
    "b, c = df_pp.iloc[4].copy(), df_pp.iloc[95].copy()\n",
    "df_pp.iloc[4],df_pp.iloc[95] = c,b"
   ]
  },
  {
   "cell_type": "markdown",
   "id": "desperate-gates",
   "metadata": {},
   "source": [
    "## Distribution wrt Age brackets"
   ]
  },
  {
   "cell_type": "code",
   "execution_count": 13,
   "id": "flexible-priest",
   "metadata": {},
   "outputs": [
    {
     "data": {
      "image/png": "[encoded data removed]",
      "text/plain": [
       "<Figure size 842.4x595.44 with 1 Axes>"
      ]
     },
     "metadata": {
      "needs_background": "light"
     },
     "output_type": "display_data"
    }
   ],
   "source": [
    "# Age distribution, unconditional\n",
    "plt.figure(figsize=PLOT_DIMS)\n",
    "sns.set_style(\"whitegrid\")\n",
    "hist = sns.histplot(df_pp, x = \"age_cat\", stat = \"probability\", hue='gender', multiple='dodge', shrink=0.9)\n",
    "# for legend title and fontsizes\n",
    "plt.setp(hist.get_legend().get_texts(), fontsize=TICK_SIZE + 15) \n",
    "plt.setp(hist.get_legend().get_title(), fontsize=LABEL_SIZE + 15) \n",
    "# plt.hist(df_pp['age_cat'])\n",
    "# plt.legend()\n",
    "plt.xticks(rotation=45, fontsize = TICK_SIZE + 10)\n",
    "plt.yticks(rotation = 0, fontsize = TICK_SIZE + 10)\n",
    "# plt.title(\"BAC age by gender distribution\", fontsize = TITLE_SIZE)\n",
    "plt.xlabel(\"\", fontsize = LABEL_SIZE)\n",
    "plt.ylabel(\"Proportion\", fontsize = LABEL_SIZE)\n",
    "# plt.legend(title='Team', fontsize='10', title_fontsize='14')\n",
    "plt.tight_layout()\n",
    "# plt.savefig('../../figures/paper/blog_age_gender_dist.png')"
   ]
  },
  {
   "cell_type": "code",
   "execution_count": 14,
   "id": "according-fields",
   "metadata": {},
   "outputs": [
    {
     "data": {
      "text/plain": [
       "count     678165\n",
       "unique        40\n",
       "top       indUnk\n",
       "freq      249887\n",
       "Name: topic, dtype: object"
      ]
     },
     "execution_count": 14,
     "metadata": {},
     "output_type": "execute_result"
    }
   ],
   "source": [
    "df_pp.topic.describe()"
   ]
  },
  {
   "cell_type": "code",
   "execution_count": 15,
   "id": "union-picnic",
   "metadata": {},
   "outputs": [
    {
     "data": {
      "text/plain": [
       "indUnk                     0.368475\n",
       "Student                    0.226166\n",
       "Technology                 0.061721\n",
       "Arts                       0.047624\n",
       "Education                  0.043624\n",
       "Communications-Media       0.029513\n",
       "Internet                   0.023485\n",
       "Non-Profit                 0.021574\n",
       "Engineering                0.016988\n",
       "Law                        0.013214\n",
       "Publishing                 0.011372\n",
       "Science                    0.010638\n",
       "Government                 0.010088\n",
       "Consulting                 0.008617\n",
       "Religion                   0.007684\n",
       "Fashion                    0.007132\n",
       "Marketing                  0.006948\n",
       "Advertising                0.006867\n",
       "BusinessServices           0.006597\n",
       "Banking                    0.005953\n",
       "Chemicals                  0.005767\n",
       "Telecommunications         0.005711\n",
       "Accounting                 0.005636\n",
       "Military                   0.004580\n",
       "Museums-Libraries          0.004553\n",
       "Sports-Recreation          0.004455\n",
       "HumanResources             0.004428\n",
       "RealEstate                 0.004222\n",
       "Transportation             0.003421\n",
       "Biotech                    0.003285\n",
       "Manufacturing              0.003251\n",
       "Tourism                    0.002853\n",
       "LawEnforcement-Security    0.002749\n",
       "Architecture               0.002398\n",
       "InvestmentBanking          0.001884\n",
       "Automotive                 0.001827\n",
       "Agriculture                0.001817\n",
       "Construction               0.001610\n",
       "Environment                0.000866\n",
       "Maritime                   0.000406\n",
       "Name: topic, dtype: float64"
      ]
     },
     "execution_count": 15,
     "metadata": {},
     "output_type": "execute_result"
    }
   ],
   "source": [
    "df_pp.topic.value_counts(normalize=True)"
   ]
  },
  {
   "cell_type": "code",
   "execution_count": 16,
   "id": "dimensional-injury",
   "metadata": {},
   "outputs": [],
   "source": [
    "# Grouping topics that account for less than 1% of the topic distribution's density into one category, 'Other'\n",
    "def topic_to_cat(topic):\n",
    "    \n",
    "    if topic == 'indUnk':\n",
    "        return 'unknown'\n",
    "    elif topic == 'Student':\n",
    "        return 'student'\n",
    "    elif topic == \"Technology\":\n",
    "        return 'technology'\n",
    "    elif topic == 'Education':\n",
    "        return 'education'\n",
    "    elif topic == 'Arts':\n",
    "        return 'arts'\n",
    "    elif topic == 'Communications-Media':\n",
    "        return 'com_media'\n",
    "    elif topic == 'Internet':\n",
    "        return 'internet'\n",
    "    elif topic == 'Non-Profit':\n",
    "        return 'non_profit'\n",
    "    elif topic == 'Engineering':\n",
    "        return 'engineering'\n",
    "    elif topic == 'Law':\n",
    "        return 'law'\n",
    "    elif topic == 'Publishing':\n",
    "        return 'publishing'\n",
    "    elif topic == 'Science':\n",
    "        return 'science'\n",
    "    elif topic == 'Government':\n",
    "        return 'government'\n",
    "    else:\n",
    "        return 'other'\n",
    "\n",
    "# Communications-Media       0.029558\n",
    "# Internet                   0.023354\n",
    "# Non-Profit                 0.021598\n",
    "# Engineering                0.016883\n",
    "# Law                        0.013575\n",
    "# Publishing                 0.011659\n",
    "# Science                    0.010627\n",
    "# Government                 0.010087\n",
    "\n",
    "df_pp['topic_cat'] = df_pp['topic'].apply(topic_to_cat)"
   ]
  },
  {
   "cell_type": "code",
   "execution_count": 17,
   "id": "surgical-remainder",
   "metadata": {},
   "outputs": [],
   "source": [
    "# df_pp_temp = df_pp[(df_pp['topic_cat'] != 'unknown')]\n",
    "df_pp_temp = df_pp"
   ]
  },
  {
   "cell_type": "code",
   "execution_count": 18,
   "id": "entitled-madagascar",
   "metadata": {
    "tags": []
   },
   "outputs": [],
   "source": [
    "df_pp_temp.reset_index(drop=True, inplace=True)"
   ]
  },
  {
   "cell_type": "code",
   "execution_count": 19,
   "id": "furnished-copying",
   "metadata": {},
   "outputs": [
    {
     "data": {
      "text/html": [
       "<div>\n",
       "<style scoped>\n",
       "    .dataframe tbody tr th:only-of-type {\n",
       "        vertical-align: middle;\n",
       "    }\n",
       "\n",
       "    .dataframe tbody tr th {\n",
       "        vertical-align: top;\n",
       "    }\n",
       "\n",
       "    .dataframe thead th {\n",
       "        text-align: right;\n",
       "    }\n",
       "</style>\n",
       "<table border=\"1\" class=\"dataframe\">\n",
       "  <thead>\n",
       "    <tr style=\"text-align: right;\">\n",
       "      <th></th>\n",
       "      <th>id</th>\n",
       "      <th>gender</th>\n",
       "      <th>age</th>\n",
       "      <th>topic</th>\n",
       "      <th>sign</th>\n",
       "      <th>date</th>\n",
       "      <th>text</th>\n",
       "      <th>clean_text</th>\n",
       "      <th>age_cat</th>\n",
       "      <th>clean_length</th>\n",
       "      <th>topic_cat</th>\n",
       "    </tr>\n",
       "  </thead>\n",
       "  <tbody>\n",
       "    <tr>\n",
       "      <th>0</th>\n",
       "      <td>2059027</td>\n",
       "      <td>male</td>\n",
       "      <td>15</td>\n",
       "      <td>Student</td>\n",
       "      <td>Leo</td>\n",
       "      <td>14,May,2004</td>\n",
       "      <td>Info has been found (+/- 100 pages,...</td>\n",
       "      <td>info has been found (+/- 100 pages, and 4.5 mb...</td>\n",
       "      <td>13-17</td>\n",
       "      <td>28</td>\n",
       "      <td>student</td>\n",
       "    </tr>\n",
       "    <tr>\n",
       "      <th>1</th>\n",
       "      <td>2059027</td>\n",
       "      <td>male</td>\n",
       "      <td>15</td>\n",
       "      <td>Student</td>\n",
       "      <td>Leo</td>\n",
       "      <td>13,May,2004</td>\n",
       "      <td>These are the team members:   Drewe...</td>\n",
       "      <td>these are the team members:   drewes van der l...</td>\n",
       "      <td>13-17</td>\n",
       "      <td>20</td>\n",
       "      <td>student</td>\n",
       "    </tr>\n",
       "    <tr>\n",
       "      <th>2</th>\n",
       "      <td>2059027</td>\n",
       "      <td>male</td>\n",
       "      <td>15</td>\n",
       "      <td>Student</td>\n",
       "      <td>Leo</td>\n",
       "      <td>12,May,2004</td>\n",
       "      <td>In het kader van kernfusie op aarde...</td>\n",
       "      <td>in het kader van kernfusie op aarde:  maak je ...</td>\n",
       "      <td>13-17</td>\n",
       "      <td>4326</td>\n",
       "      <td>student</td>\n",
       "    </tr>\n",
       "    <tr>\n",
       "      <th>3</th>\n",
       "      <td>2059027</td>\n",
       "      <td>male</td>\n",
       "      <td>15</td>\n",
       "      <td>Student</td>\n",
       "      <td>Leo</td>\n",
       "      <td>12,May,2004</td>\n",
       "      <td>testing!!!  testing!!!</td>\n",
       "      <td>testing!!!  testing!!!</td>\n",
       "      <td>13-17</td>\n",
       "      <td>2</td>\n",
       "      <td>student</td>\n",
       "    </tr>\n",
       "    <tr>\n",
       "      <th>4</th>\n",
       "      <td>4172416</td>\n",
       "      <td>female</td>\n",
       "      <td>25</td>\n",
       "      <td>indUnk</td>\n",
       "      <td>Capricorn</td>\n",
       "      <td>08,August,2004</td>\n",
       "      <td>urlLink     im new to this, ...</td>\n",
       "      <td>urllink     im new to this, can you tell!- god...</td>\n",
       "      <td>23-27</td>\n",
       "      <td>16</td>\n",
       "      <td>unknown</td>\n",
       "    </tr>\n",
       "    <tr>\n",
       "      <th>...</th>\n",
       "      <td>...</td>\n",
       "      <td>...</td>\n",
       "      <td>...</td>\n",
       "      <td>...</td>\n",
       "      <td>...</td>\n",
       "      <td>...</td>\n",
       "      <td>...</td>\n",
       "      <td>...</td>\n",
       "      <td>...</td>\n",
       "      <td>...</td>\n",
       "      <td>...</td>\n",
       "    </tr>\n",
       "    <tr>\n",
       "      <th>678160</th>\n",
       "      <td>1713845</td>\n",
       "      <td>male</td>\n",
       "      <td>23</td>\n",
       "      <td>Student</td>\n",
       "      <td>Taurus</td>\n",
       "      <td>01,July,2004</td>\n",
       "      <td>Dear Susan,  I could write some really ...</td>\n",
       "      <td>dear susan,  i could write some really bitter ...</td>\n",
       "      <td>23-27</td>\n",
       "      <td>40</td>\n",
       "      <td>student</td>\n",
       "    </tr>\n",
       "    <tr>\n",
       "      <th>678161</th>\n",
       "      <td>1713845</td>\n",
       "      <td>male</td>\n",
       "      <td>23</td>\n",
       "      <td>Student</td>\n",
       "      <td>Taurus</td>\n",
       "      <td>01,July,2004</td>\n",
       "      <td>Dear Susan,  'I have the second yeast i...</td>\n",
       "      <td>dear susan,  'i have the second yeast infectio...</td>\n",
       "      <td>23-27</td>\n",
       "      <td>67</td>\n",
       "      <td>student</td>\n",
       "    </tr>\n",
       "    <tr>\n",
       "      <th>678162</th>\n",
       "      <td>1713845</td>\n",
       "      <td>male</td>\n",
       "      <td>23</td>\n",
       "      <td>Student</td>\n",
       "      <td>Taurus</td>\n",
       "      <td>01,July,2004</td>\n",
       "      <td>Dear Susan,  Your 'boyfriend' is fuckin...</td>\n",
       "      <td>dear susan,  your 'boyfriend' is fucking bald!...</td>\n",
       "      <td>23-27</td>\n",
       "      <td>11</td>\n",
       "      <td>student</td>\n",
       "    </tr>\n",
       "    <tr>\n",
       "      <th>678163</th>\n",
       "      <td>1713845</td>\n",
       "      <td>male</td>\n",
       "      <td>23</td>\n",
       "      <td>Student</td>\n",
       "      <td>Taurus</td>\n",
       "      <td>01,July,2004</td>\n",
       "      <td>Dear Susan:    Just to clarify, I am as...</td>\n",
       "      <td>dear susan:    just to clarify, i am asking yo...</td>\n",
       "      <td>23-27</td>\n",
       "      <td>65</td>\n",
       "      <td>student</td>\n",
       "    </tr>\n",
       "    <tr>\n",
       "      <th>678164</th>\n",
       "      <td>1713845</td>\n",
       "      <td>male</td>\n",
       "      <td>23</td>\n",
       "      <td>Student</td>\n",
       "      <td>Taurus</td>\n",
       "      <td>01,July,2004</td>\n",
       "      <td>Hey everybody...and Susan,  You might a...</td>\n",
       "      <td>hey everybody...and susan,  you might already ...</td>\n",
       "      <td>23-27</td>\n",
       "      <td>231</td>\n",
       "      <td>student</td>\n",
       "    </tr>\n",
       "  </tbody>\n",
       "</table>\n",
       "<p>678165 rows × 11 columns</p>\n",
       "</div>"
      ],
      "text/plain": [
       "             id  gender  age    topic       sign            date  \\\n",
       "0       2059027    male   15  Student        Leo     14,May,2004   \n",
       "1       2059027    male   15  Student        Leo     13,May,2004   \n",
       "2       2059027    male   15  Student        Leo     12,May,2004   \n",
       "3       2059027    male   15  Student        Leo     12,May,2004   \n",
       "4       4172416  female   25   indUnk  Capricorn  08,August,2004   \n",
       "...         ...     ...  ...      ...        ...             ...   \n",
       "678160  1713845    male   23  Student     Taurus    01,July,2004   \n",
       "678161  1713845    male   23  Student     Taurus    01,July,2004   \n",
       "678162  1713845    male   23  Student     Taurus    01,July,2004   \n",
       "678163  1713845    male   23  Student     Taurus    01,July,2004   \n",
       "678164  1713845    male   23  Student     Taurus    01,July,2004   \n",
       "\n",
       "                                                     text  \\\n",
       "0                  Info has been found (+/- 100 pages,...   \n",
       "1                  These are the team members:   Drewe...   \n",
       "2                  In het kader van kernfusie op aarde...   \n",
       "3                        testing!!!  testing!!!             \n",
       "4                         urlLink     im new to this, ...   \n",
       "...                                                   ...   \n",
       "678160         Dear Susan,  I could write some really ...   \n",
       "678161         Dear Susan,  'I have the second yeast i...   \n",
       "678162         Dear Susan,  Your 'boyfriend' is fuckin...   \n",
       "678163         Dear Susan:    Just to clarify, I am as...   \n",
       "678164         Hey everybody...and Susan,  You might a...   \n",
       "\n",
       "                                               clean_text age_cat  \\\n",
       "0       info has been found (+/- 100 pages, and 4.5 mb...   13-17   \n",
       "1       these are the team members:   drewes van der l...   13-17   \n",
       "2       in het kader van kernfusie op aarde:  maak je ...   13-17   \n",
       "3                                  testing!!!  testing!!!   13-17   \n",
       "4       urllink     im new to this, can you tell!- god...   23-27   \n",
       "...                                                   ...     ...   \n",
       "678160  dear susan,  i could write some really bitter ...   23-27   \n",
       "678161  dear susan,  'i have the second yeast infectio...   23-27   \n",
       "678162  dear susan,  your 'boyfriend' is fucking bald!...   23-27   \n",
       "678163  dear susan:    just to clarify, i am asking yo...   23-27   \n",
       "678164  hey everybody...and susan,  you might already ...   23-27   \n",
       "\n",
       "        clean_length topic_cat  \n",
       "0                 28   student  \n",
       "1                 20   student  \n",
       "2               4326   student  \n",
       "3                  2   student  \n",
       "4                 16   unknown  \n",
       "...              ...       ...  \n",
       "678160            40   student  \n",
       "678161            67   student  \n",
       "678162            11   student  \n",
       "678163            65   student  \n",
       "678164           231   student  \n",
       "\n",
       "[678165 rows x 11 columns]"
      ]
     },
     "execution_count": 19,
     "metadata": {},
     "output_type": "execute_result"
    }
   ],
   "source": [
    "df_pp_temp"
   ]
  },
  {
   "cell_type": "code",
   "execution_count": 20,
   "id": "hazardous-allen",
   "metadata": {},
   "outputs": [],
   "source": [
    "# b, c = df_pp_temp.iloc[4].copy(), df_pp_temp.iloc[678160].copy()\n",
    "# df_pp_temp.iloc[4],df_pp_temp.iloc[427621] = c,b"
   ]
  },
  {
   "cell_type": "code",
   "execution_count": 24,
   "id": "introductory-celtic",
   "metadata": {},
   "outputs": [
    {
     "data": {
      "image/png": "[encoded data removed]",
      "text/plain": [
       "<Figure size 842.4x595.44 with 1 Axes>"
      ]
     },
     "metadata": {},
     "output_type": "display_data"
    }
   ],
   "source": [
    "plt.figure(figsize=PLOT_DIMS)\n",
    "# sns.heatmap(pd.crosstab(df_pp.age_cat, df_pp.topic_cat), annot=True, fmt='g', cmap = 'Blues')\n",
    "df_pp_temp.rename(columns={'age_cat': 'age group'}, inplace=True)\n",
    "hist = sns.histplot(df_pp_temp, x = 'topic_cat', hue='age group', stat='probability', multiple='dodge', shrink=0.8)\n",
    "df_pp_temp.rename(columns={'age group': 'age_cat'}, inplace=True)\n",
    "sns.set_style(\"whitegrid\")\n",
    "# for legend title and fontsizes\n",
    "plt.setp(hist.get_legend().get_texts(), fontsize=TICK_SIZE + 15) \n",
    "plt.setp(hist.get_legend().get_title(), fontsize=LABEL_SIZE + 15) \n",
    "plt.xticks(rotation=80, fontsize = TICK_SIZE + 10)\n",
    "plt.yticks(rotation = 0, fontsize = TICK_SIZE + 10)\n",
    "plt.title(\"\", fontsize = TITLE_SIZE)\n",
    "plt.xlabel(\"\", fontsize = LABEL_SIZE)\n",
    "plt.ylabel(\"Relative frequency\", fontsize = LABEL_SIZE + 10)\n",
    "plt.tight_layout()\n",
    "plt.savefig('../../figures/paper/blog_age_topic_histogram.png')"
   ]
  },
  {
   "cell_type": "code",
   "execution_count": 26,
   "id": "legendary-notebook",
   "metadata": {},
   "outputs": [
    {
     "data": {
      "text/plain": [
       "0.27"
      ]
     },
     "execution_count": 26,
     "metadata": {},
     "output_type": "execute_result"
    }
   ],
   "source": [
    "0.742-0.472"
   ]
  },
  {
   "cell_type": "code",
   "execution_count": null,
   "id": "varying-invite",
   "metadata": {},
   "outputs": [],
   "source": [
    "plt.figure(figsize=PLOT_DIMS)\n",
    "sns.heatmap(pd.crosstab(df_pp.age_cat, df_pp.topic_cat), annot=True, fmt='g', cmap = 'Blues', square=True,\n",
    "           cbar_kws={\"orientation\": \"horizontal\"}, cbar=False)\n",
    "# hist = sns.histplot(df_pp, x = 'topic_cat', hue='age_cat', stat='probability', multiple='dodge', shrink=0.8)\n",
    "# sns.set_style(\"whitegrid\")\n",
    "# for legend title and fontsizes\n",
    "plt.setp(hist.get_legend().get_texts(), fontsize=TICK_SIZE) \n",
    "plt.setp(hist.get_legend().get_title(), fontsize=LABEL_SIZE) \n",
    "plt.xticks(rotation=80, fontsize = TICK_SIZE)\n",
    "plt.yticks(rotation = 0, fontsize = TICK_SIZE)\n",
    "plt.title(\"Blog topics by age group\", fontsize = TITLE_SIZE)\n",
    "plt.xlabel(\"Blog topic\", fontsize = LABEL_SIZE)\n",
    "plt.ylabel(\"Age bracket\", fontsize = LABEL_SIZE)\n",
    "plt.tight_layout()\n",
    "# plt.savefig('../../figures/paper/blog_age_topic_heatmap.png')"
   ]
  },
  {
   "cell_type": "code",
   "execution_count": null,
   "id": "diverse-thirty",
   "metadata": {},
   "outputs": [],
   "source": [
    "plt.figure(figsize=PLOT_DIMS)\n",
    "# sns.heatmap(pd.crosstab(df_pp.age_cat, df_pp.topic_cat), annot=True, fmt='g', cmap = 'Blues')\n",
    "# df_pp_temp.rename(columns={'age_cat': 'age group'}, inplace=True)\n",
    "hist = sns.histplot(df_pp_temp, x = 'topic_cat', hue='age group', stat='probability', multiple='dodge', shrink=0.8)\n",
    "# df_pp_temp.rename(columns={'age group': 'age_cat'}, inplace=True)\n",
    "sns.set_style(\"whitegrid\")\n",
    "# for legend title and fontsizes\n",
    "plt.setp(hist.get_legend().get_texts(), fontsize=TICK_SIZE + 15) \n",
    "plt.setp(hist.get_legend().get_title(), fontsize=LABEL_SIZE + 15) \n",
    "plt.xticks(rotation=80, fontsize = TICK_SIZE + 10)\n",
    "plt.yticks(rotation = 0, fontsize = TICK_SIZE + 10)\n",
    "# plt.title(\"Blog topics by age group\", fontsize = TITLE_SIZE)\n",
    "plt.xlabel(\"\", fontsize = LABEL_SIZE)\n",
    "plt.ylabel(\"Relative frequency\", fontsize = LABEL_SIZE + 10)\n",
    "plt.tight_layout()\n",
    "plt.savefig('../../figures/paper/blog_age_topic_histogram.png')"
   ]
  },
  {
   "cell_type": "markdown",
   "id": "interstate-level",
   "metadata": {},
   "source": [
    "## BNC_RB"
   ]
  },
  {
   "cell_type": "code",
   "execution_count": null,
   "id": "correct-static",
   "metadata": {},
   "outputs": [],
   "source": [
    "# Data path\n",
    "# raw_csv_path = '../../data/bnc/bnc_subset_19_29_vs_50_plus_nfiles_0_rand_balanced.csv'\n",
    "# raw_csv_path = '../../data/blogs_kaggle/blogtext.csv'\n",
    "raw_csv_path ='subsets/bnc_subset_19_29_vs_50_plus_nfiles_0_w_gender_topics.csv'\n",
    "# raw_csv_path ='../../data/bnc/bnc_subset_19_29_vs_50_plus_nfiles_0.csv'\n",
    "data_tag = 'bnc_rb'\n",
    "# data_tag = 'blog'"
   ]
  },
  {
   "cell_type": "code",
   "execution_count": null,
   "id": "drawn-shakespeare",
   "metadata": {},
   "outputs": [],
   "source": [
    "# Read csv to dataframe\n",
    "print('Loading data...')\n",
    "df = pd.read_csv(raw_csv_path, encoding=\"utf-8\")  # to keep no. unique chars consistent across platforms\n",
    "\n",
    "# Preprocess data\n",
    "print('Preprocessing data...')\n",
    "df_pp = preprocess_df(df=df, data=data_tag)\n",
    "df_pp.reset_index(drop=True, inplace=True)\n",
    "print('Done preprocessing data.')"
   ]
  },
  {
   "cell_type": "code",
   "execution_count": null,
   "id": "cosmetic-vitamin",
   "metadata": {},
   "outputs": [],
   "source": [
    "df_pp.head()"
   ]
  },
  {
   "cell_type": "code",
   "execution_count": null,
   "id": "marine-velvet",
   "metadata": {},
   "outputs": [],
   "source": [
    "# Add length column for clean text\n",
    "df_pp['clean_length'] = df_pp['clean_text'].apply(lambda x: len(x.split()))"
   ]
  },
  {
   "cell_type": "code",
   "execution_count": null,
   "id": "incorrect-china",
   "metadata": {},
   "outputs": [],
   "source": [
    "df_pp.head()"
   ]
  },
  {
   "cell_type": "code",
   "execution_count": null,
   "id": "apart-pension",
   "metadata": {},
   "outputs": [],
   "source": [
    "# df_pp.label[2000]\n",
    "\n",
    "b, c = df_pp.iloc[0].copy(), df_pp.iloc[2000].copy()\n",
    "df_pp.iloc[0],df_pp.iloc[2000] = c,b"
   ]
  },
  {
   "cell_type": "code",
   "execution_count": null,
   "id": "challenging-agriculture",
   "metadata": {
    "tags": []
   },
   "outputs": [],
   "source": [
    "len(df_pp)"
   ]
  },
  {
   "cell_type": "code",
   "execution_count": null,
   "id": "transparent-sharp",
   "metadata": {},
   "outputs": [],
   "source": [
    "df_pp['clean_length'].describe()"
   ]
  },
  {
   "cell_type": "markdown",
   "id": "exclusive-array",
   "metadata": {},
   "source": [
    "### Distribution wrt age brackets"
   ]
  },
  {
   "cell_type": "code",
   "execution_count": null,
   "id": "portable-reset",
   "metadata": {},
   "outputs": [],
   "source": [
    "# Age distribution, unconditional\n",
    "plt.figure(figsize=PLOT_DIMS)\n",
    "sns.set_style(\"whitegrid\")\n",
    "df_pp[\"gender\"].replace({\"M\": \"male\", \"F\": \"female\"}, inplace=True)\n",
    "hist = sns.histplot(df_pp, x = \"label\", stat = \"probability\", hue='gender', multiple='dodge', shrink=0.9)\n",
    "df_pp[\"gender\"].replace({\"male\": \"M\", \"female\": \"F\"}, inplace=True)\n",
    "# for legend title and fontsizes\n",
    "\n",
    "plt.setp(hist.get_legend().get_texts(), fontsize=TICK_SIZE + 15) \n",
    "plt.setp(hist.get_legend().get_title(), fontsize=LABEL_SIZE + 15) \n",
    "# plt.hist(df_pp['age_cat'])\n",
    "plt.xticks(rotation=45, fontsize = TICK_SIZE + 10)\n",
    "plt.yticks(rotation = 0, fontsize = TICK_SIZE + 10)\n",
    "# plt.title(\"BNC age by gender distribution\", fontsize = TITLE_SIZE)\n",
    "plt.xlabel(\"\", fontsize = LABEL_SIZE)\n",
    "plt.ylabel(\"Proportion\", fontsize = LABEL_SIZE + 10)\n",
    "# plt.legend(title='Team', fontsize='10', title_fontsize='14')\n",
    "plt.tight_layout()\n",
    "# plt.savefig('../../figures/paper/bnc_rb_age_gender_dist.png')"
   ]
  },
  {
   "cell_type": "code",
   "execution_count": null,
   "id": "aggressive-detection",
   "metadata": {},
   "outputs": [],
   "source": [
    "df_pp.clean_length.describe()"
   ]
  },
  {
   "cell_type": "code",
   "execution_count": null,
   "id": "private-organic",
   "metadata": {},
   "outputs": [],
   "source": [
    "# Per age group\n",
    "df_pp.clean_length[df_pp['label'] == '50_plus'].describe()"
   ]
  },
  {
   "cell_type": "code",
   "execution_count": null,
   "id": "ignored-antique",
   "metadata": {},
   "outputs": [],
   "source": [
    "# Per age group\n",
    "df_pp.clean_length[df_pp['label'] == '19_29'].describe()"
   ]
  },
  {
   "cell_type": "code",
   "execution_count": null,
   "id": "affected-focus",
   "metadata": {},
   "outputs": [],
   "source": [
    "sum(df_pp.clean_length[df_pp['label'] == '19_29'])"
   ]
  },
  {
   "cell_type": "code",
   "execution_count": null,
   "id": "consolidated-malaysia",
   "metadata": {},
   "outputs": [],
   "source": [
    "sum(df_pp.clean_length[df_pp['label'] == '50_plus'])"
   ]
  },
  {
   "cell_type": "code",
   "execution_count": null,
   "id": "announced-warren",
   "metadata": {},
   "outputs": [],
   "source": [
    "# Add length column for raw text\n",
    "df_pp['raw_length'] = df_pp['text'].apply(lambda x: len(x.split()))"
   ]
  },
  {
   "cell_type": "code",
   "execution_count": null,
   "id": "hundred-merit",
   "metadata": {},
   "outputs": [],
   "source": [
    "df_pp.raw_length.describe()"
   ]
  },
  {
   "cell_type": "code",
   "execution_count": null,
   "id": "ecological-horizontal",
   "metadata": {},
   "outputs": [],
   "source": [
    "sum(df_pp['raw_length'])"
   ]
  },
  {
   "cell_type": "code",
   "execution_count": null,
   "id": "other-swimming",
   "metadata": {},
   "outputs": [],
   "source": [
    "df_pp.raw_length.quantile(0.90)"
   ]
  },
  {
   "cell_type": "code",
   "execution_count": null,
   "id": "headed-adoption",
   "metadata": {},
   "outputs": [],
   "source": [
    "381195 + 406157"
   ]
  },
  {
   "cell_type": "code",
   "execution_count": null,
   "id": "forced-luxembourg",
   "metadata": {},
   "outputs": [],
   "source": [
    "quantiles = []\n",
    "# for q in [0.1, 0.2, 0.3, 0.4, 0.5, 0.60, 0.70, 0.80, 0.90, 0.99]:\n",
    "for q in [0.5, 0.55, 0.60, 0.65, 0.7, 0.75, 0.8, 0.85, 0.9, 0.95, 0.99]:    \n",
    "    quantile = df_pp.raw_length.quantile(q)\n",
    "    quantiles.append(quantile)\n",
    "    print(f\" {q*100}% = {quantile}\")"
   ]
  },
  {
   "cell_type": "code",
   "execution_count": null,
   "id": "inner-biotechnology",
   "metadata": {},
   "outputs": [],
   "source": [
    "quantiles"
   ]
  },
  {
   "cell_type": "code",
   "execution_count": null,
   "id": "valued-hawaii",
   "metadata": {
    "tags": []
   },
   "outputs": [],
   "source": [
    "test_arr = []\n",
    "\n",
    "for length in quantiles:\n",
    "    test_arr = test_arr + 15*[length]\n",
    "    \n",
    "test_arr = np.array(test_arr)"
   ]
  },
  {
   "cell_type": "code",
   "execution_count": null,
   "id": "solar-clear",
   "metadata": {},
   "outputs": [],
   "source": [
    "for q in [0.1, 0.2, 0.3, 0.4, 0.5, 0.60, 0.70, 0.80, 0.90, 0.99]:\n",
    "# for q in [0.5, 0.55, 0.60, 0.65, 0.7, 0.75, 0.8, 0.85, 0.9, 0.95, 0.99]:    \n",
    "    quantile = np.quantile(test_arr, q)\n",
    "    print(f\" {q*100}% = {np.round(quantile, 0)}\")"
   ]
  },
  {
   "cell_type": "code",
   "execution_count": null,
   "id": "recent-synthetic",
   "metadata": {},
   "outputs": [],
   "source": [
    "len(test_arr)"
   ]
  },
  {
   "cell_type": "code",
   "execution_count": null,
   "id": "binary-vinyl",
   "metadata": {},
   "outputs": [],
   "source": [
    "# Density Plot and Histogram of no. tokens per utterance\n",
    "fig, ax = plt.subplots(figsize=PLOT_DIMS)\n",
    "sns.distplot(df_pp['raw_length'], hist=True, kde=True, \n",
    "             bins=int(180), color = 'darkgreen', \n",
    "             hist_kws={'edgecolor':'black'},\n",
    "             kde_kws={'linewidth': 4})\n",
    "ax.set_title(\"Distribution of number of tokens per utterance.\", size=LABEL_SIZE)\n",
    "ax.set_xlabel(\"No. tokens per utterance\", size=LABEL_SIZE)\n",
    "ax.set_ylabel(\"Density\", size=LABEL_SIZE)\n",
    "plt.xlim(0, 83)\n",
    "plt.setp(ax.get_xticklabels(), fontsize=TICK_SIZE)\n",
    "plt.setp(ax.get_yticklabels(), fontsize=TICK_SIZE)\n",
    "plt.grid(True)\n",
    "plt.tight_layout()\n",
    "# plt.savefig('../../figures/bnc/bnc_tokens_kde.png')"
   ]
  },
  {
   "cell_type": "markdown",
   "id": "latin-shore",
   "metadata": {},
   "source": [
    "## Topics"
   ]
  },
  {
   "cell_type": "code",
   "execution_count": null,
   "id": "included-equation",
   "metadata": {},
   "outputs": [],
   "source": [
    "topics_set = set()\n",
    "all_topics_list = []\n",
    "topics_counter = Counter\n",
    "for topic_list in df_pp.topics:\n",
    "    topic_list = ast.literal_eval(topic_list)\n",
    "    topic_list = [re.sub(r'[^A-Za-z]+',' ', topic).strip() for topic in topic_list]\n",
    "    topics_set.update(topic_list)\n",
    "    all_topics_list = all_topics_list + topic_list"
   ]
  },
  {
   "cell_type": "code",
   "execution_count": null,
   "id": "finite-wednesday",
   "metadata": {},
   "outputs": [],
   "source": [
    "len(topics_set)"
   ]
  },
  {
   "cell_type": "code",
   "execution_count": null,
   "id": "ranking-allocation",
   "metadata": {},
   "outputs": [],
   "source": [
    "# df_check = pd.read_csv('../../data/bnc/bnc_subset_19_29_vs_50_plus_nfiles_0_rand_balanced.csv', encoding=\"utf-8\")  # to keep no. unique chars consistent across platforms\n",
    "\n",
    "# nu_19 = df_check[df_check.label == '19_29']['speaker_id'].nunique()\n",
    "# nu_50 = df_check[df_check.label == '50_plus']['speaker_id'].nunique()\n",
    "# print(f'No. unique speakers in range 19_29: {nu_19}')\n",
    "# print(f'No. unique speakers in range 50_plus: {nu_50}')"
   ]
  },
  {
   "cell_type": "code",
   "execution_count": null,
   "id": "better-honey",
   "metadata": {},
   "outputs": [],
   "source": [
    "# Topic counter\n",
    "topic_counter = Counter(all_topics_list)"
   ]
  },
  {
   "cell_type": "code",
   "execution_count": null,
   "id": "periodic-break",
   "metadata": {},
   "outputs": [],
   "source": [
    "# Percentage of topics with more than one occurrence\n",
    "topics_1_occ = [(topic, freq) for topic, freq in topic_counter.most_common() if freq == 1]\n",
    "print(f\"{((len(topic_counter) - len(topics_1_occ)) / len(topic_counter)) * 100}% of topics have more than 1 occurrence.\")"
   ]
  },
  {
   "cell_type": "code",
   "execution_count": null,
   "id": "tutorial-rwanda",
   "metadata": {},
   "outputs": [],
   "source": [
    "# topic_counter.most_common()\n",
    "\n",
    "# [('food', 10638),\n",
    "#  ('work', 10425),\n",
    "#  ('friends', 9010),\n",
    "#  ('family', 6342),\n",
    "#  ('relationships', 5033),\n",
    "#  ('future plans', 4974),\n",
    "#  ('no info', 4181),\n",
    "#  ('holidays', 4123),\n",
    "#  ('university', 2999),\n",
    "#  ('cooking', 2612),\n",
    "#  ('', 2198),\n",
    "#  ('travelling', 2051),\n",
    "#  ('health', 1814),\n",
    "#  ('ex boyfriends', 1662),\n",
    "#  ('tv', 1569),\n",
    "#  ('catch up', 1567),\n",
    "#  ('marriage', 1545),\n",
    "#  ('shopping', 1513),\n",
    "#  ('weather', 1472),\n",
    "#  ('tv shows', 1468),\n",
    "#  ('scottish referendum', 1423),\n",
    "#  ('cars', 1406),\n",
    "#  ('films', 1385),\n",
    "#  ('job interview', 1310),\n",
    "#  ('colleague', 1310)]"
   ]
  },
  {
   "cell_type": "code",
   "execution_count": null,
   "id": "filled-subscription",
   "metadata": {},
   "outputs": [],
   "source": [
    "top_10_topics_counts = [('food', 10638),\n",
    " ('work', 10425),\n",
    " ('friends', 9010),\n",
    " ('family', 6342),\n",
    " ('relationships', 5033),\n",
    " ('future plans', 4974),\n",
    " ('no info', 4181),\n",
    " ('holidays', 4123),\n",
    " ('university', 2999),\n",
    " ('cooking', 2612),('travelling', 2051),\n",
    " ('health', 1814),\n",
    " ('ex boyfriends', 1662),\n",
    " ('tv', 1569),\n",
    " ('catch up', 1567),\n",
    " ('marriage', 1545)]\n",
    "\n",
    "\n",
    "# top_10_topics_counts =[('food', 10638),\n",
    "#  ('work', 10425),\n",
    "#  ('friends', 9010),\n",
    "#  ('family', 6342),\n",
    "#  ('relationships', 5033),\n",
    "#  ('future plans', 4974),\n",
    "#  ('no info', 4181),\n",
    "#  ('holidays', 4123),\n",
    "#  ('university', 2999),\n",
    "#  ('cooking', 2612),\n",
    "#  ('travelling', 2051),\n",
    "#  ('health', 1814),\n",
    "#  ('ex boyfriends', 1662),\n",
    "#  ('tv', 1569),\n",
    "#  ('catch up', 1567),\n",
    "#  ('marriage', 1545),\n",
    "#  ('shopping', 1513),\n",
    "#  ('weather', 1472), ('tv shows', 1468)]"
   ]
  },
  {
   "cell_type": "code",
   "execution_count": null,
   "id": "peaceful-perry",
   "metadata": {},
   "outputs": [],
   "source": [
    "top_10_topics_list = [topic for topic, freq in top_10_topics_counts]\n"
   ]
  },
  {
   "cell_type": "code",
   "execution_count": null,
   "id": "fluid-bottle",
   "metadata": {},
   "outputs": [],
   "source": [
    "top_10_topics_list"
   ]
  },
  {
   "cell_type": "code",
   "execution_count": null,
   "id": "growing-relaxation",
   "metadata": {},
   "outputs": [],
   "source": [
    "def freq_topic_col(topic_list, top_topic_list=top_10_topics_list):\n",
    "    \n",
    "    topic_list = ast.literal_eval(topic_list)\n",
    "    topic_list = [re.sub(r'[^A-Za-z]+',' ', topic).strip() for topic in topic_list]\n",
    "    overlap = [topic for topic in topic_list if topic in top_topic_list]\n",
    "    \n",
    "    if overlap == []:\n",
    "        overlap = 'none'\n",
    "        return overlap\n",
    "    else:\n",
    "        return overlap[0]\n",
    "\n",
    "df_pp['freq_topics'] = df_pp['topics'].apply(freq_topic_col)"
   ]
  },
  {
   "cell_type": "code",
   "execution_count": null,
   "id": "alleged-drilling",
   "metadata": {},
   "outputs": [],
   "source": [
    "# topic_list = df_pp.topics[500]\n",
    "# topic_list = ast.literal_eval(topic_list)\n",
    "# topic_list = [re.sub(r'[^A-Za-z]+',' ', topic).strip() for topic in topic_list]\n",
    "# overlap = [topic for topic in topic_list if topic in top_10_topics_list]\n",
    "# df_pp"
   ]
  },
  {
   "cell_type": "code",
   "execution_count": null,
   "id": "treated-joining",
   "metadata": {},
   "outputs": [],
   "source": [
    "# df_pp_temp = df_pp[(df_pp['freq_topics'] != 'none') & (df_pp['freq_topics'] != 'no info')]\n",
    "df_pp_temp = df_pp"
   ]
  },
  {
   "cell_type": "code",
   "execution_count": null,
   "id": "informed-layer",
   "metadata": {},
   "outputs": [],
   "source": [
    "df_pp_temp.freq_topics.describe()"
   ]
  },
  {
   "cell_type": "code",
   "execution_count": null,
   "id": "resident-kernel",
   "metadata": {},
   "outputs": [],
   "source": [
    "plt.figure(figsize=PLOT_DIMS)\n",
    "# sns.heatmap(pd.crosstab(df_pp.age_cat, df_pp.topic_cat), annot=True, fmt='g', cmap = 'Blues')\n",
    "df_pp_temp.rename(columns={'label': 'age group'}, inplace=True)\n",
    "hist = sns.histplot(df_pp_temp, x = 'freq_topics', hue='age group', stat='probability', multiple='dodge', shrink=0.8)\n",
    "df_pp_temp.rename(columns={'age group': 'label'}, inplace=True)\n",
    "sns.set_style(\"whitegrid\")\n",
    "# for legend title and fontsizes\n",
    "plt.setp(hist.get_legend().get_texts(), fontsize=TICK_SIZE + 15) \n",
    "plt.setp(hist.get_legend().get_title(), fontsize=LABEL_SIZE + 15) \n",
    "plt.xticks(rotation=80, fontsize = TICK_SIZE + 10)\n",
    "plt.yticks(rotation = 0, fontsize = TICK_SIZE + 10)\n",
    "# plt.title(\"BNC topics by age group\", fontsize = TITLE_SIZE)\n",
    "plt.xlabel(\"\", fontsize = LABEL_SIZE + 10)\n",
    "plt.ylabel(\"Relative frequency\", fontsize = LABEL_SIZE + 10)\n",
    "plt.tight_layout()\n",
    "# plt.savefig('../../figures/paper/bnc_age_topic_histogram.png')"
   ]
  },
  {
   "cell_type": "code",
   "execution_count": null,
   "id": "descending-disorder",
   "metadata": {},
   "outputs": [],
   "source": [
    "# plt.rcParams.keys()"
   ]
  },
  {
   "cell_type": "code",
   "execution_count": null,
   "id": "regulated-slovak",
   "metadata": {},
   "outputs": [],
   "source": []
  },
  {
   "cell_type": "code",
   "execution_count": null,
   "id": "fitting-accreditation",
   "metadata": {},
   "outputs": [],
   "source": []
  },
  {
   "cell_type": "markdown",
   "id": "finished-celebrity",
   "metadata": {},
   "source": [
    "## Case analysis\n"
   ]
  },
  {
   "cell_type": "code",
   "execution_count": null,
   "id": "working-immunology",
   "metadata": {},
   "outputs": [],
   "source": []
  },
  {
   "cell_type": "code",
   "execution_count": null,
   "id": "chief-montreal",
   "metadata": {},
   "outputs": [],
   "source": [
    "case_df = pd.read_csv('../../data/bnc/bnc_rb_10p_testset_case_analysis_final.csv', encoding=\"utf-8\")"
   ]
  },
  {
   "cell_type": "code",
   "execution_count": null,
   "id": "honest-constitutional",
   "metadata": {},
   "outputs": [],
   "source": [
    "case_df.head()"
   ]
  },
  {
   "cell_type": "code",
   "execution_count": null,
   "id": "failing-constant",
   "metadata": {},
   "outputs": [],
   "source": [
    "# trigram was right\n",
    "len(case_df.loc[case_df.trigram_pred == case_df.label]) / len(case_df)"
   ]
  },
  {
   "cell_type": "code",
   "execution_count": null,
   "id": "australian-puppy",
   "metadata": {},
   "outputs": [],
   "source": [
    "sum(case_df.bert_pred == case_df.label) / len(case_df)"
   ]
  },
  {
   "cell_type": "code",
   "execution_count": null,
   "id": "international-august",
   "metadata": {},
   "outputs": [],
   "source": [
    "len(case_df)"
   ]
  },
  {
   "cell_type": "markdown",
   "id": "balanced-thunder",
   "metadata": {},
   "source": [
    "## Dialogue recovery of utterances selected by Sandro"
   ]
  },
  {
   "cell_type": "code",
   "execution_count": null,
   "id": "otherwise-object",
   "metadata": {},
   "outputs": [],
   "source": [
    "## 19-29\n",
    "# snippet = \"you'd need a crazy curriculum\"\n",
    "# snippet = \"oh that's cool\"\n",
    "# snippet = 'different sights and stuff'\n",
    "# snippet = \"yeah I know I can imagine like a big erm\"\n",
    "\n",
    "## 50 plus\n",
    "# snippet = 'right yes definitely and then yes it just came in the door'\n",
    "# snippet = \"I said no I don't have them\"\n",
    "snippet = \"that's of course\""
   ]
  },
  {
   "cell_type": "code",
   "execution_count": null,
   "id": "reasonable-argentina",
   "metadata": {},
   "outputs": [],
   "source": [
    "conv_id = df_pp[df_pp.text == snippet].conv_id.item()"
   ]
  },
  {
   "cell_type": "code",
   "execution_count": null,
   "id": "marked-insured",
   "metadata": {},
   "outputs": [],
   "source": [
    "conv_id"
   ]
  },
  {
   "cell_type": "code",
   "execution_count": null,
   "id": "solid-poverty",
   "metadata": {},
   "outputs": [],
   "source": [
    "turn = df_pp[df_pp.text == snippet].turn.item()\n",
    "age = df_pp[df_pp.text == snippet].age_cat.item()\n",
    "print(turn)\n",
    "print(age)"
   ]
  },
  {
   "cell_type": "code",
   "execution_count": null,
   "id": "commercial-ribbon",
   "metadata": {},
   "outputs": [],
   "source": [
    "conv_df = df_pp[df_pp.conv_id == conv_id]"
   ]
  },
  {
   "cell_type": "code",
   "execution_count": null,
   "id": "genuine-cornwall",
   "metadata": {},
   "outputs": [],
   "source": [
    "# conv_df.to_csv(f'../../analyses/sample_dialogues/sample_conv_5_age_{age}_turn_{turn}.csv', index=False)"
   ]
  },
  {
   "cell_type": "code",
   "execution_count": null,
   "id": "expressed-recommendation",
   "metadata": {},
   "outputs": [],
   "source": [
    "shee"
   ]
  },
  {
   "cell_type": "code",
   "execution_count": null,
   "id": "employed-forward",
   "metadata": {},
   "outputs": [],
   "source": []
  },
  {
   "cell_type": "markdown",
   "id": "confused-measure",
   "metadata": {},
   "source": [
    "### Imbalanced BNC"
   ]
  },
  {
   "cell_type": "code",
   "execution_count": null,
   "id": "valuable-alloy",
   "metadata": {},
   "outputs": [],
   "source": []
  }
 ],
 "metadata": {
  "kernelspec": {
   "display_name": "Python 3",
   "language": "python",
   "name": "python3"
  },
  "language_info": {
   "codemirror_mode": {
    "name": "ipython",
    "version": 3
   },
   "file_extension": ".py",
   "mimetype": "text/x-python",
   "name": "python",
   "nbconvert_exporter": "python",
   "pygments_lexer": "ipython3",
   "version": "3.7.10"
  }
 },
 "nbformat": 4,
 "nbformat_minor": 5
}
