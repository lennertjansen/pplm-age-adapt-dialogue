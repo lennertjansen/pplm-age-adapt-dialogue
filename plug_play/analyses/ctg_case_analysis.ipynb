{
 "cells": [
  {
   "cell_type": "markdown",
   "id": "widespread-panel",
   "metadata": {},
   "source": [
    "# CTG Qualitative Analysis #1: Case Analysis"
   ]
  },
  {
   "cell_type": "code",
   "execution_count": 1,
   "id": "vertical-acceptance",
   "metadata": {},
   "outputs": [],
   "source": [
    "# Imports\n",
    "%matplotlib inline\n",
    "\n",
    "import pandas as pd\n",
    "import numpy as np\n",
    "from pdb import set_trace\n",
    "import matplotlib.pyplot as plt\n",
    "import seaborn as sns"
   ]
  },
  {
   "cell_type": "code",
   "execution_count": 2,
   "id": "split-morrison",
   "metadata": {},
   "outputs": [],
   "source": [
    "# GLOBAL VARIABLES\n",
    "PLOT_DIMS = (11.7, 8.27)\n",
    "TITLE_SIZE = 30\n",
    "LABEL_SIZE = 25\n",
    "TICK_SIZE=20\n",
    "CI=95\n",
    "ERR_STYLE='bars'"
   ]
  },
  {
   "cell_type": "code",
   "execution_count": 3,
   "id": "pressed-player",
   "metadata": {},
   "outputs": [],
   "source": [
    "# Neutral prompted results\n",
    "\n",
    "\n",
    "# GPT2-Discrim\n",
    "gpt2_disc_np_y = pd.read_csv(\"../output/neutral_prompt/gpt2-medium/ctg_out_am_discrim_pm_gpt2-medium_prompt_neutral_wl_NA_age_young_WS.csv\", encoding=\"utf-8\")\n",
    "gpt2_disc_np_o = pd.read_csv(\"../output/neutral_prompt/gpt2-medium/ctg_out_am_discrim_pm_gpt2-medium_prompt_neutral_wl_NA_age_old_WS.csv\", encoding=\"utf-8\")\n",
    "\n",
    "# GPT2-BoW-FB\n",
    "gpt2_bow_fb_np_y = pd.read_csv(\"../output/neutral_prompt/gpt2-medium/ctg_out_am_bow_pm_gpt2-medium_prompt_neutral_wl_bnc_young_mcwu_ws_pct_85_age_young_WS.csv\", encoding=\"utf-8\")\n",
    "gpt2_bow_fb_np_o = pd.read_csv(\"../output/neutral_prompt/gpt2-medium/ctg_out_am_bow_pm_gpt2-medium_prompt_neutral_wl_bnc_old_mcwu_ws_pct_85_age_old_WS.csv\", encoding=\"utf-8\")\n",
    "\n",
    "# DGPT-Discrim\n",
    "dgpt_disc_np_y = pd.read_csv(\"../output/neutral_prompt/microsoft-DialoGPT-medium/ctg_out_am_discrim_pm_microsoft-DialoGPT-medium_prompt_neutral_wl_NA_age_young_WS.csv\", encoding=\"utf-8\")\n",
    "dgpt_disc_np_o = pd.read_csv(\"../output/neutral_prompt/microsoft-DialoGPT-medium/ctg_out_am_discrim_pm_microsoft-DialoGPT-medium_prompt_neutral_wl_NA_age_old_WS.csv\", encoding=\"utf-8\")\n",
    "\n",
    "# DGPT-BoW-MIU\n",
    "dgpt_bow_miu_np_y = pd.read_csv(\"../output/neutral_prompt/microsoft-DialoGPT-medium/ctg_out_am_bow_pm_microsoft-DialoGPT-medium_prompt_neutral_wl_bnc_rb_WS_100_mi_unigrams_young_age_young_WS.csv\", encoding=\"utf-8\")\n",
    "dgpt_bow_miu_np_o = pd.read_csv(\"../output/neutral_prompt/microsoft-DialoGPT-medium/ctg_out_am_bow_pm_microsoft-DialoGPT-medium_prompt_neutral_wl_bnc_rb_WS_100_mi_unigrams_old_age_old_WS.csv\", encoding=\"utf-8\")"
   ]
  },
  {
   "cell_type": "code",
   "execution_count": 4,
   "id": "alert-bible",
   "metadata": {},
   "outputs": [],
   "source": [
    "# Other model outputs\n",
    "gpt2_baseline = pd.read_csv(\"../output/neutral_prompt/gpt2-medium/ctg_out_am_discrim_pm_gpt2-medium_prompt_neutral_wl_NA_age_NA_WS_baseline.csv\", encoding=\"utf-8\")\n",
    "dgpt_baseline = pd.read_csv(\"../output/neutral_prompt/microsoft-DialoGPT-medium/ctg_out_am_discrim_pm_microsoft-DialoGPT-medium_prompt_neutral_wl_NA_age_NA_WS_baseline.csv\", encoding=\"utf-8\")\n",
    "\n",
    "\n",
    "gpt2_bow_miu_y = pd.read_csv(\"../output/neutral_prompt/gpt2-medium/ctg_out_am_bow_pm_gpt2-medium_prompt_neutral_wl_bnc_rb_WS_100_mi_unigrams_young_age_young_WS.csv\", encoding=\"utf-8\")\n",
    "gpt2_bow_miu_o = pd.read_csv(\"../output/neutral_prompt/gpt2-medium/ctg_out_am_bow_pm_gpt2-medium_prompt_neutral_wl_bnc_rb_WS_100_mi_unigrams_old_age_old_WS.csv\", encoding=\"utf-8\")\n",
    "gpt2_100mcw = pd.read_csv(\"../output/neutral_prompt/gpt2-medium/ctg_out_am_bow_pm_gpt2-medium_prompt_neutral_wl_bnc_rb_ws_100_most_common_age_young_WS.csv\", encoding=\"utf-8\")\n",
    "\n",
    "dgpt_bow_fb_y = pd.read_csv(\"../output/neutral_prompt/microsoft-DialoGPT-medium/ctg_out_am_bow_pm_microsoft-DialoGPT-medium_prompt_neutral_wl_bnc_young_mcwu_ws_pct_85_age_young_WS.csv\", encoding=\"utf-8\")\n",
    "dgpt_bow_fb_o = pd.read_csv(\"../output/neutral_prompt/microsoft-DialoGPT-medium/ctg_out_am_bow_pm_microsoft-DialoGPT-medium_prompt_neutral_wl_bnc_old_mcwu_ws_pct_85_age_old_WS.csv\", encoding=\"utf-8\")\n",
    "dgpt_100mcw = pd.read_csv(\"../output/neutral_prompt/microsoft-DialoGPT-medium/ctg_out_am_bow_pm_microsoft-DialoGPT-medium_prompt_neutral_wl_bnc_rb_ws_100_most_common_age_young_WS.csv\", encoding=\"utf-8\")\n"
   ]
  },
  {
   "cell_type": "code",
   "execution_count": 5,
   "id": "signal-siemens",
   "metadata": {},
   "outputs": [],
   "source": [
    "# Drop first 30 rows because sequences too short\n",
    "# gpt2_baseline =gpt2_baseline.iloc[30:]\n",
    "# dgpt_baseline =dgpt_baseline.iloc[30:]\n",
    "\n",
    "\n",
    "gpt2_disc_np_y = gpt2_disc_np_y.iloc[30:] \n",
    "gpt2_disc_np_o = gpt2_disc_np_o.iloc[30:]\n",
    "\n",
    "gpt2_bow_fb_np_y = gpt2_bow_fb_np_y.iloc[30:]\n",
    "gpt2_bow_fb_np_o = gpt2_bow_fb_np_o.iloc[30:]\n",
    "\n",
    "dgpt_disc_np_y = dgpt_disc_np_y.iloc[30:]\n",
    "dgpt_disc_np_o = dgpt_disc_np_o.iloc[30:]\n",
    "\n",
    "dgpt_bow_miu_np_y = dgpt_bow_miu_np_y.iloc[30:]\n",
    "dgpt_bow_miu_np_o = dgpt_bow_miu_np_o.iloc[30:]"
   ]
  },
  {
   "cell_type": "code",
   "execution_count": 6,
   "id": "recreational-litigation",
   "metadata": {},
   "outputs": [],
   "source": [
    "gpt2_baseline =gpt2_baseline.iloc[30:]\n",
    "dgpt_baseline =dgpt_baseline.iloc[30:]\n",
    "\n",
    "gpt2_bow_miu_y = gpt2_bow_miu_y.iloc[30:]\n",
    "gpt2_bow_miu_o = gpt2_bow_miu_o.iloc[30:]\n",
    "gpt2_100mcw = gpt2_100mcw.iloc[30:]\n",
    "dgpt_bow_fb_y = dgpt_bow_fb_y.iloc[30:]\n",
    "dgpt_bow_fb_o = dgpt_bow_fb_o.iloc[30:]\n",
    "dgpt_100mcw = dgpt_100mcw.iloc[30:]"
   ]
  },
  {
   "cell_type": "code",
   "execution_count": 7,
   "id": "lightweight-tender",
   "metadata": {},
   "outputs": [
    {
     "name": "stdout",
     "output_type": "stream",
     "text": [
      "GPT2 baseline ppl\n",
      "26.359582646687826\n",
      "GPT2-Disc Y/O ppl\n",
      "32.0906511147817\n",
      "47.149694545561495\n",
      "GPT2-BoW-FB Y/O ppl\n",
      "27.91258231268989\n",
      "27.583914594297056\n",
      "DGPT baseline ppl\n",
      "34.835966221491496\n",
      "DGPT-Disc Y/O ppl\n",
      "42.005378170084334\n",
      "41.17472008599175\n",
      "DGPT-BoW-MIU Y/O ppl\n",
      "38.66622588546188\n",
      "37.90971698054561\n"
     ]
    }
   ],
   "source": [
    "print(\"GPT2 baseline ppl\")\n",
    "print(gpt2_baseline.perplexity.mean())\n",
    "\n",
    "print(\"GPT2-Disc Y/O ppl\")\n",
    "print(gpt2_disc_np_y.perplexity.mean())\n",
    "print(gpt2_disc_np_o.perplexity.mean())\n",
    "\n",
    "print(\"GPT2-BoW-FB Y/O ppl\")\n",
    "print(gpt2_bow_fb_np_y.perplexity.mean())\n",
    "print(gpt2_bow_fb_np_o.perplexity.mean())\n",
    "\n",
    "print(\"DGPT baseline ppl\")\n",
    "print(dgpt_baseline.perplexity.mean())\n",
    "\n",
    "print(\"DGPT-Disc Y/O ppl\")\n",
    "print(dgpt_disc_np_y.perplexity.mean())\n",
    "print(dgpt_disc_np_o.perplexity.mean())\n",
    "\n",
    "print(\"DGPT-BoW-MIU Y/O ppl\")\n",
    "print(dgpt_bow_miu_np_y.perplexity.mean())\n",
    "print(dgpt_bow_miu_np_o.perplexity.mean())"
   ]
  },
  {
   "cell_type": "code",
   "execution_count": 8,
   "id": "assumed-cruise",
   "metadata": {},
   "outputs": [],
   "source": [
    "def add_correct_col(prob):\n",
    "    '''\n",
    "    Adds column to ctg results dataframe indicating if BERT correctly classified generated sequence. 1 if correct, 0 otherwise.\n",
    "    Args:\n",
    "        prob (float): assigned probability of belonging to relevant age group\n",
    "    '''\n",
    "    \n",
    "    assert 0 <= prob <= 1\n",
    "    \n",
    "    return 1 if prob >= 0.5 else 0\n",
    "    "
   ]
  },
  {
   "cell_type": "code",
   "execution_count": 9,
   "id": "peripheral-acrylic",
   "metadata": {},
   "outputs": [],
   "source": [
    "# Add correct column\n",
    "gpt2_disc_np_y['correct'] = gpt2_disc_np_y['young_prob'].apply(add_correct_col)\n",
    "gpt2_disc_np_o['correct'] = gpt2_disc_np_o['old_prob'].apply(add_correct_col)"
   ]
  },
  {
   "cell_type": "code",
   "execution_count": 10,
   "id": "intended-frost",
   "metadata": {},
   "outputs": [],
   "source": [
    "gpt2_bow_fb_np_y['correct'] = gpt2_bow_fb_np_y['young_prob'].apply(add_correct_col)\n",
    "gpt2_bow_fb_np_o['correct'] = gpt2_bow_fb_np_o['old_prob'].apply(add_correct_col)"
   ]
  },
  {
   "cell_type": "code",
   "execution_count": 11,
   "id": "literary-impression",
   "metadata": {},
   "outputs": [],
   "source": [
    "dgpt_disc_np_y['correct'] = dgpt_disc_np_y['young_prob'].apply(add_correct_col)\n",
    "dgpt_disc_np_o['correct'] = dgpt_disc_np_o['old_prob'].apply(add_correct_col)"
   ]
  },
  {
   "cell_type": "code",
   "execution_count": 12,
   "id": "developing-pleasure",
   "metadata": {},
   "outputs": [],
   "source": [
    "dgpt_bow_miu_np_y['correct'] = dgpt_bow_miu_np_y['young_prob'].apply(add_correct_col)\n",
    "dgpt_bow_miu_np_o['correct'] = dgpt_bow_miu_np_o['old_prob'].apply(add_correct_col)"
   ]
  },
  {
   "cell_type": "code",
   "execution_count": 13,
   "id": "closing-volleyball",
   "metadata": {},
   "outputs": [
    {
     "name": "stdout",
     "output_type": "stream",
     "text": [
      "GPT2-Disc Y/O acc\n",
      "0.6777777777777778\n",
      "0.7434944237918215\n",
      "GPT2-BoW-FB Y/O acc\n",
      "0.7037037037037037\n",
      "0.42962962962962964\n",
      "DGPT-Disc Y/O acc\n",
      "0.8587360594795539\n",
      "0.5666666666666667\n",
      "DGPT-BoW-MIU Y/O acc\n",
      "0.8851851851851852\n",
      "0.21851851851851853\n"
     ]
    }
   ],
   "source": [
    "print(\"GPT2-Disc Y/O acc\")\n",
    "print(gpt2_disc_np_y.correct.mean())\n",
    "print(gpt2_disc_np_o.correct.mean())\n",
    "\n",
    "print(\"GPT2-BoW-FB Y/O acc\")\n",
    "print(gpt2_bow_fb_np_y.correct.mean())\n",
    "print(gpt2_bow_fb_np_o.correct.mean())\n",
    "\n",
    "print(\"DGPT-Disc Y/O acc\")\n",
    "print(dgpt_disc_np_y.correct.mean())\n",
    "print(dgpt_disc_np_o.correct.mean())\n",
    "\n",
    "print(\"DGPT-BoW-MIU Y/O acc\")\n",
    "print(dgpt_bow_miu_np_y.correct.mean())\n",
    "print(dgpt_bow_miu_np_o.correct.mean())"
   ]
  },
  {
   "cell_type": "code",
   "execution_count": null,
   "id": "latest-sessions",
   "metadata": {},
   "outputs": [],
   "source": []
  },
  {
   "cell_type": "code",
   "execution_count": 14,
   "id": "stone-blanket",
   "metadata": {},
   "outputs": [],
   "source": [
    "# All perplexities\n",
    "# with baselines\n",
    "# all_ppls = pd.concat([gpt2_baseline.perplexity, dgpt_baseline.perplexity, gpt2_disc_np_y.perplexity, gpt2_disc_np_o.perplexity, \n",
    "#            gpt2_bow_fb_np_y.perplexity, gpt2_bow_fb_np_o.perplexity,\n",
    "#            dgpt_disc_np_y.perplexity, dgpt_disc_np_o.perplexity, dgpt_bow_miu_np_y.perplexity, dgpt_bow_miu_np_o.perplexity], axis=0)\n",
    "\n",
    "# without baselines\n",
    "# all_ppls = pd.concat([gpt2_disc_np_y.perplexity, gpt2_disc_np_o.perplexity, \n",
    "#            gpt2_bow_fb_np_y.perplexity, gpt2_bow_fb_np_o.perplexity,\n",
    "#            dgpt_disc_np_y.perplexity, dgpt_disc_np_o.perplexity, dgpt_bow_miu_np_y.perplexity, dgpt_bow_miu_np_o.perplexity], axis=0)\n",
    "\n",
    "# with baselines + 100mcw's + worst bow's\n",
    "all_ppls = pd.concat([gpt2_baseline.perplexity, dgpt_baseline.perplexity, gpt2_disc_np_y.perplexity, gpt2_disc_np_o.perplexity, \n",
    "                      gpt2_bow_fb_np_y.perplexity, gpt2_bow_fb_np_o.perplexity,\n",
    "                      dgpt_disc_np_y.perplexity, dgpt_disc_np_o.perplexity, dgpt_bow_miu_np_y.perplexity, dgpt_bow_miu_np_o.perplexity, \n",
    "                      gpt2_bow_miu_y.perplexity, gpt2_bow_miu_o.perplexity, gpt2_100mcw.perplexity, \n",
    "                      dgpt_bow_fb_y.perplexity, dgpt_bow_fb_o.perplexity, dgpt_100mcw.perplexity], axis=0)"
   ]
  },
  {
   "cell_type": "code",
   "execution_count": 15,
   "id": "brutal-webster",
   "metadata": {},
   "outputs": [
    {
     "name": "stdout",
     "output_type": "stream",
     "text": [
      "33.33-th percentile: 27.477236915016174\n",
      "66.67-th percentile: 35.52060109329224\n"
     ]
    }
   ],
   "source": [
    "for q in [33.33, 66.67]:\n",
    "    print(f\"{q}-th percentile: {np.percentile(all_ppls, q)}\")"
   ]
  },
  {
   "cell_type": "code",
   "execution_count": null,
   "id": "about-quarter",
   "metadata": {},
   "outputs": [],
   "source": [
    "np.abs(50 - 66.66666667)"
   ]
  },
  {
   "cell_type": "code",
   "execution_count": 16,
   "id": "fabulous-plumbing",
   "metadata": {},
   "outputs": [],
   "source": [
    "# Binning the data\n",
    "# bins = [0, 20, 30, 40, 50, 500]\n",
    "# bins = [0, 25, 50, 500]\n",
    "# bin_labels = [\"0-25\", \"25-50\", \"50+\"]\n",
    "\n",
    "# bins = [0, 26, 33, 39, 500] # 25th, 50th, 75th percentiles\n",
    "# bin_labels = [\"0-26\", \"26-33\", \"33-39\", \"39+\"]\n",
    "# bin_labels = [\"0-20\", \"20-30\", \"30-40\", \"40-50\", \"50+\"]\n",
    "\n",
    "# bins = [0, 27.89, 36.81, 500] # 33th, 67th, ... percentiles (without baselines)\n",
    "# bins = [0, 27.64, 36.25, 500] # 33th, 67th, ... percentiles (with baselines)\n",
    "bins = [0, 27.52, 35.63, 500] # 33th, 67th, ... percentiles (with baselines and all other models)\n",
    "bin_labels = [\"low\", \"medium\", \"high\"]\n",
    "\n",
    "gpt2_disc_np_y['ppl_binned'] = pd.cut(gpt2_disc_np_y['perplexity'], bins=bins, labels=bin_labels)\n",
    "gpt2_disc_np_o['ppl_binned'] = pd.cut(gpt2_disc_np_o['perplexity'], bins=bins, labels=bin_labels)\n",
    "\n",
    "gpt2_bow_fb_np_y['ppl_binned'] = pd.cut(gpt2_bow_fb_np_y['perplexity'], bins=bins, labels=bin_labels)\n",
    "gpt2_bow_fb_np_o['ppl_binned'] = pd.cut(gpt2_bow_fb_np_o['perplexity'], bins=bins, labels=bin_labels)\n",
    "\n",
    "dgpt_disc_np_y['ppl_binned'] = pd.cut(dgpt_disc_np_y['perplexity'], bins=bins, labels=bin_labels)\n",
    "dgpt_disc_np_o['ppl_binned'] = pd.cut(dgpt_disc_np_o['perplexity'], bins=bins, labels=bin_labels)\n",
    "\n",
    "dgpt_bow_miu_np_y['ppl_binned'] = pd.cut(dgpt_bow_miu_np_y['perplexity'], bins=bins, labels=bin_labels)\n",
    "dgpt_bow_miu_np_o['ppl_binned'] = pd.cut(dgpt_bow_miu_np_o['perplexity'], bins=bins, labels=bin_labels)"
   ]
  },
  {
   "cell_type": "code",
   "execution_count": 17,
   "id": "muslim-boating",
   "metadata": {},
   "outputs": [
    {
     "data": {
      "text/plain": [
       "medium    123\n",
       "high      123\n",
       "low        24\n",
       "Name: ppl_binned, dtype: int64"
      ]
     },
     "execution_count": 17,
     "metadata": {},
     "output_type": "execute_result"
    }
   ],
   "source": [
    "dgpt_bow_miu_np_o['ppl_binned'].value_counts()"
   ]
  },
  {
   "cell_type": "markdown",
   "id": "south-inclusion",
   "metadata": {},
   "source": [
    "## Get case percentages"
   ]
  },
  {
   "cell_type": "code",
   "execution_count": 18,
   "id": "about-budget",
   "metadata": {},
   "outputs": [
    {
     "data": {
      "text/plain": [
       "425.6733703613281"
      ]
     },
     "execution_count": 18,
     "metadata": {},
     "output_type": "execute_result"
    }
   ],
   "source": [
    "max(all_ppls)"
   ]
  },
  {
   "cell_type": "code",
   "execution_count": 64,
   "id": "dense-catch",
   "metadata": {},
   "outputs": [],
   "source": [
    "from math import isclose, sqrt\n",
    "\n",
    "def error_gen(actual, rounded):\n",
    "    divisor = sqrt(1.0 if actual < 1.0 else actual)\n",
    "    return abs(rounded - actual) ** 2 / divisor\n",
    "\n",
    "def round_to_100(percents):\n",
    "    if not isclose(sum(percents), 100):\n",
    "        pass\n",
    "#         print(sum(percents))\n",
    "#         raise ValueError\n",
    "    n = len(percents)\n",
    "    #rounded = [int(x) for x in percents]\n",
    "    rounded = [round(x,1) for x in percents]\n",
    "    up_count = 100 - sum(rounded)\n",
    "    errors = [(error_gen(percents[i], rounded[i] + 1) - error_gen(percents[i], rounded[i]), i) for i in range(n)]\n",
    "    rank = sorted(errors)\n",
    "    for i in range(up_count):\n",
    "        rounded[rank[i][1]] += 1\n",
    "    return rounded\n",
    "\n",
    "\n",
    "def case_pcts_df(df):\n",
    "    \n",
    "    len_df = len(df)\n",
    "    \n",
    "    ppls = ['low','medium', 'high']\n",
    "    \n",
    "    corrects = [1, 0]\n",
    "    \n",
    "    percentages = []\n",
    "    pcts = {}\n",
    "    sum_check = 0\n",
    "    \n",
    "#     for ppl in ppls:\n",
    "#         for correct in corrects:\n",
    "            \n",
    "    \n",
    "    for ppl in ppls:\n",
    "        for correct in corrects:\n",
    "            percentage = round(((len(df[(df.ppl_binned == ppl) & (df.correct == correct)]) / len_df) * 100), 1)\n",
    "            pcts[f\"ppl: {ppl} | correct: {correct}\"] = percentage\n",
    "            sum_check += percentage\n",
    "            \n",
    "            percentages.append(percentage)\n",
    "            \n",
    "#     percentages = [100*(pct/sum_check) for pct in percentages]\n",
    "            \n",
    "    return pcts, sum_check, percentages #, percentages, sum(percentages)"
   ]
  },
  {
   "cell_type": "code",
   "execution_count": 65,
   "id": "senior-compression",
   "metadata": {},
   "outputs": [
    {
     "data": {
      "text/plain": [
       "({'ppl: low | correct: 1': 48.1,\n",
       "  'ppl: low | correct: 0': 15.6,\n",
       "  'ppl: medium | correct: 1': 15.6,\n",
       "  'ppl: medium | correct: 0': 10.4,\n",
       "  'ppl: high | correct: 1': 6.7,\n",
       "  'ppl: high | correct: 0': 3.7},\n",
       " 100.10000000000001,\n",
       " [48.1, 15.6, 15.6, 10.4, 6.7, 3.7])"
      ]
     },
     "execution_count": 65,
     "metadata": {},
     "output_type": "execute_result"
    }
   ],
   "source": [
    "# GPT2-BoW(FB) Young\n",
    "case_pcts_df(gpt2_bow_fb_np_y)"
   ]
  },
  {
   "cell_type": "code",
   "execution_count": 69,
   "id": "expressed-fault",
   "metadata": {},
   "outputs": [
    {
     "data": {
      "text/plain": [
       "100.00000000000001"
      ]
     },
     "execution_count": 69,
     "metadata": {},
     "output_type": "execute_result"
    }
   ],
   "source": [
    "np.sum([48.0, 15.6, 15.6, 10.4, 6.7, 3.7])"
   ]
  },
  {
   "cell_type": "code",
   "execution_count": 67,
   "id": "appreciated-coordinator",
   "metadata": {},
   "outputs": [
    {
     "data": {
      "text/plain": [
       "({'ppl: low | correct: 1': 25.6,\n",
       "  'ppl: low | correct: 0': 37.8,\n",
       "  'ppl: medium | correct: 1': 11.9,\n",
       "  'ppl: medium | correct: 0': 14.8,\n",
       "  'ppl: high | correct: 1': 5.6,\n",
       "  'ppl: high | correct: 0': 4.4},\n",
       " 100.1,\n",
       " [25.6, 37.8, 11.9, 14.8, 5.6, 4.4])"
      ]
     },
     "execution_count": 67,
     "metadata": {},
     "output_type": "execute_result"
    }
   ],
   "source": [
    "# GPT2-BoW(FB) Old\n",
    "case_pcts_df(gpt2_bow_fb_np_o)"
   ]
  },
  {
   "cell_type": "code",
   "execution_count": 72,
   "id": "hairy-cleveland",
   "metadata": {},
   "outputs": [
    {
     "data": {
      "text/plain": [
       "100.0"
      ]
     },
     "execution_count": 72,
     "metadata": {},
     "output_type": "execute_result"
    }
   ],
   "source": [
    "np.sum([25.6, 37.7, 11.9, 14.8, 5.6, 4.4])"
   ]
  },
  {
   "cell_type": "code",
   "execution_count": 73,
   "id": "regulation-orlando",
   "metadata": {},
   "outputs": [
    {
     "data": {
      "text/plain": [
       "({'ppl: low | correct: 1': 33.3,\n",
       "  'ppl: low | correct: 0': 15.9,\n",
       "  'ppl: medium | correct: 1': 17.4,\n",
       "  'ppl: medium | correct: 0': 8.5,\n",
       "  'ppl: high | correct: 1': 17.0,\n",
       "  'ppl: high | correct: 0': 7.8},\n",
       " 99.89999999999999,\n",
       " [33.3, 15.9, 17.4, 8.5, 17.0, 7.8])"
      ]
     },
     "execution_count": 73,
     "metadata": {},
     "output_type": "execute_result"
    }
   ],
   "source": [
    "# GPT2-Disc Young\n",
    "case_pcts_df(gpt2_disc_np_y)"
   ]
  },
  {
   "cell_type": "code",
   "execution_count": 75,
   "id": "brutal-patch",
   "metadata": {},
   "outputs": [
    {
     "data": {
      "text/plain": [
       "100.0"
      ]
     },
     "execution_count": 75,
     "metadata": {},
     "output_type": "execute_result"
    }
   ],
   "source": [
    "np.sum([33.3, 15.9, 17.4, 8.5, 17.0, 7.9])"
   ]
  },
  {
   "cell_type": "code",
   "execution_count": 76,
   "id": "concerned-romantic",
   "metadata": {},
   "outputs": [
    {
     "data": {
      "text/plain": [
       "({'ppl: low | correct: 1': 23.8,\n",
       "  'ppl: low | correct: 0': 18.2,\n",
       "  'ppl: medium | correct: 1': 13.4,\n",
       "  'ppl: medium | correct: 0': 3.3,\n",
       "  'ppl: high | correct: 1': 37.2,\n",
       "  'ppl: high | correct: 0': 4.1},\n",
       " 100.0,\n",
       " [23.8, 18.2, 13.4, 3.3, 37.2, 4.1])"
      ]
     },
     "execution_count": 76,
     "metadata": {},
     "output_type": "execute_result"
    }
   ],
   "source": [
    "# GPT2-Disc Old\n",
    "case_pcts_df(gpt2_disc_np_o)"
   ]
  },
  {
   "cell_type": "code",
   "execution_count": null,
   "id": "powerful-excess",
   "metadata": {},
   "outputs": [],
   "source": []
  },
  {
   "cell_type": "code",
   "execution_count": 77,
   "id": "theoretical-material",
   "metadata": {},
   "outputs": [
    {
     "data": {
      "text/plain": [
       "({'ppl: low | correct: 1': 5.2,\n",
       "  'ppl: low | correct: 0': 0.4,\n",
       "  'ppl: medium | correct: 1': 40.0,\n",
       "  'ppl: medium | correct: 0': 5.2,\n",
       "  'ppl: high | correct: 1': 43.3,\n",
       "  'ppl: high | correct: 0': 5.9},\n",
       " 100.0,\n",
       " [5.2, 0.4, 40.0, 5.2, 43.3, 5.9])"
      ]
     },
     "execution_count": 77,
     "metadata": {},
     "output_type": "execute_result"
    }
   ],
   "source": [
    "# DGPT-BoW(MIU) Young\n",
    "case_pcts_df(dgpt_bow_miu_np_y)"
   ]
  },
  {
   "cell_type": "code",
   "execution_count": 78,
   "id": "ready-discrimination",
   "metadata": {},
   "outputs": [
    {
     "data": {
      "text/plain": [
       "({'ppl: low | correct: 1': 3.0,\n",
       "  'ppl: low | correct: 0': 5.9,\n",
       "  'ppl: medium | correct: 1': 10.4,\n",
       "  'ppl: medium | correct: 0': 35.2,\n",
       "  'ppl: high | correct: 1': 8.5,\n",
       "  'ppl: high | correct: 0': 37.0},\n",
       " 100.0,\n",
       " [3.0, 5.9, 10.4, 35.2, 8.5, 37.0])"
      ]
     },
     "execution_count": 78,
     "metadata": {},
     "output_type": "execute_result"
    }
   ],
   "source": [
    "# DGPT-BoW(MIU) Old\n",
    "case_pcts_df(dgpt_bow_miu_np_o)"
   ]
  },
  {
   "cell_type": "code",
   "execution_count": 80,
   "id": "wired-bunny",
   "metadata": {},
   "outputs": [
    {
     "data": {
      "text/plain": [
       "({'ppl: low | correct: 1': 5.9,\n",
       "  'ppl: low | correct: 0': 2.6,\n",
       "  'ppl: medium | correct: 1': 23.0,\n",
       "  'ppl: medium | correct: 0': 5.6,\n",
       "  'ppl: high | correct: 1': 56.9,\n",
       "  'ppl: high | correct: 0': 5.9},\n",
       " 99.9,\n",
       " [5.9, 2.6, 23.0, 5.6, 56.9, 5.9])"
      ]
     },
     "execution_count": 80,
     "metadata": {},
     "output_type": "execute_result"
    }
   ],
   "source": [
    "# DGPT-Disc Young\n",
    "case_pcts_df(dgpt_disc_np_y)"
   ]
  },
  {
   "cell_type": "code",
   "execution_count": 81,
   "id": "strategic-taylor",
   "metadata": {},
   "outputs": [
    {
     "data": {
      "text/plain": [
       "100.0"
      ]
     },
     "execution_count": 81,
     "metadata": {},
     "output_type": "execute_result"
    }
   ],
   "source": [
    "np.sum([5.9, 2.7, 23.0, 5.6, 56.9, 5.9])"
   ]
  },
  {
   "cell_type": "code",
   "execution_count": 82,
   "id": "chronic-spencer",
   "metadata": {},
   "outputs": [
    {
     "data": {
      "text/plain": [
       "({'ppl: low | correct: 1': 7.0,\n",
       "  'ppl: low | correct: 0': 4.1,\n",
       "  'ppl: medium | correct: 1': 19.3,\n",
       "  'ppl: medium | correct: 0': 11.5,\n",
       "  'ppl: high | correct: 1': 30.4,\n",
       "  'ppl: high | correct: 0': 27.8},\n",
       " 100.1,\n",
       " [7.0, 4.1, 19.3, 11.5, 30.4, 27.8])"
      ]
     },
     "execution_count": 82,
     "metadata": {},
     "output_type": "execute_result"
    }
   ],
   "source": [
    "# DGPT-Disc Old\n",
    "case_pcts_df(dgpt_disc_np_o)"
   ]
  },
  {
   "cell_type": "code",
   "execution_count": 83,
   "id": "adaptive-spotlight",
   "metadata": {},
   "outputs": [
    {
     "data": {
      "text/plain": [
       "100.0"
      ]
     },
     "execution_count": 83,
     "metadata": {},
     "output_type": "execute_result"
    }
   ],
   "source": [
    "np.sum([7.0, 4.1, 19.3, 11.5, 30.3, 27.8])"
   ]
  },
  {
   "cell_type": "markdown",
   "id": "automotive-sally",
   "metadata": {},
   "source": [
    "# Save Case Dfs"
   ]
  },
  {
   "cell_type": "code",
   "execution_count": 85,
   "id": "flush-looking",
   "metadata": {},
   "outputs": [],
   "source": [
    "dfs_names_list = [\"gpt2_disc_np_y\",\n",
    "\"gpt2_disc_np_o\",\n",
    "\"gpt2_bow_fb_np_y\",\n",
    "\"gpt2_bow_fb_np_o\",\n",
    "\"dgpt_disc_np_y\",\n",
    "\"dgpt_disc_np_o\",\n",
    "\"dgpt_bow_miu_np_y\",\n",
    "\"dgpt_bow_miu_np_o\"]\n",
    "\n",
    "dfs_list = [gpt2_disc_np_y,\n",
    "gpt2_disc_np_o,\n",
    "gpt2_bow_fb_np_y,\n",
    "gpt2_bow_fb_np_o,\n",
    "dgpt_disc_np_y,\n",
    "dgpt_disc_np_o,\n",
    "dgpt_bow_miu_np_y,dgpt_bow_miu_np_o]"
   ]
  },
  {
   "cell_type": "code",
   "execution_count": 86,
   "id": "visible-arabic",
   "metadata": {},
   "outputs": [],
   "source": [
    "def save_case_df(df, df_name):\n",
    "    \n",
    "    len_df = len(df)\n",
    "    \n",
    "    ppls = ['low','medium', 'high']\n",
    "    \n",
    "    corrects = [1, 0]\n",
    "    \n",
    "    percentages = []\n",
    "    pcts = {}\n",
    "    sum_check = 0\n",
    "    \n",
    "#     for ppl in ppls:\n",
    "#         for correct in corrects:\n",
    "            \n",
    "    \n",
    "    for ppl in ppls:\n",
    "        for correct in corrects:\n",
    "            case_df = df[(df.ppl_binned == ppl) & (df.correct == correct)]\n",
    "            \n",
    "            case_df.to_csv(f\"ctg_case_dfs/{df_name}_ppl_{ppl}_bert_correct_{correct}.csv\", index=False)\n",
    "            "
   ]
  },
  {
   "cell_type": "code",
   "execution_count": 88,
   "id": "unknown-cream",
   "metadata": {},
   "outputs": [],
   "source": [
    "for i in range(len(dfs_list)):\n",
    "    save_case_df(df=dfs_list[i],df_name=dfs_names_list[i])"
   ]
  },
  {
   "cell_type": "code",
   "execution_count": null,
   "id": "driving-fluid",
   "metadata": {},
   "outputs": [],
   "source": []
  }
 ],
 "metadata": {
  "kernelspec": {
   "display_name": "Python 3",
   "language": "python",
   "name": "python3"
  },
  "language_info": {
   "codemirror_mode": {
    "name": "ipython",
    "version": 3
   },
   "file_extension": ".py",
   "mimetype": "text/x-python",
   "name": "python",
   "nbconvert_exporter": "python",
   "pygments_lexer": "ipython3",
   "version": "3.7.10"
  }
 },
 "nbformat": 4,
 "nbformat_minor": 5
}
