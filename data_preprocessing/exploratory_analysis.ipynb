{
 "cells": [
  {
   "cell_type": "markdown",
   "id": "increased-petersburg",
   "metadata": {},
   "source": [
    "# Exploratory data analysis & Simple Classifiers\n",
    "## Date created: 1 March 2021\n",
    "### Quick exploration of datasets considered for thesis research.\n",
    "### Currently contains analyses of: Blog Authorship Corpus"
   ]
  },
  {
   "cell_type": "code",
   "execution_count": 1,
   "id": "legal-nerve",
   "metadata": {},
   "outputs": [],
   "source": [
    "%matplotlib inline\n",
    "\n",
    "# Import statements\n",
    "import os # for directory operations\n",
    "import numpy as np # for numerical/linear algebra methods\n",
    "import pandas as pd # for data(frame) processing\n",
    "import pdb # for debudding\n",
    "import matplotlib.pyplot as plt # for plotting\n",
    "import seaborn as sns # for cool plotting\n",
    "import re # for regular expression\n",
    "import nltk # natural language processing toolkit\n",
    "from sklearn.feature_extraction.text import CountVectorizer\n",
    "from sklearn.preprocessing import MultiLabelBinarizer\n",
    "from sklearn.model_selection import train_test_split\n",
    "from sklearn.multiclass import OneVsRestClassifier\n",
    "from sklearn.multioutput import MultiOutputClassifier\n",
    "from sklearn.linear_model import LogisticRegression\n",
    "from sklearn.metrics import accuracy_score\n",
    "from sklearn.metrics import f1_score\n",
    "from sklearn.metrics import average_precision_score\n",
    "from sklearn.metrics import recall_score\n",
    "from langdetect import detect, detect_langs # for language detection\n",
    "from tqdm.notebook import tqdm, trange\n",
    "import time\n",
    "import math"
   ]
  },
  {
   "cell_type": "code",
   "execution_count": 2,
   "id": "liked-banner",
   "metadata": {},
   "outputs": [],
   "source": [
    "# TODO: write specification scheme for type of \"simple\" classifier to build and test?\n",
    "# Maybe just have the notebook build, train, and test all simple ones, i.e., Logit+ n-grams, Logit + grams + linguistic features, etc.\n",
    "# Specifiy trian-test splits\n",
    "# What else? --> Label to predict (e.g., age cat, age number, gender, astrological sign, topic)\n",
    "SEED = 420\n",
    "MAX_N_GRAM = 2\n",
    "TEST_SPLIT = 0.2\n",
    "\n",
    "seeds = [1, 2, 3]\n",
    "n_grams = [1, 2, 3, 4]\n",
    "perc_df = 0.0020\n",
    "\n",
    "# Read and load dataset\n",
    "data = pd.read_csv(\"../data/blogs_kaggle/blogtext.csv\")\n",
    "\n",
    "# sub_sample = math.ceil(perc_df * data.shape[0])\n",
    "#shuffle data set before subsampling\n",
    "data = data.sample(frac=1).reset_index(drop=True)\n",
    "sub_sample = 10000\n",
    "data = data[:sub_sample]"
   ]
  },
  {
   "cell_type": "code",
   "execution_count": null,
   "id": "homeless-dressing",
   "metadata": {},
   "outputs": [],
   "source": []
  },
  {
   "cell_type": "markdown",
   "id": "third-prison",
   "metadata": {},
   "source": [
    "## Exploratory analysis"
   ]
  },
  {
   "cell_type": "code",
   "execution_count": 3,
   "id": "distant-circular",
   "metadata": {},
   "outputs": [
    {
     "data": {
      "text/html": [
       "<div>\n",
       "<style scoped>\n",
       "    .dataframe tbody tr th:only-of-type {\n",
       "        vertical-align: middle;\n",
       "    }\n",
       "\n",
       "    .dataframe tbody tr th {\n",
       "        vertical-align: top;\n",
       "    }\n",
       "\n",
       "    .dataframe thead th {\n",
       "        text-align: right;\n",
       "    }\n",
       "</style>\n",
       "<table border=\"1\" class=\"dataframe\">\n",
       "  <thead>\n",
       "    <tr style=\"text-align: right;\">\n",
       "      <th></th>\n",
       "      <th>gender</th>\n",
       "      <th>topic</th>\n",
       "      <th>sign</th>\n",
       "      <th>date</th>\n",
       "      <th>text</th>\n",
       "    </tr>\n",
       "  </thead>\n",
       "  <tbody>\n",
       "    <tr>\n",
       "      <th>count</th>\n",
       "      <td>10000</td>\n",
       "      <td>10000</td>\n",
       "      <td>10000</td>\n",
       "      <td>10000</td>\n",
       "      <td>10000</td>\n",
       "    </tr>\n",
       "    <tr>\n",
       "      <th>unique</th>\n",
       "      <td>2</td>\n",
       "      <td>40</td>\n",
       "      <td>12</td>\n",
       "      <td>922</td>\n",
       "      <td>9916</td>\n",
       "    </tr>\n",
       "    <tr>\n",
       "      <th>top</th>\n",
       "      <td>male</td>\n",
       "      <td>indUnk</td>\n",
       "      <td>Cancer</td>\n",
       "      <td>02,August,2004</td>\n",
       "      <td>urlLink</td>\n",
       "    </tr>\n",
       "    <tr>\n",
       "      <th>freq</th>\n",
       "      <td>5054</td>\n",
       "      <td>3668</td>\n",
       "      <td>968</td>\n",
       "      <td>259</td>\n",
       "      <td>10</td>\n",
       "    </tr>\n",
       "  </tbody>\n",
       "</table>\n",
       "</div>"
      ],
      "text/plain": [
       "       gender   topic    sign            date                 text\n",
       "count   10000   10000   10000           10000                10000\n",
       "unique      2      40      12             922                 9916\n",
       "top      male  indUnk  Cancer  02,August,2004           urlLink   \n",
       "freq     5054    3668     968             259                   10"
      ]
     },
     "execution_count": 3,
     "metadata": {},
     "output_type": "execute_result"
    }
   ],
   "source": [
    "data.describe(include = ['object', 'bool'])"
   ]
  },
  {
   "cell_type": "code",
   "execution_count": 4,
   "id": "lesbian-document",
   "metadata": {},
   "outputs": [],
   "source": [
    "# Convert all columnsns.histplot(data, x = \"age\", binwidth = 3, stat = \"probability\")\n",
    "plt.title(\"Unconditional Age Distribution\")s (except ID and date) to object type\n",
    "data['age'] = data['age'].astype(object)"
   ]
  },
  {
   "cell_type": "code",
   "execution_count": 5,
   "id": "secure-complex",
   "metadata": {},
   "outputs": [
    {
     "data": {
      "text/plain": [
       "Text(0.5, 1.0, 'Unconditional Age Distribution')"
      ]
     },
     "execution_count": 5,
     "metadata": {},
     "output_type": "execute_result"
    },
    {
     "data": {
      "image/png": "[encoded data removed]",
      "text/plain": [
       "<Figure size 432x288 with 1 Axes>"
      ]
     },
     "metadata": {
      "needs_background": "light"
     },
     "output_type": "display_data"
    }
   ],
   "source": [
    "# Age distribution, unconditional\n",
    "sns.histplot(data, x = \"age\", binwidth = 3, stat = \"probability\")\n",
    "plt.title(\"Unconditional Age Distribution\")"
   ]
  },
  {
   "cell_type": "code",
   "execution_count": 6,
   "id": "coordinated-teddy",
   "metadata": {},
   "outputs": [
    {
     "data": {
      "text/plain": [
       "{'Accounting',\n",
       " 'Advertising',\n",
       " 'Agriculture',\n",
       " 'Architecture',\n",
       " 'Arts',\n",
       " 'Automotive',\n",
       " 'Banking',\n",
       " 'Biotech',\n",
       " 'BusinessServices',\n",
       " 'Chemicals',\n",
       " 'Communications-Media',\n",
       " 'Construction',\n",
       " 'Consulting',\n",
       " 'Education',\n",
       " 'Engineering',\n",
       " 'Environment',\n",
       " 'Fashion',\n",
       " 'Government',\n",
       " 'HumanResources',\n",
       " 'Internet',\n",
       " 'InvestmentBanking',\n",
       " 'Law',\n",
       " 'LawEnforcement-Security',\n",
       " 'Manufacturing',\n",
       " 'Maritime',\n",
       " 'Marketing',\n",
       " 'Military',\n",
       " 'Museums-Libraries',\n",
       " 'Non-Profit',\n",
       " 'Publishing',\n",
       " 'RealEstate',\n",
       " 'Religion',\n",
       " 'Science',\n",
       " 'Sports-Recreation',\n",
       " 'Student',\n",
       " 'Technology',\n",
       " 'Telecommunications',\n",
       " 'Tourism',\n",
       " 'Transportation',\n",
       " 'indUnk'}"
      ]
     },
     "execution_count": 6,
     "metadata": {},
     "output_type": "execute_result"
    }
   ],
   "source": [
    "set(data['topic'])"
   ]
  },
  {
   "cell_type": "code",
   "execution_count": 7,
   "id": "subsequent-absorption",
   "metadata": {},
   "outputs": [
    {
     "data": {
      "text/plain": [
       "indUnk                     3668\n",
       "Student                    2237\n",
       "Technology                  617\n",
       "Education                   462\n",
       "Arts                        450\n",
       "Communications-Media        290\n",
       "Internet                    252\n",
       "Non-Profit                  242\n",
       "Engineering                 175\n",
       "Publishing                  123\n",
       "Law                         123\n",
       "Government                  120\n",
       "Science                     111\n",
       "Consulting                   82\n",
       "Religion                     75\n",
       "Fashion                      73\n",
       "Telecommunications           69\n",
       "Advertising                  69\n",
       "Marketing                    68\n",
       "Banking                      63\n",
       "Chemicals                    59\n",
       "BusinessServices             58\n",
       "Accounting                   53\n",
       "Sports-Recreation            46\n",
       "HumanResources               45\n",
       "Biotech                      41\n",
       "Museums-Libraries            40\n",
       "Military                     36\n",
       "Manufacturing                32\n",
       "RealEstate                   32\n",
       "Tourism                      29\n",
       "LawEnforcement-Security      29\n",
       "InvestmentBanking            25\n",
       "Transportation               21\n",
       "Architecture                 20\n",
       "Agriculture                  19\n",
       "Automotive                   19\n",
       "Construction                 15\n",
       "Environment                  11\n",
       "Maritime                      1\n",
       "Name: topic, dtype: int64"
      ]
     },
     "execution_count": 7,
     "metadata": {},
     "output_type": "execute_result"
    }
   ],
   "source": [
    "# data.groupby(data.topic).nunique()\n",
    "data.topic.value_counts()"
   ]
  },
  {
   "cell_type": "code",
   "execution_count": 8,
   "id": "unauthorized-travel",
   "metadata": {},
   "outputs": [
    {
     "data": {
      "text/plain": [
       "Text(0.5, 1.0, 'Unconditional Topic Distribution')"
      ]
     },
     "execution_count": 8,
     "metadata": {},
     "output_type": "execute_result"
    },
    {
     "data": {
      "image/png": "[encoded data removed]",
      "text/plain": [
       "<Figure size 432x288 with 1 Axes>"
      ]
     },
     "metadata": {
      "needs_background": "light"
     },
     "output_type": "display_data"
    }
   ],
   "source": [
    "sns.histplot(data, x = \"topic\", binwidth = 3, stat = \"probability\")\n",
    "plt.xticks(rotation=45)\n",
    "plt.title(\"Unconditional Topic Distribution\")"
   ]
  },
  {
   "cell_type": "code",
   "execution_count": 9,
   "id": "spare-values",
   "metadata": {},
   "outputs": [
    {
     "data": {
      "text/plain": [
       "Text(0.5, 1.0, 'Age Distribution, Conditioned On Gender')"
      ]
     },
     "execution_count": 9,
     "metadata": {},
     "output_type": "execute_result"
    },
    {
     "data": {
      "image/png": "[encoded data removed]",
      "text/plain": [
       "<Figure size 432x288 with 1 Axes>"
      ]
     },
     "metadata": {
      "needs_background": "light"
     },
     "output_type": "display_data"
    }
   ],
   "source": [
    "# Age distribution, conditioned on gender\n",
    "sns.histplot(data, x = \"age\", hue = \"gender\", binwidth = 3, stat = \"probability\")\n",
    "plt.title(\"Age Distribution, Conditioned On Gender\")"
   ]
  },
  {
   "cell_type": "code",
   "execution_count": 10,
   "id": "relevant-bailey",
   "metadata": {},
   "outputs": [],
   "source": [
    "# sns.histplot(data, x = 'sign', stat = 'probability')\n",
    "# plt.xticks(rotation=45)\n",
    "# plt.title(\"Distribution of Astrological Signs\")"
   ]
  },
  {
   "cell_type": "code",
   "execution_count": 11,
   "id": "dense-object",
   "metadata": {},
   "outputs": [],
   "source": [
    "# sns.histplot(data, x = 'topic', stat = 'probability')\n",
    "# plt.xticks(rotation=85)\n",
    "# plt.title(\"Distribution of Topics\")"
   ]
  },
  {
   "cell_type": "code",
   "execution_count": 12,
   "id": "cubic-beaver",
   "metadata": {},
   "outputs": [
    {
     "data": {
      "text/plain": [
       "Text(0.5, 1.0, 'Age Distribution, Conditioned On Topic')"
      ]
     },
     "execution_count": 12,
     "metadata": {},
     "output_type": "execute_result"
    },
    {
     "data": {
      "image/png": "[encoded data removed]",
      "text/plain": [
       "<Figure size 432x288 with 1 Axes>"
      ]
     },
     "metadata": {
      "needs_background": "light"
     },
     "output_type": "display_data"
    }
   ],
   "source": [
    "# Age distribution, conditioned on gender\n",
    "sns.histplot(data, x = \"age\", hue = \"topic\", binwidth = 3, stat = \"probability\")\n",
    "plt.title(\"Age Distribution, Conditioned On Topic\")"
   ]
  },
  {
   "cell_type": "code",
   "execution_count": null,
   "id": "unlikely-hormone",
   "metadata": {},
   "outputs": [],
   "source": []
  },
  {
   "cell_type": "markdown",
   "id": "accompanied-payment",
   "metadata": {},
   "source": [
    "# Examples for Human(e) AI plenary meeting"
   ]
  },
  {
   "cell_type": "code",
   "execution_count": 13,
   "id": "optimum-raising",
   "metadata": {},
   "outputs": [],
   "source": [
    "# data_1317 = data[data['age'] < 18]\n",
    "# data_1317.reset_index(drop = True, inplace = True)\n",
    "# data_1317.head()"
   ]
  },
  {
   "cell_type": "code",
   "execution_count": 14,
   "id": "creative-kinase",
   "metadata": {},
   "outputs": [],
   "source": [
    "# data_1317.shape"
   ]
  },
  {
   "cell_type": "code",
   "execution_count": 15,
   "id": "electronic-administrator",
   "metadata": {},
   "outputs": [],
   "source": [
    "# data_1317.text[666]"
   ]
  },
  {
   "cell_type": "code",
   "execution_count": 16,
   "id": "executive-machine",
   "metadata": {},
   "outputs": [],
   "source": [
    "# data_3347 = data[data['age'] > 32]\n",
    "# data_3347.reset_index(drop = True, inplace = True)\n",
    "# data_3347.shape"
   ]
  },
  {
   "cell_type": "code",
   "execution_count": 17,
   "id": "residential-wealth",
   "metadata": {},
   "outputs": [],
   "source": [
    "# data_3347.text[2000]"
   ]
  },
  {
   "cell_type": "markdown",
   "id": "instrumental-comparison",
   "metadata": {},
   "source": [
    "## Data cleaning / preprocessing"
   ]
  },
  {
   "cell_type": "code",
   "execution_count": 18,
   "id": "armed-glasgow",
   "metadata": {},
   "outputs": [],
   "source": [
    "# Removing all unwanted text/characters from data['text'] column\n",
    "\n",
    "# Remove all non-alphabetical characters\n",
    "data['clean_data'] = data['text'].apply(lambda x: re.sub(r'[^A-Za-z]+',' ', x))"
   ]
  },
  {
   "cell_type": "code",
   "execution_count": 19,
   "id": "chicken-kuwait",
   "metadata": {},
   "outputs": [],
   "source": [
    "# Make all letters lower case\n",
    "data['clean_data'] = data['clean_data'].apply(lambda x: x.lower())"
   ]
  },
  {
   "cell_type": "code",
   "execution_count": 20,
   "id": "synthetic-gabriel",
   "metadata": {},
   "outputs": [],
   "source": [
    "# Remove white space from beginning and end of string\n",
    "data['clean_data'] = data['clean_data'].apply(lambda x: x.strip())"
   ]
  },
  {
   "cell_type": "code",
   "execution_count": 21,
   "id": "appropriate-banana",
   "metadata": {},
   "outputs": [
    {
     "name": "stdout",
     "output_type": "stream",
     "text": [
      "67 instances removed.\n"
     ]
    }
   ],
   "source": [
    "# Remove instances empty strings\n",
    "before_rm_empty = len(data)\n",
    "data.drop(data[data.clean_data == ''].index, inplace = True)\n",
    "\n",
    "print(f'{before_rm_empty - len(data)} instances removed.')"
   ]
  },
  {
   "cell_type": "code",
   "execution_count": 22,
   "id": "worldwide-subscription",
   "metadata": {},
   "outputs": [
    {
     "name": "stdout",
     "output_type": "stream",
     "text": [
      "Top lang detection took 109.12626194953918 seconds\n",
      "Top lang prob lang detection took 100.33755493164062 seconds\n"
     ]
    }
   ],
   "source": [
    "# Remove texts that are probably not English by filtering blogs that dont contain at least one of the top 50 most used English words\n",
    "\n",
    "# create dict with most common English words\n",
    "top_en_words = {}\n",
    "with open('../data/wordlists/top1000english.txt') as f:\n",
    "    count = 1\n",
    "    for line in f:\n",
    "        key = line.split()[0].lower()\n",
    "        top_en_words[key] = count\n",
    "        count += 1\n",
    "        \n",
    "        # Stop at top 50 words. Idea taken from DialoGPT paper.\n",
    "        if count > 50:\n",
    "            break\n",
    "\n",
    "\n",
    "data['top_50_en'] = data['clean_data'].apply(lambda x : True if not set(x.split()).isdisjoint(top_en_words) else False)\n",
    "\n",
    "def top_lang_detect(text):\n",
    "    \n",
    "    detected_langs = detect_langs(text)\n",
    "    \n",
    "    return detected_langs[0].lang\n",
    "        \n",
    "\n",
    "def top_prob_detect(text):\n",
    "    \n",
    "    detected_langs = detect_langs(text)\n",
    "    \n",
    "    return detected_langs[0].prob\n",
    "\n",
    "start_time = time.time()\n",
    "data['top_lang'] = data['clean_data'].apply(top_lang_detect)\n",
    "print(f\"Top lang detection took {time.time() - start_time} seconds\")\n",
    "start_time = time.time()\n",
    "data['top_prob'] = data['clean_data'].apply(top_prob_detect)\n",
    "print(f\"Top lang prob lang detection took {time.time() - start_time} seconds\")"
   ]
  },
  {
   "cell_type": "code",
   "execution_count": 23,
   "id": "chief-replication",
   "metadata": {},
   "outputs": [
    {
     "name": "stdout",
     "output_type": "stream",
     "text": [
      "353 instances dropped\n"
     ]
    }
   ],
   "source": [
    "# Remove rows without one of top50 most common english words\n",
    "before_top50_removal = len(data)\n",
    "data.drop(data[data['top_50_en'] == False].index, inplace = True)\n",
    "print(f\"{before_top50_removal - len(data)} instances dropped\")"
   ]
  },
  {
   "cell_type": "code",
   "execution_count": 24,
   "id": "plastic-blond",
   "metadata": {},
   "outputs": [
    {
     "name": "stdout",
     "output_type": "stream",
     "text": [
      "192 instances dropped.\n"
     ]
    }
   ],
   "source": [
    "before_top_lang = len(data)\n",
    "data.drop(data[data['top_lang'] != 'en'].index, inplace = True)\n",
    "print(f'{before_top_lang - len(data)} instances dropped.')"
   ]
  },
  {
   "cell_type": "code",
   "execution_count": 25,
   "id": "downtown-wrong",
   "metadata": {},
   "outputs": [
    {
     "name": "stdout",
     "output_type": "stream",
     "text": [
      "185 instances dropped.\n"
     ]
    }
   ],
   "source": [
    "before_top_prob = len(data)\n",
    "data.drop(data[data['top_prob'] < 0.9].index, inplace = True)\n",
    "print(f'{before_top_prob - len(data)} instances dropped.')"
   ]
  },
  {
   "cell_type": "code",
   "execution_count": 26,
   "id": "expressed-hardwood",
   "metadata": {},
   "outputs": [],
   "source": [
    "# Remove stop words\n",
    "stopwords = set(nltk.corpus.stopwords.words('english')) # use set (hash table) data structure for faster lookup\n",
    "\n",
    "# also add urllink and nbsp to set of words to remove\n",
    "stopwords.update(['urllink', 'nbsp'])\n",
    "\n",
    "data['clean_data'] = data['clean_data'].apply(lambda x: ' '.join([words for words in x.split() if words not in stopwords]))"
   ]
  },
  {
   "cell_type": "code",
   "execution_count": 27,
   "id": "homeless-conversion",
   "metadata": {},
   "outputs": [
    {
     "name": "stdout",
     "output_type": "stream",
     "text": [
      "Unprocessed data =====>                   Passion with CW  Wow, we just came back from seeing The Passion, with my friend CW, who I have written about before, and his wife.  Intense.  Here are a few things that struck me about the movie: - Malchus, the soldier who got his ear cut off, and whom Jesus healed.  What a reaction he had to Jesus.  No more being a soldier for him. - The way Jesus looks at people. - The scene when Mary runs to pick him up after he falls down with the cross, one of the many times, and the flashback to when he was just a little boy.  Heart wrenching. - Simon from Cyrene, who helps him carry the cross all that way.  Did you notice the way he really helped, like there was something significant about it. - The details of all the blood dripping down the crosses.  I had never visualized it like that before.  But it sure must have been bloody. - Two Roman soldiers who stuck around at the end to help get Jesus' body down. Needless to say, I was impacted.  I won't ever think of the Crucifixion the same way.  The thought that kept coming in to my head was that He did all this for me. We didn't really get a chance to talk to C and B about it, but I'm going to make plans to meet up with him again to talk some more.  Interestingly enough, our babysitter IM'd me at around noon saying she had come home sick from school and couldn't baby sit for us.  Was this a significant night for the Kingdom?  Are we still thinking that these things happen by mere coincidence?  Was my crappy review at work this week unrelated to any kind of accusations the Enemy is making against me and what God can do through me?  Let me tell you, Satan is pissed at me.  At us - for being youthworkers that are willing to invest time and energy into helping students become the salt of the earth and the light of the world.  And I say, bring it on.  James 1:2-4; Heb. 10:38-39; Rom. 8:37; 2 Cor. 12:9-10; Gen 50:20; Rom 5:3-5  I didn't come lookin' for trouble And I don't want to fight needlessly But I'm not gonna hide in a bubble If trouble comes for me I can feel my heart beating faster I can tell something's coming down But if it's gonna make me grow stronger then...  Bring it on Let the lightning flash Let the thunder roll Let the storm winds blow Bring it on Let the trouble come Let the hard rain fall Let it make me strong Bring it on  Now, maybe you're thinkin' I'm crazy And maybe I need to explain some things 'Cause I know I've got an enemy waiting Who wants to bring me pain But what he never seems to remember What he means for even God works for good So I will not retreat or surrender  Now, I don't want to sound like some hero 'Cause it's God alone that my hope is in But I'm not gonna run from the very things That would drive me closer to Him So bring it on  Bring it on Let the lightning flash Let the thunder roll Let the storm winds blow Bring it on Let the trouble come Let the hard rain fall Let it make me strong Bring it on - Steven Curtis Chapman                 \n",
      "=================================================================================\n",
      "Cleaned data so far =====> passion cw wow came back seeing passion friend cw written wife intense things struck movie malchus soldier got ear cut jesus healed reaction jesus soldier way jesus looks people scene mary runs pick falls cross one many times flashback little boy heart wrenching simon cyrene helps carry cross way notice way really helped like something significant details blood dripping crosses never visualized like sure must bloody two roman soldiers stuck around end help get jesus body needless say impacted ever think crucifixion way thought kept coming head really get chance talk c b going make plans meet talk interestingly enough babysitter im around noon saying come home sick school baby sit us significant night kingdom still thinking things happen mere coincidence crappy review work week unrelated kind accusations enemy making god let tell satan pissed us youthworkers willing invest time energy helping students become salt earth light world say bring james heb rom cor gen rom come lookin trouble want fight needlessly gonna hide bubble trouble comes feel heart beating faster tell something coming gonna make grow stronger bring let lightning flash let thunder roll let storm winds blow bring let trouble come let hard rain fall let make strong bring maybe thinkin crazy maybe need explain things cause know got enemy waiting wants bring pain never seems remember means even god works good retreat surrender want sound like hero cause god alone hope gonna run things would drive closer bring bring let lightning flash let thunder roll let storm winds blow bring let trouble come let hard rain fall let make strong bring steven curtis chapman\n"
     ]
    }
   ],
   "source": [
    "# Check difference: before\n",
    "print(f\"Unprocessed data =====> {data['text'][0]}\")\n",
    "print(81 * \"=\")\n",
    "# After\n",
    "print(f\"Cleaned data so far =====> {data['clean_data'][0]}\")"
   ]
  },
  {
   "cell_type": "code",
   "execution_count": 28,
   "id": "precise-bread",
   "metadata": {},
   "outputs": [],
   "source": [
    "# Drop columns that are uninformative for writing style (i.e., ID and date)\n",
    "data.drop(['id', 'date'], axis = 1, inplace = True)"
   ]
  },
  {
   "cell_type": "code",
   "execution_count": 29,
   "id": "driven-witch",
   "metadata": {},
   "outputs": [],
   "source": [
    "# Add labels for age categories\n",
    "def age_to_cat(age):\n",
    "    '''Returns age category label for given age number.'''\n",
    "    \n",
    "    if 13 <= int(age) <= 17:\n",
    "        return '13-17'\n",
    "    elif 23 <= int(age) <= 27:\n",
    "        return '23-27'\n",
    "    elif 33 <= int(age):\n",
    "        return '33-47'\n",
    "    else:\n",
    "        print(int(age))\n",
    "        raise ValueError(\"Given age not in one of pre-defined age groups.\")\n",
    "\n",
    "\n",
    "data['age_cat'] = data['age'].apply(age_to_cat)"
   ]
  },
  {
   "cell_type": "code",
   "execution_count": 44,
   "id": "exclusive-breakdown",
   "metadata": {},
   "outputs": [],
   "source": [
    "def topic_to_cat(topic):\n",
    "    \n",
    "    if topic == 'indUnk':\n",
    "        return 'unknown'\n",
    "    elif topic == 'Student':\n",
    "        return 'student'\n",
    "    elif topic == \"Technology\":\n",
    "        return 'technology'\n",
    "    elif topic == 'Education':\n",
    "        return 'education'\n",
    "    elif topic == 'Arts':\n",
    "        return 'arts'\n",
    "    else:\n",
    "        return 'other'\n",
    "\n",
    "data['topic_cat'] = data['topic'].apply(topic_to_cat)"
   ]
  },
  {
   "cell_type": "code",
   "execution_count": 54,
   "id": "reliable-mambo",
   "metadata": {},
   "outputs": [
    {
     "data": {
      "text/plain": [
       "Text(33.0, 0.5, 'Age group')"
      ]
     },
     "execution_count": 54,
     "metadata": {},
     "output_type": "execute_result"
    },
    {
     "data": {
      "image/png": "[encoded data removed]",
      "text/plain": [
       "<Figure size 432x288 with 2 Axes>"
      ]
     },
     "metadata": {
      "needs_background": "light"
     },
     "output_type": "display_data"
    }
   ],
   "source": [
    "sns.heatmap(pd.crosstab(data.age_cat, data.topic_cat), annot=True, fmt='g', cmap = 'Reds')\n",
    "plt.xticks(rotation=45)\n",
    "plt.yticks(rotation = 0)\n",
    "plt.title(\"Blog topics by age group\")\n",
    "plt.xlabel(\"Blog topic\")\n",
    "plt.ylabel(\"Age group\")"
   ]
  },
  {
   "cell_type": "code",
   "execution_count": 58,
   "id": "indie-narrow",
   "metadata": {},
   "outputs": [
    {
     "data": {
      "text/plain": [
       "<sklearn.metrics._plot.confusion_matrix.ConfusionMatrixDisplay at 0x7f80434ca090>"
      ]
     },
     "execution_count": 58,
     "metadata": {},
     "output_type": "execute_result"
    },
    {
     "data": {
      "image/png": "[encoded data removed]",
      "text/plain": [
       "<Figure size 432x288 with 2 Axes>"
      ]
     },
     "metadata": {
      "needs_background": "light"
     },
     "output_type": "display_data"
    }
   ],
   "source": [
    "from sklearn.metrics import ConfusionMatrixDisplay\n",
    "\n",
    "cm = np.array([[0.22797927, 0.09326425, 0.], [0.04663212, 0.50259067, 0.],[0.03626943, 0.05181347, 0.04145078]])\n",
    "ConfusionMatrixDisplay(cm).plot()"
   ]
  },
  {
   "cell_type": "code",
   "execution_count": 39,
   "id": "tired-humor",
   "metadata": {},
   "outputs": [],
   "source": [
    "# Merge all possibly interesting labels into one column\n",
    "data['labels'] = data.apply(lambda col: [col['gender'], str(col['age']), col['topic'], col['sign']], axis = 1)\n",
    "\n",
    "# Only keep age as label\n",
    "# data['labels'] = data.apply(lambda col: [str(col['age'])], axis = 1) # TODO: Why keep age as string?\n",
    "# data['labels'] = data.apply(lambda col: [col['age']], axis = 1)\n",
    "data['labels'] = data.apply(lambda col: [col['age_cat']], axis = 1)"
   ]
  },
  {
   "cell_type": "code",
   "execution_count": 40,
   "id": "fatal-knowing",
   "metadata": {},
   "outputs": [],
   "source": [
    "# Reduce dataframe to only contain cleaned blogs and list of labels\n",
    "data = data[['clean_data', 'labels']]\n"
   ]
  },
  {
   "cell_type": "code",
   "execution_count": 30,
   "id": "regulation-powder",
   "metadata": {},
   "outputs": [],
   "source": [
    "# save pre-processed dataframe to csv\n",
    "# data.to_csv(\"blogger_preprocessed_clean_data_labels.csv\")"
   ]
  },
  {
   "cell_type": "code",
   "execution_count": null,
   "id": "pressing-sector",
   "metadata": {},
   "outputs": [],
   "source": []
  },
  {
   "cell_type": "code",
   "execution_count": null,
   "id": "plain-journey",
   "metadata": {},
   "outputs": [],
   "source": []
  },
  {
   "cell_type": "markdown",
   "id": "advance-roots",
   "metadata": {},
   "source": [
    "### Bi-gram and tri-gram models"
   ]
  },
  {
   "cell_type": "code",
   "execution_count": 32,
   "id": "cross-cookie",
   "metadata": {
    "tags": []
   },
   "outputs": [
    {
     "data": {
      "application/vnd.jupyter.widget-view+json": {
       "model_id": "25d19253c2e346af8cb1595bba921ec2",
       "version_major": 2,
       "version_minor": 0
      },
      "text/plain": [
       "Seed loop.:   0%|          | 0/3 [00:00<?, ?it/s]"
      ]
     },
     "metadata": {},
     "output_type": "display_data"
    },
    {
     "data": {
      "application/vnd.jupyter.widget-view+json": {
       "model_id": "20a89d82375a4dac86648b88fa41d792",
       "version_major": 2,
       "version_minor": 0
      },
      "text/plain": [
       "n gram loop.:   0%|          | 0/4 [00:00<?, ?it/s]"
      ]
     },
     "metadata": {},
     "output_type": "display_data"
    },
    {
     "name": "stdout",
     "output_type": "stream",
     "text": [
      "Fitting model took 1240.5078852176666 seconds.\n",
      "=================================================================================\n",
      "n = 1\n",
      "Accuracy: 0.6057505803046201\n",
      "Most informative features per age-group.\n",
      "13-17: smutty jammi betso jesser hmmn nicki kuronue kairsie linds idk runescape marten feanor roskilly bigsmut tmk arv ceff exun xbubzx\n",
      "23-27: andrei ellmistress mokalus steelez deane jonnie kristyn jerel cyodfs soulsag fonz hakx sanda carolynn xrating damo killy mungo daf baity\n",
      "33-47: quotejill maiko guam katelyn giulio vicente oef nongirlfriend shella heff katya pandyland shep evermean oif vlh jpservicez corsair spanners duf\n",
      "---------------------------------------------------------------------------------\n",
      "=================================================================================\n"
     ]
    },
    {
     "ename": "KeyboardInterrupt",
     "evalue": "",
     "output_type": "error",
     "traceback": [
      "\u001b[0;31m---------------------------------------------------------------------------\u001b[0m",
      "\u001b[0;31mKeyboardInterrupt\u001b[0m                         Traceback (most recent call last)",
      "\u001b[0;32m<ipython-input-32-4fe32eddc65a>\u001b[0m in \u001b[0;36m<module>\u001b[0;34m\u001b[0m\n\u001b[1;32m     79\u001b[0m         \u001b[0mmodel\u001b[0m \u001b[0;34m=\u001b[0m \u001b[0mOneVsRestClassifier\u001b[0m\u001b[0;34m(\u001b[0m\u001b[0mmodel\u001b[0m\u001b[0;34m)\u001b[0m\u001b[0;34m\u001b[0m\u001b[0;34m\u001b[0m\u001b[0m\n\u001b[1;32m     80\u001b[0m \u001b[0;31m#         model = MultiOutputClassifier(model)\u001b[0m\u001b[0;34m\u001b[0m\u001b[0;34m\u001b[0m\u001b[0;34m\u001b[0m\u001b[0m\n\u001b[0;32m---> 81\u001b[0;31m         \u001b[0mmodel\u001b[0m\u001b[0;34m.\u001b[0m\u001b[0mfit\u001b[0m\u001b[0;34m(\u001b[0m\u001b[0mX_train\u001b[0m\u001b[0;34m,\u001b[0m \u001b[0mY_train\u001b[0m\u001b[0;34m)\u001b[0m\u001b[0;34m\u001b[0m\u001b[0;34m\u001b[0m\u001b[0m\n\u001b[0m\u001b[1;32m     82\u001b[0m         \u001b[0mprint\u001b[0m\u001b[0;34m(\u001b[0m\u001b[0;34mf\"Fitting model took {time.time() - start_time} seconds.\"\u001b[0m\u001b[0;34m)\u001b[0m\u001b[0;34m\u001b[0m\u001b[0;34m\u001b[0m\u001b[0m\n\u001b[1;32m     83\u001b[0m \u001b[0;34m\u001b[0m\u001b[0m\n",
      "\u001b[0;32m~/miniconda3/envs/thesis/lib/python3.7/site-packages/sklearn/multiclass.py\u001b[0m in \u001b[0;36mfit\u001b[0;34m(self, X, y)\u001b[0m\n\u001b[1;32m    283\u001b[0m                 \u001b[0;34m\"not %s\"\u001b[0m \u001b[0;34m%\u001b[0m \u001b[0mself\u001b[0m\u001b[0;34m.\u001b[0m\u001b[0mlabel_binarizer_\u001b[0m\u001b[0;34m.\u001b[0m\u001b[0mclasses_\u001b[0m\u001b[0;34m[\u001b[0m\u001b[0mi\u001b[0m\u001b[0;34m]\u001b[0m\u001b[0;34m,\u001b[0m\u001b[0;34m\u001b[0m\u001b[0;34m\u001b[0m\u001b[0m\n\u001b[1;32m    284\u001b[0m                 self.label_binarizer_.classes_[i]])\n\u001b[0;32m--> 285\u001b[0;31m             for i, column in enumerate(columns))\n\u001b[0m\u001b[1;32m    286\u001b[0m \u001b[0;34m\u001b[0m\u001b[0m\n\u001b[1;32m    287\u001b[0m         \u001b[0;32mreturn\u001b[0m \u001b[0mself\u001b[0m\u001b[0;34m\u001b[0m\u001b[0;34m\u001b[0m\u001b[0m\n",
      "\u001b[0;32m~/miniconda3/envs/thesis/lib/python3.7/site-packages/joblib/parallel.py\u001b[0m in \u001b[0;36m__call__\u001b[0;34m(self, iterable)\u001b[0m\n\u001b[1;32m   1042\u001b[0m                 \u001b[0mself\u001b[0m\u001b[0;34m.\u001b[0m\u001b[0m_iterating\u001b[0m \u001b[0;34m=\u001b[0m \u001b[0mself\u001b[0m\u001b[0;34m.\u001b[0m\u001b[0m_original_iterator\u001b[0m \u001b[0;32mis\u001b[0m \u001b[0;32mnot\u001b[0m \u001b[0;32mNone\u001b[0m\u001b[0;34m\u001b[0m\u001b[0;34m\u001b[0m\u001b[0m\n\u001b[1;32m   1043\u001b[0m \u001b[0;34m\u001b[0m\u001b[0m\n\u001b[0;32m-> 1044\u001b[0;31m             \u001b[0;32mwhile\u001b[0m \u001b[0mself\u001b[0m\u001b[0;34m.\u001b[0m\u001b[0mdispatch_one_batch\u001b[0m\u001b[0;34m(\u001b[0m\u001b[0miterator\u001b[0m\u001b[0;34m)\u001b[0m\u001b[0;34m:\u001b[0m\u001b[0;34m\u001b[0m\u001b[0;34m\u001b[0m\u001b[0m\n\u001b[0m\u001b[1;32m   1045\u001b[0m                 \u001b[0;32mpass\u001b[0m\u001b[0;34m\u001b[0m\u001b[0;34m\u001b[0m\u001b[0m\n\u001b[1;32m   1046\u001b[0m \u001b[0;34m\u001b[0m\u001b[0m\n",
      "\u001b[0;32m~/miniconda3/envs/thesis/lib/python3.7/site-packages/joblib/parallel.py\u001b[0m in \u001b[0;36mdispatch_one_batch\u001b[0;34m(self, iterator)\u001b[0m\n\u001b[1;32m    857\u001b[0m                 \u001b[0;32mreturn\u001b[0m \u001b[0;32mFalse\u001b[0m\u001b[0;34m\u001b[0m\u001b[0;34m\u001b[0m\u001b[0m\n\u001b[1;32m    858\u001b[0m             \u001b[0;32melse\u001b[0m\u001b[0;34m:\u001b[0m\u001b[0;34m\u001b[0m\u001b[0;34m\u001b[0m\u001b[0m\n\u001b[0;32m--> 859\u001b[0;31m                 \u001b[0mself\u001b[0m\u001b[0;34m.\u001b[0m\u001b[0m_dispatch\u001b[0m\u001b[0;34m(\u001b[0m\u001b[0mtasks\u001b[0m\u001b[0;34m)\u001b[0m\u001b[0;34m\u001b[0m\u001b[0;34m\u001b[0m\u001b[0m\n\u001b[0m\u001b[1;32m    860\u001b[0m                 \u001b[0;32mreturn\u001b[0m \u001b[0;32mTrue\u001b[0m\u001b[0;34m\u001b[0m\u001b[0;34m\u001b[0m\u001b[0m\n\u001b[1;32m    861\u001b[0m \u001b[0;34m\u001b[0m\u001b[0m\n",
      "\u001b[0;32m~/miniconda3/envs/thesis/lib/python3.7/site-packages/joblib/parallel.py\u001b[0m in \u001b[0;36m_dispatch\u001b[0;34m(self, batch)\u001b[0m\n\u001b[1;32m    775\u001b[0m         \u001b[0;32mwith\u001b[0m \u001b[0mself\u001b[0m\u001b[0;34m.\u001b[0m\u001b[0m_lock\u001b[0m\u001b[0;34m:\u001b[0m\u001b[0;34m\u001b[0m\u001b[0;34m\u001b[0m\u001b[0m\n\u001b[1;32m    776\u001b[0m             \u001b[0mjob_idx\u001b[0m \u001b[0;34m=\u001b[0m \u001b[0mlen\u001b[0m\u001b[0;34m(\u001b[0m\u001b[0mself\u001b[0m\u001b[0;34m.\u001b[0m\u001b[0m_jobs\u001b[0m\u001b[0;34m)\u001b[0m\u001b[0;34m\u001b[0m\u001b[0;34m\u001b[0m\u001b[0m\n\u001b[0;32m--> 777\u001b[0;31m             \u001b[0mjob\u001b[0m \u001b[0;34m=\u001b[0m \u001b[0mself\u001b[0m\u001b[0;34m.\u001b[0m\u001b[0m_backend\u001b[0m\u001b[0;34m.\u001b[0m\u001b[0mapply_async\u001b[0m\u001b[0;34m(\u001b[0m\u001b[0mbatch\u001b[0m\u001b[0;34m,\u001b[0m \u001b[0mcallback\u001b[0m\u001b[0;34m=\u001b[0m\u001b[0mcb\u001b[0m\u001b[0;34m)\u001b[0m\u001b[0;34m\u001b[0m\u001b[0;34m\u001b[0m\u001b[0m\n\u001b[0m\u001b[1;32m    778\u001b[0m             \u001b[0;31m# A job can complete so quickly than its callback is\u001b[0m\u001b[0;34m\u001b[0m\u001b[0;34m\u001b[0m\u001b[0;34m\u001b[0m\u001b[0m\n\u001b[1;32m    779\u001b[0m             \u001b[0;31m# called before we get here, causing self._jobs to\u001b[0m\u001b[0;34m\u001b[0m\u001b[0;34m\u001b[0m\u001b[0;34m\u001b[0m\u001b[0m\n",
      "\u001b[0;32m~/miniconda3/envs/thesis/lib/python3.7/site-packages/joblib/_parallel_backends.py\u001b[0m in \u001b[0;36mapply_async\u001b[0;34m(self, func, callback)\u001b[0m\n\u001b[1;32m    206\u001b[0m     \u001b[0;32mdef\u001b[0m \u001b[0mapply_async\u001b[0m\u001b[0;34m(\u001b[0m\u001b[0mself\u001b[0m\u001b[0;34m,\u001b[0m \u001b[0mfunc\u001b[0m\u001b[0;34m,\u001b[0m \u001b[0mcallback\u001b[0m\u001b[0;34m=\u001b[0m\u001b[0;32mNone\u001b[0m\u001b[0;34m)\u001b[0m\u001b[0;34m:\u001b[0m\u001b[0;34m\u001b[0m\u001b[0;34m\u001b[0m\u001b[0m\n\u001b[1;32m    207\u001b[0m         \u001b[0;34m\"\"\"Schedule a func to be run\"\"\"\u001b[0m\u001b[0;34m\u001b[0m\u001b[0;34m\u001b[0m\u001b[0m\n\u001b[0;32m--> 208\u001b[0;31m         \u001b[0mresult\u001b[0m \u001b[0;34m=\u001b[0m \u001b[0mImmediateResult\u001b[0m\u001b[0;34m(\u001b[0m\u001b[0mfunc\u001b[0m\u001b[0;34m)\u001b[0m\u001b[0;34m\u001b[0m\u001b[0;34m\u001b[0m\u001b[0m\n\u001b[0m\u001b[1;32m    209\u001b[0m         \u001b[0;32mif\u001b[0m \u001b[0mcallback\u001b[0m\u001b[0;34m:\u001b[0m\u001b[0;34m\u001b[0m\u001b[0;34m\u001b[0m\u001b[0m\n\u001b[1;32m    210\u001b[0m             \u001b[0mcallback\u001b[0m\u001b[0;34m(\u001b[0m\u001b[0mresult\u001b[0m\u001b[0;34m)\u001b[0m\u001b[0;34m\u001b[0m\u001b[0;34m\u001b[0m\u001b[0m\n",
      "\u001b[0;32m~/miniconda3/envs/thesis/lib/python3.7/site-packages/joblib/_parallel_backends.py\u001b[0m in \u001b[0;36m__init__\u001b[0;34m(self, batch)\u001b[0m\n\u001b[1;32m    570\u001b[0m         \u001b[0;31m# Don't delay the application, to avoid keeping the input\u001b[0m\u001b[0;34m\u001b[0m\u001b[0;34m\u001b[0m\u001b[0;34m\u001b[0m\u001b[0m\n\u001b[1;32m    571\u001b[0m         \u001b[0;31m# arguments in memory\u001b[0m\u001b[0;34m\u001b[0m\u001b[0;34m\u001b[0m\u001b[0;34m\u001b[0m\u001b[0m\n\u001b[0;32m--> 572\u001b[0;31m         \u001b[0mself\u001b[0m\u001b[0;34m.\u001b[0m\u001b[0mresults\u001b[0m \u001b[0;34m=\u001b[0m \u001b[0mbatch\u001b[0m\u001b[0;34m(\u001b[0m\u001b[0;34m)\u001b[0m\u001b[0;34m\u001b[0m\u001b[0;34m\u001b[0m\u001b[0m\n\u001b[0m\u001b[1;32m    573\u001b[0m \u001b[0;34m\u001b[0m\u001b[0m\n\u001b[1;32m    574\u001b[0m     \u001b[0;32mdef\u001b[0m \u001b[0mget\u001b[0m\u001b[0;34m(\u001b[0m\u001b[0mself\u001b[0m\u001b[0;34m)\u001b[0m\u001b[0;34m:\u001b[0m\u001b[0;34m\u001b[0m\u001b[0;34m\u001b[0m\u001b[0m\n",
      "\u001b[0;32m~/miniconda3/envs/thesis/lib/python3.7/site-packages/joblib/parallel.py\u001b[0m in \u001b[0;36m__call__\u001b[0;34m(self)\u001b[0m\n\u001b[1;32m    261\u001b[0m         \u001b[0;32mwith\u001b[0m \u001b[0mparallel_backend\u001b[0m\u001b[0;34m(\u001b[0m\u001b[0mself\u001b[0m\u001b[0;34m.\u001b[0m\u001b[0m_backend\u001b[0m\u001b[0;34m,\u001b[0m \u001b[0mn_jobs\u001b[0m\u001b[0;34m=\u001b[0m\u001b[0mself\u001b[0m\u001b[0;34m.\u001b[0m\u001b[0m_n_jobs\u001b[0m\u001b[0;34m)\u001b[0m\u001b[0;34m:\u001b[0m\u001b[0;34m\u001b[0m\u001b[0;34m\u001b[0m\u001b[0m\n\u001b[1;32m    262\u001b[0m             return [func(*args, **kwargs)\n\u001b[0;32m--> 263\u001b[0;31m                     for func, args, kwargs in self.items]\n\u001b[0m\u001b[1;32m    264\u001b[0m \u001b[0;34m\u001b[0m\u001b[0m\n\u001b[1;32m    265\u001b[0m     \u001b[0;32mdef\u001b[0m \u001b[0m__reduce__\u001b[0m\u001b[0;34m(\u001b[0m\u001b[0mself\u001b[0m\u001b[0;34m)\u001b[0m\u001b[0;34m:\u001b[0m\u001b[0;34m\u001b[0m\u001b[0;34m\u001b[0m\u001b[0m\n",
      "\u001b[0;32m~/miniconda3/envs/thesis/lib/python3.7/site-packages/joblib/parallel.py\u001b[0m in \u001b[0;36m<listcomp>\u001b[0;34m(.0)\u001b[0m\n\u001b[1;32m    261\u001b[0m         \u001b[0;32mwith\u001b[0m \u001b[0mparallel_backend\u001b[0m\u001b[0;34m(\u001b[0m\u001b[0mself\u001b[0m\u001b[0;34m.\u001b[0m\u001b[0m_backend\u001b[0m\u001b[0;34m,\u001b[0m \u001b[0mn_jobs\u001b[0m\u001b[0;34m=\u001b[0m\u001b[0mself\u001b[0m\u001b[0;34m.\u001b[0m\u001b[0m_n_jobs\u001b[0m\u001b[0;34m)\u001b[0m\u001b[0;34m:\u001b[0m\u001b[0;34m\u001b[0m\u001b[0;34m\u001b[0m\u001b[0m\n\u001b[1;32m    262\u001b[0m             return [func(*args, **kwargs)\n\u001b[0;32m--> 263\u001b[0;31m                     for func, args, kwargs in self.items]\n\u001b[0m\u001b[1;32m    264\u001b[0m \u001b[0;34m\u001b[0m\u001b[0m\n\u001b[1;32m    265\u001b[0m     \u001b[0;32mdef\u001b[0m \u001b[0m__reduce__\u001b[0m\u001b[0;34m(\u001b[0m\u001b[0mself\u001b[0m\u001b[0;34m)\u001b[0m\u001b[0;34m:\u001b[0m\u001b[0;34m\u001b[0m\u001b[0;34m\u001b[0m\u001b[0m\n",
      "\u001b[0;32m~/miniconda3/envs/thesis/lib/python3.7/site-packages/sklearn/utils/fixes.py\u001b[0m in \u001b[0;36m__call__\u001b[0;34m(self, *args, **kwargs)\u001b[0m\n\u001b[1;32m    220\u001b[0m     \u001b[0;32mdef\u001b[0m \u001b[0m__call__\u001b[0m\u001b[0;34m(\u001b[0m\u001b[0mself\u001b[0m\u001b[0;34m,\u001b[0m \u001b[0;34m*\u001b[0m\u001b[0margs\u001b[0m\u001b[0;34m,\u001b[0m \u001b[0;34m**\u001b[0m\u001b[0mkwargs\u001b[0m\u001b[0;34m)\u001b[0m\u001b[0;34m:\u001b[0m\u001b[0;34m\u001b[0m\u001b[0;34m\u001b[0m\u001b[0m\n\u001b[1;32m    221\u001b[0m         \u001b[0;32mwith\u001b[0m \u001b[0mconfig_context\u001b[0m\u001b[0;34m(\u001b[0m\u001b[0;34m**\u001b[0m\u001b[0mself\u001b[0m\u001b[0;34m.\u001b[0m\u001b[0mconfig\u001b[0m\u001b[0;34m)\u001b[0m\u001b[0;34m:\u001b[0m\u001b[0;34m\u001b[0m\u001b[0;34m\u001b[0m\u001b[0m\n\u001b[0;32m--> 222\u001b[0;31m             \u001b[0;32mreturn\u001b[0m \u001b[0mself\u001b[0m\u001b[0;34m.\u001b[0m\u001b[0mfunction\u001b[0m\u001b[0;34m(\u001b[0m\u001b[0;34m*\u001b[0m\u001b[0margs\u001b[0m\u001b[0;34m,\u001b[0m \u001b[0;34m**\u001b[0m\u001b[0mkwargs\u001b[0m\u001b[0;34m)\u001b[0m\u001b[0;34m\u001b[0m\u001b[0;34m\u001b[0m\u001b[0m\n\u001b[0m",
      "\u001b[0;32m~/miniconda3/envs/thesis/lib/python3.7/site-packages/sklearn/multiclass.py\u001b[0m in \u001b[0;36m_fit_binary\u001b[0;34m(estimator, X, y, classes)\u001b[0m\n\u001b[1;32m     83\u001b[0m     \u001b[0;32melse\u001b[0m\u001b[0;34m:\u001b[0m\u001b[0;34m\u001b[0m\u001b[0;34m\u001b[0m\u001b[0m\n\u001b[1;32m     84\u001b[0m         \u001b[0mestimator\u001b[0m \u001b[0;34m=\u001b[0m \u001b[0mclone\u001b[0m\u001b[0;34m(\u001b[0m\u001b[0mestimator\u001b[0m\u001b[0;34m)\u001b[0m\u001b[0;34m\u001b[0m\u001b[0;34m\u001b[0m\u001b[0m\n\u001b[0;32m---> 85\u001b[0;31m         \u001b[0mestimator\u001b[0m\u001b[0;34m.\u001b[0m\u001b[0mfit\u001b[0m\u001b[0;34m(\u001b[0m\u001b[0mX\u001b[0m\u001b[0;34m,\u001b[0m \u001b[0my\u001b[0m\u001b[0;34m)\u001b[0m\u001b[0;34m\u001b[0m\u001b[0;34m\u001b[0m\u001b[0m\n\u001b[0m\u001b[1;32m     86\u001b[0m     \u001b[0;32mreturn\u001b[0m \u001b[0mestimator\u001b[0m\u001b[0;34m\u001b[0m\u001b[0;34m\u001b[0m\u001b[0m\n\u001b[1;32m     87\u001b[0m \u001b[0;34m\u001b[0m\u001b[0m\n",
      "\u001b[0;32m~/miniconda3/envs/thesis/lib/python3.7/site-packages/sklearn/linear_model/_logistic.py\u001b[0m in \u001b[0;36mfit\u001b[0;34m(self, X, y, sample_weight)\u001b[0m\n\u001b[1;32m   1414\u001b[0m                       \u001b[0mpenalty\u001b[0m\u001b[0;34m=\u001b[0m\u001b[0mpenalty\u001b[0m\u001b[0;34m,\u001b[0m \u001b[0mmax_squared_sum\u001b[0m\u001b[0;34m=\u001b[0m\u001b[0mmax_squared_sum\u001b[0m\u001b[0;34m,\u001b[0m\u001b[0;34m\u001b[0m\u001b[0;34m\u001b[0m\u001b[0m\n\u001b[1;32m   1415\u001b[0m                       sample_weight=sample_weight)\n\u001b[0;32m-> 1416\u001b[0;31m             for class_, warm_start_coef_ in zip(classes_, warm_start_coef))\n\u001b[0m\u001b[1;32m   1417\u001b[0m \u001b[0;34m\u001b[0m\u001b[0m\n\u001b[1;32m   1418\u001b[0m         \u001b[0mfold_coefs_\u001b[0m\u001b[0;34m,\u001b[0m \u001b[0m_\u001b[0m\u001b[0;34m,\u001b[0m \u001b[0mn_iter_\u001b[0m \u001b[0;34m=\u001b[0m \u001b[0mzip\u001b[0m\u001b[0;34m(\u001b[0m\u001b[0;34m*\u001b[0m\u001b[0mfold_coefs_\u001b[0m\u001b[0;34m)\u001b[0m\u001b[0;34m\u001b[0m\u001b[0;34m\u001b[0m\u001b[0m\n",
      "\u001b[0;32m~/miniconda3/envs/thesis/lib/python3.7/site-packages/joblib/parallel.py\u001b[0m in \u001b[0;36m__call__\u001b[0;34m(self, iterable)\u001b[0m\n\u001b[1;32m   1039\u001b[0m             \u001b[0;31m# remaining jobs.\u001b[0m\u001b[0;34m\u001b[0m\u001b[0;34m\u001b[0m\u001b[0;34m\u001b[0m\u001b[0m\n\u001b[1;32m   1040\u001b[0m             \u001b[0mself\u001b[0m\u001b[0;34m.\u001b[0m\u001b[0m_iterating\u001b[0m \u001b[0;34m=\u001b[0m \u001b[0;32mFalse\u001b[0m\u001b[0;34m\u001b[0m\u001b[0;34m\u001b[0m\u001b[0m\n\u001b[0;32m-> 1041\u001b[0;31m             \u001b[0;32mif\u001b[0m \u001b[0mself\u001b[0m\u001b[0;34m.\u001b[0m\u001b[0mdispatch_one_batch\u001b[0m\u001b[0;34m(\u001b[0m\u001b[0miterator\u001b[0m\u001b[0;34m)\u001b[0m\u001b[0;34m:\u001b[0m\u001b[0;34m\u001b[0m\u001b[0;34m\u001b[0m\u001b[0m\n\u001b[0m\u001b[1;32m   1042\u001b[0m                 \u001b[0mself\u001b[0m\u001b[0;34m.\u001b[0m\u001b[0m_iterating\u001b[0m \u001b[0;34m=\u001b[0m \u001b[0mself\u001b[0m\u001b[0;34m.\u001b[0m\u001b[0m_original_iterator\u001b[0m \u001b[0;32mis\u001b[0m \u001b[0;32mnot\u001b[0m \u001b[0;32mNone\u001b[0m\u001b[0;34m\u001b[0m\u001b[0;34m\u001b[0m\u001b[0m\n\u001b[1;32m   1043\u001b[0m \u001b[0;34m\u001b[0m\u001b[0m\n",
      "\u001b[0;32m~/miniconda3/envs/thesis/lib/python3.7/site-packages/joblib/parallel.py\u001b[0m in \u001b[0;36mdispatch_one_batch\u001b[0;34m(self, iterator)\u001b[0m\n\u001b[1;32m    857\u001b[0m                 \u001b[0;32mreturn\u001b[0m \u001b[0;32mFalse\u001b[0m\u001b[0;34m\u001b[0m\u001b[0;34m\u001b[0m\u001b[0m\n\u001b[1;32m    858\u001b[0m             \u001b[0;32melse\u001b[0m\u001b[0;34m:\u001b[0m\u001b[0;34m\u001b[0m\u001b[0;34m\u001b[0m\u001b[0m\n\u001b[0;32m--> 859\u001b[0;31m                 \u001b[0mself\u001b[0m\u001b[0;34m.\u001b[0m\u001b[0m_dispatch\u001b[0m\u001b[0;34m(\u001b[0m\u001b[0mtasks\u001b[0m\u001b[0;34m)\u001b[0m\u001b[0;34m\u001b[0m\u001b[0;34m\u001b[0m\u001b[0m\n\u001b[0m\u001b[1;32m    860\u001b[0m                 \u001b[0;32mreturn\u001b[0m \u001b[0;32mTrue\u001b[0m\u001b[0;34m\u001b[0m\u001b[0;34m\u001b[0m\u001b[0m\n\u001b[1;32m    861\u001b[0m \u001b[0;34m\u001b[0m\u001b[0m\n",
      "\u001b[0;32m~/miniconda3/envs/thesis/lib/python3.7/site-packages/joblib/parallel.py\u001b[0m in \u001b[0;36m_dispatch\u001b[0;34m(self, batch)\u001b[0m\n\u001b[1;32m    775\u001b[0m         \u001b[0;32mwith\u001b[0m \u001b[0mself\u001b[0m\u001b[0;34m.\u001b[0m\u001b[0m_lock\u001b[0m\u001b[0;34m:\u001b[0m\u001b[0;34m\u001b[0m\u001b[0;34m\u001b[0m\u001b[0m\n\u001b[1;32m    776\u001b[0m             \u001b[0mjob_idx\u001b[0m \u001b[0;34m=\u001b[0m \u001b[0mlen\u001b[0m\u001b[0;34m(\u001b[0m\u001b[0mself\u001b[0m\u001b[0;34m.\u001b[0m\u001b[0m_jobs\u001b[0m\u001b[0;34m)\u001b[0m\u001b[0;34m\u001b[0m\u001b[0;34m\u001b[0m\u001b[0m\n\u001b[0;32m--> 777\u001b[0;31m             \u001b[0mjob\u001b[0m \u001b[0;34m=\u001b[0m \u001b[0mself\u001b[0m\u001b[0;34m.\u001b[0m\u001b[0m_backend\u001b[0m\u001b[0;34m.\u001b[0m\u001b[0mapply_async\u001b[0m\u001b[0;34m(\u001b[0m\u001b[0mbatch\u001b[0m\u001b[0;34m,\u001b[0m \u001b[0mcallback\u001b[0m\u001b[0;34m=\u001b[0m\u001b[0mcb\u001b[0m\u001b[0;34m)\u001b[0m\u001b[0;34m\u001b[0m\u001b[0;34m\u001b[0m\u001b[0m\n\u001b[0m\u001b[1;32m    778\u001b[0m             \u001b[0;31m# A job can complete so quickly than its callback is\u001b[0m\u001b[0;34m\u001b[0m\u001b[0;34m\u001b[0m\u001b[0;34m\u001b[0m\u001b[0m\n\u001b[1;32m    779\u001b[0m             \u001b[0;31m# called before we get here, causing self._jobs to\u001b[0m\u001b[0;34m\u001b[0m\u001b[0;34m\u001b[0m\u001b[0;34m\u001b[0m\u001b[0m\n",
      "\u001b[0;32m~/miniconda3/envs/thesis/lib/python3.7/site-packages/joblib/_parallel_backends.py\u001b[0m in \u001b[0;36mapply_async\u001b[0;34m(self, func, callback)\u001b[0m\n\u001b[1;32m    206\u001b[0m     \u001b[0;32mdef\u001b[0m \u001b[0mapply_async\u001b[0m\u001b[0;34m(\u001b[0m\u001b[0mself\u001b[0m\u001b[0;34m,\u001b[0m \u001b[0mfunc\u001b[0m\u001b[0;34m,\u001b[0m \u001b[0mcallback\u001b[0m\u001b[0;34m=\u001b[0m\u001b[0;32mNone\u001b[0m\u001b[0;34m)\u001b[0m\u001b[0;34m:\u001b[0m\u001b[0;34m\u001b[0m\u001b[0;34m\u001b[0m\u001b[0m\n\u001b[1;32m    207\u001b[0m         \u001b[0;34m\"\"\"Schedule a func to be run\"\"\"\u001b[0m\u001b[0;34m\u001b[0m\u001b[0;34m\u001b[0m\u001b[0m\n\u001b[0;32m--> 208\u001b[0;31m         \u001b[0mresult\u001b[0m \u001b[0;34m=\u001b[0m \u001b[0mImmediateResult\u001b[0m\u001b[0;34m(\u001b[0m\u001b[0mfunc\u001b[0m\u001b[0;34m)\u001b[0m\u001b[0;34m\u001b[0m\u001b[0;34m\u001b[0m\u001b[0m\n\u001b[0m\u001b[1;32m    209\u001b[0m         \u001b[0;32mif\u001b[0m \u001b[0mcallback\u001b[0m\u001b[0;34m:\u001b[0m\u001b[0;34m\u001b[0m\u001b[0;34m\u001b[0m\u001b[0m\n\u001b[1;32m    210\u001b[0m             \u001b[0mcallback\u001b[0m\u001b[0;34m(\u001b[0m\u001b[0mresult\u001b[0m\u001b[0;34m)\u001b[0m\u001b[0;34m\u001b[0m\u001b[0;34m\u001b[0m\u001b[0m\n",
      "\u001b[0;32m~/miniconda3/envs/thesis/lib/python3.7/site-packages/joblib/_parallel_backends.py\u001b[0m in \u001b[0;36m__init__\u001b[0;34m(self, batch)\u001b[0m\n\u001b[1;32m    570\u001b[0m         \u001b[0;31m# Don't delay the application, to avoid keeping the input\u001b[0m\u001b[0;34m\u001b[0m\u001b[0;34m\u001b[0m\u001b[0;34m\u001b[0m\u001b[0m\n\u001b[1;32m    571\u001b[0m         \u001b[0;31m# arguments in memory\u001b[0m\u001b[0;34m\u001b[0m\u001b[0;34m\u001b[0m\u001b[0;34m\u001b[0m\u001b[0m\n\u001b[0;32m--> 572\u001b[0;31m         \u001b[0mself\u001b[0m\u001b[0;34m.\u001b[0m\u001b[0mresults\u001b[0m \u001b[0;34m=\u001b[0m \u001b[0mbatch\u001b[0m\u001b[0;34m(\u001b[0m\u001b[0;34m)\u001b[0m\u001b[0;34m\u001b[0m\u001b[0;34m\u001b[0m\u001b[0m\n\u001b[0m\u001b[1;32m    573\u001b[0m \u001b[0;34m\u001b[0m\u001b[0m\n\u001b[1;32m    574\u001b[0m     \u001b[0;32mdef\u001b[0m \u001b[0mget\u001b[0m\u001b[0;34m(\u001b[0m\u001b[0mself\u001b[0m\u001b[0;34m)\u001b[0m\u001b[0;34m:\u001b[0m\u001b[0;34m\u001b[0m\u001b[0;34m\u001b[0m\u001b[0m\n",
      "\u001b[0;32m~/miniconda3/envs/thesis/lib/python3.7/site-packages/joblib/parallel.py\u001b[0m in \u001b[0;36m__call__\u001b[0;34m(self)\u001b[0m\n\u001b[1;32m    261\u001b[0m         \u001b[0;32mwith\u001b[0m \u001b[0mparallel_backend\u001b[0m\u001b[0;34m(\u001b[0m\u001b[0mself\u001b[0m\u001b[0;34m.\u001b[0m\u001b[0m_backend\u001b[0m\u001b[0;34m,\u001b[0m \u001b[0mn_jobs\u001b[0m\u001b[0;34m=\u001b[0m\u001b[0mself\u001b[0m\u001b[0;34m.\u001b[0m\u001b[0m_n_jobs\u001b[0m\u001b[0;34m)\u001b[0m\u001b[0;34m:\u001b[0m\u001b[0;34m\u001b[0m\u001b[0;34m\u001b[0m\u001b[0m\n\u001b[1;32m    262\u001b[0m             return [func(*args, **kwargs)\n\u001b[0;32m--> 263\u001b[0;31m                     for func, args, kwargs in self.items]\n\u001b[0m\u001b[1;32m    264\u001b[0m \u001b[0;34m\u001b[0m\u001b[0m\n\u001b[1;32m    265\u001b[0m     \u001b[0;32mdef\u001b[0m \u001b[0m__reduce__\u001b[0m\u001b[0;34m(\u001b[0m\u001b[0mself\u001b[0m\u001b[0;34m)\u001b[0m\u001b[0;34m:\u001b[0m\u001b[0;34m\u001b[0m\u001b[0;34m\u001b[0m\u001b[0m\n",
      "\u001b[0;32m~/miniconda3/envs/thesis/lib/python3.7/site-packages/joblib/parallel.py\u001b[0m in \u001b[0;36m<listcomp>\u001b[0;34m(.0)\u001b[0m\n\u001b[1;32m    261\u001b[0m         \u001b[0;32mwith\u001b[0m \u001b[0mparallel_backend\u001b[0m\u001b[0;34m(\u001b[0m\u001b[0mself\u001b[0m\u001b[0;34m.\u001b[0m\u001b[0m_backend\u001b[0m\u001b[0;34m,\u001b[0m \u001b[0mn_jobs\u001b[0m\u001b[0;34m=\u001b[0m\u001b[0mself\u001b[0m\u001b[0;34m.\u001b[0m\u001b[0m_n_jobs\u001b[0m\u001b[0;34m)\u001b[0m\u001b[0;34m:\u001b[0m\u001b[0;34m\u001b[0m\u001b[0;34m\u001b[0m\u001b[0m\n\u001b[1;32m    262\u001b[0m             return [func(*args, **kwargs)\n\u001b[0;32m--> 263\u001b[0;31m                     for func, args, kwargs in self.items]\n\u001b[0m\u001b[1;32m    264\u001b[0m \u001b[0;34m\u001b[0m\u001b[0m\n\u001b[1;32m    265\u001b[0m     \u001b[0;32mdef\u001b[0m \u001b[0m__reduce__\u001b[0m\u001b[0;34m(\u001b[0m\u001b[0mself\u001b[0m\u001b[0;34m)\u001b[0m\u001b[0;34m:\u001b[0m\u001b[0;34m\u001b[0m\u001b[0;34m\u001b[0m\u001b[0m\n",
      "\u001b[0;32m~/miniconda3/envs/thesis/lib/python3.7/site-packages/sklearn/utils/fixes.py\u001b[0m in \u001b[0;36m__call__\u001b[0;34m(self, *args, **kwargs)\u001b[0m\n\u001b[1;32m    220\u001b[0m     \u001b[0;32mdef\u001b[0m \u001b[0m__call__\u001b[0m\u001b[0;34m(\u001b[0m\u001b[0mself\u001b[0m\u001b[0;34m,\u001b[0m \u001b[0;34m*\u001b[0m\u001b[0margs\u001b[0m\u001b[0;34m,\u001b[0m \u001b[0;34m**\u001b[0m\u001b[0mkwargs\u001b[0m\u001b[0;34m)\u001b[0m\u001b[0;34m:\u001b[0m\u001b[0;34m\u001b[0m\u001b[0;34m\u001b[0m\u001b[0m\n\u001b[1;32m    221\u001b[0m         \u001b[0;32mwith\u001b[0m \u001b[0mconfig_context\u001b[0m\u001b[0;34m(\u001b[0m\u001b[0;34m**\u001b[0m\u001b[0mself\u001b[0m\u001b[0;34m.\u001b[0m\u001b[0mconfig\u001b[0m\u001b[0;34m)\u001b[0m\u001b[0;34m:\u001b[0m\u001b[0;34m\u001b[0m\u001b[0;34m\u001b[0m\u001b[0m\n\u001b[0;32m--> 222\u001b[0;31m             \u001b[0;32mreturn\u001b[0m \u001b[0mself\u001b[0m\u001b[0;34m.\u001b[0m\u001b[0mfunction\u001b[0m\u001b[0;34m(\u001b[0m\u001b[0;34m*\u001b[0m\u001b[0margs\u001b[0m\u001b[0;34m,\u001b[0m \u001b[0;34m**\u001b[0m\u001b[0mkwargs\u001b[0m\u001b[0;34m)\u001b[0m\u001b[0;34m\u001b[0m\u001b[0;34m\u001b[0m\u001b[0m\n\u001b[0m",
      "\u001b[0;32m~/miniconda3/envs/thesis/lib/python3.7/site-packages/sklearn/linear_model/_logistic.py\u001b[0m in \u001b[0;36m_logistic_regression_path\u001b[0;34m(X, y, pos_class, Cs, fit_intercept, max_iter, tol, verbose, solver, coef, class_weight, dual, penalty, intercept_scaling, multi_class, random_state, check_input, max_squared_sum, sample_weight, l1_ratio)\u001b[0m\n\u001b[1;32m    759\u001b[0m                 \u001b[0mfunc\u001b[0m\u001b[0;34m,\u001b[0m \u001b[0mw0\u001b[0m\u001b[0;34m,\u001b[0m \u001b[0mmethod\u001b[0m\u001b[0;34m=\u001b[0m\u001b[0;34m\"L-BFGS-B\"\u001b[0m\u001b[0;34m,\u001b[0m \u001b[0mjac\u001b[0m\u001b[0;34m=\u001b[0m\u001b[0;32mTrue\u001b[0m\u001b[0;34m,\u001b[0m\u001b[0;34m\u001b[0m\u001b[0;34m\u001b[0m\u001b[0m\n\u001b[1;32m    760\u001b[0m                 \u001b[0margs\u001b[0m\u001b[0;34m=\u001b[0m\u001b[0;34m(\u001b[0m\u001b[0mX\u001b[0m\u001b[0;34m,\u001b[0m \u001b[0mtarget\u001b[0m\u001b[0;34m,\u001b[0m \u001b[0;36m1.\u001b[0m \u001b[0;34m/\u001b[0m \u001b[0mC\u001b[0m\u001b[0;34m,\u001b[0m \u001b[0msample_weight\u001b[0m\u001b[0;34m)\u001b[0m\u001b[0;34m,\u001b[0m\u001b[0;34m\u001b[0m\u001b[0;34m\u001b[0m\u001b[0m\n\u001b[0;32m--> 761\u001b[0;31m                 \u001b[0moptions\u001b[0m\u001b[0;34m=\u001b[0m\u001b[0;34m{\u001b[0m\u001b[0;34m\"iprint\"\u001b[0m\u001b[0;34m:\u001b[0m \u001b[0miprint\u001b[0m\u001b[0;34m,\u001b[0m \u001b[0;34m\"gtol\"\u001b[0m\u001b[0;34m:\u001b[0m \u001b[0mtol\u001b[0m\u001b[0;34m,\u001b[0m \u001b[0;34m\"maxiter\"\u001b[0m\u001b[0;34m:\u001b[0m \u001b[0mmax_iter\u001b[0m\u001b[0;34m}\u001b[0m\u001b[0;34m\u001b[0m\u001b[0;34m\u001b[0m\u001b[0m\n\u001b[0m\u001b[1;32m    762\u001b[0m             )\n\u001b[1;32m    763\u001b[0m             n_iter_i = _check_optimize_result(\n",
      "\u001b[0;32m~/miniconda3/envs/thesis/lib/python3.7/site-packages/scipy/optimize/_minimize.py\u001b[0m in \u001b[0;36mminimize\u001b[0;34m(fun, x0, args, method, jac, hess, hessp, bounds, constraints, tol, callback, options)\u001b[0m\n\u001b[1;32m    618\u001b[0m     \u001b[0;32melif\u001b[0m \u001b[0mmeth\u001b[0m \u001b[0;34m==\u001b[0m \u001b[0;34m'l-bfgs-b'\u001b[0m\u001b[0;34m:\u001b[0m\u001b[0;34m\u001b[0m\u001b[0;34m\u001b[0m\u001b[0m\n\u001b[1;32m    619\u001b[0m         return _minimize_lbfgsb(fun, x0, args, jac, bounds,\n\u001b[0;32m--> 620\u001b[0;31m                                 callback=callback, **options)\n\u001b[0m\u001b[1;32m    621\u001b[0m     \u001b[0;32melif\u001b[0m \u001b[0mmeth\u001b[0m \u001b[0;34m==\u001b[0m \u001b[0;34m'tnc'\u001b[0m\u001b[0;34m:\u001b[0m\u001b[0;34m\u001b[0m\u001b[0;34m\u001b[0m\u001b[0m\n\u001b[1;32m    622\u001b[0m         return _minimize_tnc(fun, x0, args, jac, bounds, callback=callback,\n",
      "\u001b[0;32m~/miniconda3/envs/thesis/lib/python3.7/site-packages/scipy/optimize/lbfgsb.py\u001b[0m in \u001b[0;36m_minimize_lbfgsb\u001b[0;34m(fun, x0, args, jac, bounds, disp, maxcor, ftol, gtol, eps, maxfun, maxiter, iprint, callback, maxls, finite_diff_rel_step, **unknown_options)\u001b[0m\n\u001b[1;32m    351\u001b[0m         _lbfgsb.setulb(m, x, low_bnd, upper_bnd, nbd, f, g, factr,\n\u001b[1;32m    352\u001b[0m                        \u001b[0mpgtol\u001b[0m\u001b[0;34m,\u001b[0m \u001b[0mwa\u001b[0m\u001b[0;34m,\u001b[0m \u001b[0miwa\u001b[0m\u001b[0;34m,\u001b[0m \u001b[0mtask\u001b[0m\u001b[0;34m,\u001b[0m \u001b[0miprint\u001b[0m\u001b[0;34m,\u001b[0m \u001b[0mcsave\u001b[0m\u001b[0;34m,\u001b[0m \u001b[0mlsave\u001b[0m\u001b[0;34m,\u001b[0m\u001b[0;34m\u001b[0m\u001b[0;34m\u001b[0m\u001b[0m\n\u001b[0;32m--> 353\u001b[0;31m                        isave, dsave, maxls)\n\u001b[0m\u001b[1;32m    354\u001b[0m         \u001b[0mtask_str\u001b[0m \u001b[0;34m=\u001b[0m \u001b[0mtask\u001b[0m\u001b[0;34m.\u001b[0m\u001b[0mtobytes\u001b[0m\u001b[0;34m(\u001b[0m\u001b[0;34m)\u001b[0m\u001b[0;34m\u001b[0m\u001b[0;34m\u001b[0m\u001b[0m\n\u001b[1;32m    355\u001b[0m         \u001b[0;32mif\u001b[0m \u001b[0mtask_str\u001b[0m\u001b[0;34m.\u001b[0m\u001b[0mstartswith\u001b[0m\u001b[0;34m(\u001b[0m\u001b[0;34mb'FG'\u001b[0m\u001b[0;34m)\u001b[0m\u001b[0;34m:\u001b[0m\u001b[0;34m\u001b[0m\u001b[0;34m\u001b[0m\u001b[0m\n",
      "\u001b[0;31mKeyboardInterrupt\u001b[0m: "
     ]
    }
   ],
   "source": [
    "# results dict\n",
    "accs_all = {}\n",
    "class_labels_list = ['13-17', '23-27', '33-47']\n",
    "\n",
    "# Evaluate performance\n",
    "def print_evaluation_scores(labels, preds):\n",
    "    print(f\"Accuracy: {accuracy_score(labels, preds)}\")\n",
    "    #print(f\"F1 score: {f1_score(labels, preds, average = 'micro')}\")\n",
    "    #print(f\"Average precision: {average_precision_score(labels, preds, average = 'micro')}\")\n",
    "    #print(f\"Average recall: {recall_score(labels, preds, average = 'micro')}\")\n",
    "\n",
    "def print_top_n(vectorizer, clf, class_labels, n_feat = 10):\n",
    "    \"\"\"Prints features with the highest coefficient values, per class\"\"\"\n",
    "    feature_names = vectorizer.get_feature_names()\n",
    "    for i, class_label in enumerate(class_labels):\n",
    "        topn = np.argsort(clf.estimators_[i].coef_)[0][-n_feat:]\n",
    "        print(\"%s: %s\" % (class_label,\n",
    "              \" \".join(feature_names[j] for j in topn)))\n",
    "\n",
    "def most_informative_feature_for_class(vectorizer, classifier, class_labels, n=10):\n",
    "    #labelid = list(classifier.classes_).index(classlabel)\n",
    "    feature_names = vectorizer.get_feature_names()\n",
    "    for i, class_label in enumerate(class_labels):\n",
    "        topn = sorted(zip(classifier.estimators_[i].coef_[0], feature_names))[-n:]\n",
    "        \n",
    "        for coef, feat in topn:\n",
    "            print(class_label, feat, coef)\n",
    "\n",
    "\n",
    "for seed in tqdm(seeds, desc = \"Seed loop.\"):\n",
    "    \n",
    "    # set seed for reproducibility\n",
    "    np.random.seed(seed)\n",
    "        \n",
    "    # shuffle dataframe\n",
    "    data = data.sample(frac=1).reset_index(drop=True)\n",
    "    \n",
    "    \n",
    "    for n in tqdm(n_grams, desc = \"n gram loop.\"):\n",
    "    \n",
    "        # Split data into features/ X and labels / Y \n",
    "        X = data['clean_data']\n",
    "        Y = data['labels']\n",
    "\n",
    "        # n-gram model\n",
    "        vectorizer = CountVectorizer(binary = True, ngram_range = (1, n))\n",
    "\n",
    "        # fit model\n",
    "        X = vectorizer.fit_transform(X)\n",
    "\n",
    "        # # check out a sample of the uni- and bigrams\n",
    "        # print(vectorizer.get_feature_names()[:10])\n",
    "\n",
    "        # Get label counts\n",
    "        label_counts = {}\n",
    "\n",
    "        for labels in data.labels.values:\n",
    "            for label in labels:\n",
    "                if label in label_counts:\n",
    "                    label_counts[label] += 1\n",
    "                else:\n",
    "                    label_counts[label] = 1\n",
    "\n",
    "        label_counts\n",
    "\n",
    "        # Binarize the labels for prediction \n",
    "        binarizer = MultiLabelBinarizer(classes = sorted(label_counts.keys()))\n",
    "\n",
    "        Y = binarizer.fit_transform(data.labels)\n",
    "\n",
    "        label_counts.keys()\n",
    "\n",
    "        # Split data into train and test sets\n",
    "        X_train, X_test, Y_train, Y_test = train_test_split(X, Y, test_size = TEST_SPLIT)\n",
    "\n",
    "        # Fit logistic regression model\n",
    "        start_time = time.time()\n",
    "        model = LogisticRegression(solver = 'lbfgs', multi_class='ovr', max_iter = 1000000)\n",
    "        model = OneVsRestClassifier(model)\n",
    "#         model = MultiOutputClassifier(model)\n",
    "        model.fit(X_train, Y_train)\n",
    "        print(f\"Fitting model took {time.time() - start_time} seconds.\")\n",
    "\n",
    "        # make predictions on test set\n",
    "        Y_pred = model.predict(X_test)\n",
    "\n",
    "        Y_pred_inversed = binarizer.inverse_transform(Y_pred)\n",
    "        Y_test_inversed = binarizer.inverse_transform(Y_test)\n",
    "        \n",
    "        print(\"=\" * 81)\n",
    "\n",
    "        print(f\"n = {n}\")\n",
    "        print_evaluation_scores(Y_test, Y_pred)\n",
    "        \n",
    "        if n in accs_all:\n",
    "            accs_all[n].append(accuracy_score(Y_test, Y_pred))\n",
    "        else:\n",
    "            accs_all[n] = [accuracy_score(Y_test, Y_pred)]\n",
    "        \n",
    "        # Print most informative features\n",
    "        print(\"Most informative features per age-group.\")\n",
    "        print_top_n(vectorizer = vectorizer, clf = model, class_labels = class_labels_list, n_feat = 20)\n",
    "        \n",
    "        print(\"-\" * 81)\n",
    "#         print(\"Some failure cases.\")\n",
    "# #         predictions = model.predict(inputs)\n",
    "#         for i, (x, pred, label) in enumerate(zip(X_test, Y_pred, Y_test)):\n",
    "#             if (pred != label).any():\n",
    "#                 print(f\"pred: {pred}\")\n",
    "#                 print(f\"label: {label}\")\n",
    "#                 pred_cat = binarizer.classes_[np.where(pred == 1)[0][0]]\n",
    "#                 label_cat = binarizer.classes_[np.where(label == 1)[0][0]]\n",
    "#                 print(data['clean_data'][i], 'has been classified as ', pred_cat, 'and should be ', label_cat)\n",
    "        \n",
    "        print(\"=\" * 81)\n",
    "        \n",
    "#         most_informative_feature_for_class(vectorizer = vectorizer, classifier = model, class_labels = class_labels_list, n=10)"
   ]
  },
  {
   "cell_type": "code",
   "execution_count": null,
   "id": "offshore-finnish",
   "metadata": {},
   "outputs": [],
   "source": [
    "# print(\"OvR\")\n",
    "# accs_all_ovr"
   ]
  },
  {
   "cell_type": "code",
   "execution_count": null,
   "id": "short-threat",
   "metadata": {},
   "outputs": [],
   "source": [
    "# print(\"MO\")\n",
    "# accs_all_mo"
   ]
  },
  {
   "cell_type": "markdown",
   "id": "dirty-report",
   "metadata": {},
   "source": [
    "# Plot results"
   ]
  },
  {
   "cell_type": "code",
   "execution_count": null,
   "id": "athletic-warner",
   "metadata": {},
   "outputs": [],
   "source": [
    "def plot_accuracies(accs):\n",
    "    \n",
    "    means = [np.mean(accs[n]) for n in range(1, len(accs) + 1)]\n",
    "    print(np.mean(means))\n",
    "    stds = [np.std(accs[n]) for n in range(1, len(accs) + 1)]\n",
    "    \n",
    "    x_pos = np.arange(len(accs))\n",
    "    x_labels = list(accs.keys())\n",
    "    \n",
    "    # Build the plot\n",
    "    fig, ax = plt.subplots()\n",
    "    ax.bar(x_pos, means, yerr=stds, align='center', alpha=0.5, ecolor='black', capsize=10)\n",
    "    ax.set_ylabel('Mean classification accuracy.')\n",
    "    ax.set_xlabel(\"$n$\")\n",
    "    ax.set_xticks(x_pos)\n",
    "    ax.set_xticklabels(x_labels)\n",
    "    ax.set_title('Age group prediction accuracy for various n-gram models.')\n",
    "    ax.yaxis.grid(True)\n",
    "\n",
    "    # Save the figure and show\n",
    "    plt.tight_layout()\n",
    "    #plt.savefig('bar_plot_with_error_bars.png')\n",
    "    plt.show()"
   ]
  },
  {
   "cell_type": "code",
   "execution_count": null,
   "id": "polish-scoop",
   "metadata": {},
   "outputs": [],
   "source": [
    "plot_accuracies(accs_all)"
   ]
  }
 ],
 "metadata": {
  "kernelspec": {
   "display_name": "Python 3",
   "language": "python",
   "name": "python3"
  },
  "language_info": {
   "codemirror_mode": {
    "name": "ipython",
    "version": 3
   },
   "file_extension": ".py",
   "mimetype": "text/x-python",
   "name": "python",
   "nbconvert_exporter": "python",
   "pygments_lexer": "ipython3",
   "version": "3.7.10"
  }
 },
 "nbformat": 4,
 "nbformat_minor": 5
}
